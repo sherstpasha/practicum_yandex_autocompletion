{
 "cells": [
  {
   "cell_type": "markdown",
   "id": "c50a7393",
   "metadata": {},
   "source": [
    "# 1 Предобработка"
   ]
  },
  {
   "cell_type": "markdown",
   "id": "73c1284c",
   "metadata": {},
   "source": [
    "### 1.1 Очистка и нормализация текста"
   ]
  },
  {
   "cell_type": "code",
   "execution_count": 1,
   "id": "14056af5",
   "metadata": {},
   "outputs": [
    {
     "data": {
      "text/html": [
       "<div>\n",
       "<style scoped>\n",
       "    .dataframe tbody tr th:only-of-type {\n",
       "        vertical-align: middle;\n",
       "    }\n",
       "\n",
       "    .dataframe tbody tr th {\n",
       "        vertical-align: top;\n",
       "    }\n",
       "\n",
       "    .dataframe thead th {\n",
       "        text-align: right;\n",
       "    }\n",
       "</style>\n",
       "<table border=\"1\" class=\"dataframe\">\n",
       "  <thead>\n",
       "    <tr style=\"text-align: right;\">\n",
       "      <th></th>\n",
       "      <th>target</th>\n",
       "      <th>id</th>\n",
       "      <th>date</th>\n",
       "      <th>flag</th>\n",
       "      <th>user</th>\n",
       "      <th>text</th>\n",
       "    </tr>\n",
       "  </thead>\n",
       "  <tbody>\n",
       "    <tr>\n",
       "      <th>0</th>\n",
       "      <td>0</td>\n",
       "      <td>1467810369</td>\n",
       "      <td>Mon Apr 06 22:19:45 PDT 2009</td>\n",
       "      <td>NO_QUERY</td>\n",
       "      <td>_TheSpecialOne_</td>\n",
       "      <td>@switchfoot http://twitpic.com/2y1zl - Awww, t...</td>\n",
       "    </tr>\n",
       "    <tr>\n",
       "      <th>1</th>\n",
       "      <td>0</td>\n",
       "      <td>1467810672</td>\n",
       "      <td>Mon Apr 06 22:19:49 PDT 2009</td>\n",
       "      <td>NO_QUERY</td>\n",
       "      <td>scotthamilton</td>\n",
       "      <td>is upset that he can't update his Facebook by ...</td>\n",
       "    </tr>\n",
       "    <tr>\n",
       "      <th>2</th>\n",
       "      <td>0</td>\n",
       "      <td>1467810917</td>\n",
       "      <td>Mon Apr 06 22:19:53 PDT 2009</td>\n",
       "      <td>NO_QUERY</td>\n",
       "      <td>mattycus</td>\n",
       "      <td>@Kenichan I dived many times for the ball. Man...</td>\n",
       "    </tr>\n",
       "    <tr>\n",
       "      <th>3</th>\n",
       "      <td>0</td>\n",
       "      <td>1467811184</td>\n",
       "      <td>Mon Apr 06 22:19:57 PDT 2009</td>\n",
       "      <td>NO_QUERY</td>\n",
       "      <td>ElleCTF</td>\n",
       "      <td>my whole body feels itchy and like its on fire</td>\n",
       "    </tr>\n",
       "    <tr>\n",
       "      <th>4</th>\n",
       "      <td>0</td>\n",
       "      <td>1467811193</td>\n",
       "      <td>Mon Apr 06 22:19:57 PDT 2009</td>\n",
       "      <td>NO_QUERY</td>\n",
       "      <td>Karoli</td>\n",
       "      <td>@nationwideclass no, it's not behaving at all....</td>\n",
       "    </tr>\n",
       "  </tbody>\n",
       "</table>\n",
       "</div>"
      ],
      "text/plain": [
       "   target          id                          date      flag  \\\n",
       "0       0  1467810369  Mon Apr 06 22:19:45 PDT 2009  NO_QUERY   \n",
       "1       0  1467810672  Mon Apr 06 22:19:49 PDT 2009  NO_QUERY   \n",
       "2       0  1467810917  Mon Apr 06 22:19:53 PDT 2009  NO_QUERY   \n",
       "3       0  1467811184  Mon Apr 06 22:19:57 PDT 2009  NO_QUERY   \n",
       "4       0  1467811193  Mon Apr 06 22:19:57 PDT 2009  NO_QUERY   \n",
       "\n",
       "              user                                               text  \n",
       "0  _TheSpecialOne_  @switchfoot http://twitpic.com/2y1zl - Awww, t...  \n",
       "1    scotthamilton  is upset that he can't update his Facebook by ...  \n",
       "2         mattycus  @Kenichan I dived many times for the ball. Man...  \n",
       "3          ElleCTF    my whole body feels itchy and like its on fire   \n",
       "4           Karoli  @nationwideclass no, it's not behaving at all....  "
      ]
     },
     "execution_count": 1,
     "metadata": {},
     "output_type": "execute_result"
    }
   ],
   "source": [
    "import pandas as pd\n",
    "\n",
    "data = pd.read_csv(\n",
    "    r'data\\raw_dataset.csv',\n",
    "    encoding='latin-1',\n",
    "    header=None,\n",
    "    names=['target', 'id', 'date', 'flag', 'user', 'text']\n",
    ")\n",
    "\n",
    "data.head()"
   ]
  },
  {
   "cell_type": "code",
   "execution_count": 2,
   "id": "55a48509",
   "metadata": {},
   "outputs": [
    {
     "data": {
      "text/plain": [
       "<Axes: >"
      ]
     },
     "execution_count": 2,
     "metadata": {},
     "output_type": "execute_result"
    },
    {
     "data": {
      "image/png": "[encoded data removed]",
      "text/plain": [
       "<Figure size 640x480 with 1 Axes>"
      ]
     },
     "metadata": {},
     "output_type": "display_data"
    }
   ],
   "source": [
    "data['target'].hist()"
   ]
  },
  {
   "cell_type": "markdown",
   "id": "3a3fddc1",
   "metadata": {},
   "source": [
    "В нижний регистр"
   ]
  },
  {
   "cell_type": "code",
   "execution_count": 3,
   "id": "250fb531",
   "metadata": {},
   "outputs": [
    {
     "data": {
      "text/plain": [
       "0          @switchfoot http://twitpic.com/2y1zl - awww, t...\n",
       "1          is upset that he can't update his facebook by ...\n",
       "2          @kenichan i dived many times for the ball. man...\n",
       "3            my whole body feels itchy and like its on fire \n",
       "4          @nationwideclass no, it's not behaving at all....\n",
       "                                 ...                        \n",
       "1599995    just woke up. having no school is the best fee...\n",
       "1599996    thewdb.com - very cool to hear old walt interv...\n",
       "1599997    are you ready for your mojo makeover? ask me f...\n",
       "1599998    happy 38th birthday to my boo of alll time!!! ...\n",
       "1599999    happy #charitytuesday @thenspcc @sparkscharity...\n",
       "Name: text, Length: 1600000, dtype: object"
      ]
     },
     "execution_count": 3,
     "metadata": {},
     "output_type": "execute_result"
    }
   ],
   "source": [
    "text_lower = data['text'].str.lower()\n",
    "\n",
    "text_lower"
   ]
  },
  {
   "cell_type": "markdown",
   "id": "131d80ea",
   "metadata": {},
   "source": [
    "Удаление ссылок итд + удаление дубликатов"
   ]
  },
  {
   "cell_type": "code",
   "execution_count": 4,
   "id": "4b6f641e",
   "metadata": {},
   "outputs": [
    {
     "data": {
      "text/plain": [
       "0          aww, that's a bummer. you shoulda got david ca...\n",
       "1          is upset that he can't update his facebook by ...\n",
       "2          i dived many times for the ball. managed to sa...\n",
       "3             my whole body feels itchy and like its on fire\n",
       "4          no, it's not behaving at all. i'm mad. why am ...\n",
       "                                 ...                        \n",
       "1526945    yeah, that does work better than just waiting ...\n",
       "1526946    just woke up. having no school is the best fee...\n",
       "1526947                very cool to hear old walt interviews\n",
       "1526948    are you ready for your mojo makeover ask me fo...\n",
       "1526949    happy 38th birthday to my boo of all time tupa...\n",
       "Name: text, Length: 1526950, dtype: object"
      ]
     },
     "execution_count": 4,
     "metadata": {},
     "output_type": "execute_result"
    }
   ],
   "source": [
    "import re\n",
    "\n",
    "# ссылки и домены\n",
    "URL_RE = re.compile(r'(https?://\\S+|www\\.\\S+|[a-zA-Z0-9\\-]+\\.[a-zA-Z]{2,})')\n",
    "# упоминания\n",
    "MENTION_RE = re.compile(r'@\\w+')\n",
    "# хэштеги\n",
    "HASHTAG_RE = re.compile(r'#\\w+')\n",
    "\n",
    "# оставить только латиницу/цифры/пробелы и пунктуацию . , '\n",
    "ALLOWED_CHARS_RE = re.compile(r\"[^a-z0-9\\s\\.\\,']\")\n",
    "\n",
    "# схлопывание повторов:\n",
    "# 1) буквы: 3+ одинаковых подряд -> 2 (cooool -> coool -> coo)\n",
    "LETTER_RUNS_RE = re.compile(r'([a-z])\\1{2,}')\n",
    "# 2) пунктуация . , ' : 2+ -> 1 (.... -> .  ,, -> ,  ''' -> ')\n",
    "PUNCT_RUNS_RE = re.compile(r\"([\\.\\,'])\\1+\")\n",
    "\n",
    "def clean(text: str) -> str:\n",
    "    if not isinstance(text, str):\n",
    "        return \"\"\n",
    "    text = text.lower()\n",
    "\n",
    "    # убрать ссылки/упоминания/хэштеги\n",
    "    text = URL_RE.sub(\" \", text)\n",
    "    text = MENTION_RE.sub(\" \", text)\n",
    "    text = HASHTAG_RE.sub(\" \", text)\n",
    "\n",
    "    # убрать все, кроме [a-z0-9] пробелов и . , '\n",
    "    text = ALLOWED_CHARS_RE.sub(\" \", text)\n",
    "\n",
    "    # схлопнуть длинные буквы (оставить максимум две подряд)\n",
    "    text = LETTER_RUNS_RE.sub(r\"\\1\\1\", text)\n",
    "\n",
    "    # схлопнуть повторы пунктуации до одной\n",
    "    text = PUNCT_RUNS_RE.sub(r\"\\1\", text)\n",
    "\n",
    "    # убрать лишние пробелы\n",
    "    text = re.sub(r\"\\s+\", \" \", text).strip()\n",
    "    return text\n",
    "\n",
    "\n",
    "\n",
    "clean_text_lower = text_lower.apply(clean)\n",
    "clean_text_lower = clean_text_lower.drop_duplicates().reset_index(drop=True)\n",
    "\n",
    "clean_text_lower"
   ]
  },
  {
   "cell_type": "markdown",
   "id": "27b081e2",
   "metadata": {},
   "source": [
    "Статистика"
   ]
  },
  {
   "cell_type": "code",
   "execution_count": 5,
   "id": "74a29053",
   "metadata": {},
   "outputs": [
    {
     "name": "stdout",
     "output_type": "stream",
     "text": [
      "count    19904174.00\n",
      "mean            4.09\n",
      "std             2.15\n",
      "min             1.00\n",
      "25%             3.00\n",
      "50%             4.00\n",
      "75%             5.00\n",
      "max           112.00\n",
      "Name: word_len, dtype: float64\n"
     ]
    },
    {
     "data": {
      "text/plain": [
       "<Axes: >"
      ]
     },
     "execution_count": 5,
     "metadata": {},
     "output_type": "execute_result"
    },
    {
     "data": {
      "image/png": "[encoded data removed]",
      "text/plain": [
       "<Figure size 640x480 with 1 Axes>"
      ]
     },
     "metadata": {},
     "output_type": "display_data"
    }
   ],
   "source": [
    "lengths = [len(w) for s in clean_text_lower for w in s.split()]\n",
    "\n",
    "\n",
    "print(pd.Series(lengths, name=\"word_len\").describe().round(2))\n",
    "pd.Series(lengths, name=\"word_len\").hist(bins = 100)"
   ]
  },
  {
   "cell_type": "markdown",
   "id": "d66551f6",
   "metadata": {},
   "source": [
    "### 1.2 Токенизация"
   ]
  },
  {
   "cell_type": "code",
   "execution_count": null,
   "id": "d695e79d",
   "metadata": {},
   "outputs": [
    {
     "name": "stdout",
     "output_type": "stream",
     "text": [
      "[[707, 86, 11, 326, 338, 257, 275, 31647, 13, 345, 815, 64, 1392, 21970, 1097, 81, 286, 2368, 1110, 284, 466, 340, 13, 288, 50256], [271, 9247, 326, 339, 460, 470, 4296, 465, 23960, 416, 36634, 340, 13, 290, 1244, 3960, 355, 257, 1255, 1524, 1909, 635, 13, 33367, 50256], [72, 288, 1572, 867, 1661, 329, 262, 2613, 13, 5257, 284, 3613, 2026, 262, 1334, 467, 503, 286, 22303, 50256], [1820, 2187, 1767, 5300, 340, 29658, 290, 588, 663, 319, 2046, 50256], [3919, 11, 340, 338, 407, 37722, 379, 477, 13, 1312, 1101, 8805, 13, 1521, 716, 1312, 994, 780, 1312, 460, 470, 766, 345, 477, 625, 612, 13, 50256], [1662, 262, 2187, 5462, 50256], [31227, 257, 16225, 50256], [20342, 890, 640, 645, 766, 3763, 13, 29424, 257, 1643, 837, 8807, 257, 1643, 19462, 837, 1312, 1101, 3734, 5176, 837, 703, 338, 345, 50256], [77, 3008, 484, 1422, 470, 423, 340, 50256], [4188, 502, 38779, 8607, 50256], [16469, 2270, 287, 8631, 1748, 13, 340, 338, 6729, 278, 50256], [72, 655, 302, 41159, 616, 11368, 50256], [72, 3521, 470, 6842, 284, 2342, 340, 13, 290, 1312, 1807, 262, 334, 64, 2994, 373, 18997, 764, 764, 764, 764, 764, 50256], [270, 340, 9853, 11, 4686, 74, 1521, 1312, 750, 2035, 13, 345, 1239, 1561, 284, 502, 7471, 50256], [72, 561, 1053, 587, 262, 717, 11, 475, 1312, 1422, 470, 423, 257, 2485, 13, 407, 1107, 996, 11, 1976, 330, 3013, 88, 1082, 338, 655, 257, 2255, 2395, 565, 593, 13, 50256], [72, 4601, 1312, 1392, 284, 2342, 340, 351, 345, 1312, 2051, 345, 290, 703, 373, 262, 19245, 50256], [71, 692, 271, 6, 1918, 3715, 481, 5938, 502, 15052, 284, 2342, 319, 2646, 266, 563, 318, 13445, 2005, 407, 503, 783, 50256], [10755, 284, 2393, 5704, 50256], [993, 71, 220, 425, 1464, 2227, 284, 766, 5602, 1842, 262, 21751, 50256], [1219, 13674, 13, 547, 345, 7722, 503, 286, 262, 11564, 3084, 11758, 50256], [72, 373, 503, 749, 286, 262, 1110, 523, 1422, 470, 651, 881, 1760, 50256], [505, 286, 616, 1545, 1444, 502, 11, 290, 1965, 284, 1826, 351, 607, 379, 3095, 19272, 1909, 13, 4360, 1312, 1053, 645, 640, 19680, 50256], [72, 22979, 345, 257, 12187, 475, 1312, 379, 276, 340, 50256], [5661, 1285, 318, 407, 1016, 355, 1312, 550, 10719, 50256], [2436, 10471, 1398, 379, 807, 9439, 50256], [72, 5465, 618, 1312, 423, 284, 869, 290, 7765, 661, 510, 50256], [3137, 1016, 284, 3960, 3589, 284, 3993, 706, 4964, 1667, 1636, 290, 502, 13, 50256], [320, 6507, 783, 50256], [78, 1219, 13, 19462, 326, 10287, 14485, 13, 290, 12876, 1312, 1839, 470, 466, 340, 757, 523, 10287, 14485, 1839, 470, 651, 8805, 757, 50256], [1326, 71, 13, 2048, 18854, 318, 262, 6631, 13, 428, 2610, 3011, 502, 19095, 790, 640, 13, 50256], [11246, 16, 19957, 616, 1848, 319, 4031, 783, 1312, 423, 284, 787, 257, 649, 530, 50256], [72, 765, 284, 467, 284, 7719, 7733, 290, 35096, 475, 3684, 1211, 1286, 645, 6594, 612, 1312, 743, 275, 1016, 284, 262, 530, 287, 44763, 9096, 287, 743, 996, 50256], [28895, 11029, 287, 373, 281, 3038, 9439, 475, 20060, 326, 340, 783, 318, 407, 13, 34109, 287, 262, 3329, 290, 670, 287, 262, 6672, 50256], [707, 68, 1312, 1842, 345, 1165, 352, 716, 994, 1312, 2051, 345, 50256], [72, 3960, 616, 355, 666, 2951, 284, 3993, 379, 1755, 50256], [482, 1312, 1101, 6639, 290, 3377, 281, 1711, 5586, 287, 262, 14643, 2728, 1312, 373, 1165, 6639, 284, 1302, 290, 2714, 736, 262, 279, 4649, 588, 257, 24092, 13, 3996, 783, 50256], [359, 1560, 21349, 262, 1621, 1568, 407, 257, 922, 1110, 290, 2801, 307, 670, 259, 329, 588, 1115, 517, 2250, 13, 50256], [41599, 3996, 640, 1625, 994, 308, 16762, 352, 50256], [72, 836, 470, 2035, 13, 663, 31193, 13, 1312, 836, 470, 892, 1312, 772, 765, 284, 760, 546, 262, 3988, 287, 6050, 33964, 13, 50256], [3077, 13, 1398, 807, 1105, 13, 670, 1105, 513, 13, 11550, 513, 642, 393, 718, 13, 788, 1398, 718, 838, 13, 1194, 1110, 326, 338, 8066, 6129, 416, 13, 1312, 2051, 616, 11077, 50256], [27485, 836, 470, 1254, 588, 1972, 510, 1909, 13, 475, 1392, 284, 2050, 284, 329, 284, 4491, 8516, 8472, 2814, 13, 50256], [258, 338, 262, 1738, 329, 262, 573, 446, 305, 862, 319, 616, 10047, 262, 691, 530, 508, 468, 1576, 286, 502, 284, 2270, 616, 2612, 50256], [82, 324, 11, 6507, 11, 6507, 13, 1312, 836, 470, 760, 1521, 475, 1312, 5465, 428, 4203, 1312, 18869, 3993, 290, 1312, 991, 460, 470, 50256], [707, 86, 1312, 523, 78, 4601, 1312, 373, 612, 284, 766, 345, 3443, 6792, 545, 6507, 326, 1312, 6825, 340, 50256], [7207, 278, 16039, 13, 655, 2982, 546, 326, 491, 1590, 2576, 338, 1767, 852, 1043, 13, 703, 6507, 616, 2612, 9457, 329, 326, 1641, 13, 50256], [88, 323, 1312, 1101, 3772, 329, 345, 351, 534, 1693, 475, 326, 635, 1724, 1342, 640, 329, 502, 290, 345, 13, 50256], [3137, 10667, 616, 2836, 15264, 319, 616, 2042, 8396, 11, 340, 3073, 588, 262, 665, 15230, 318, 991, 5836, 389, 279, 489, 991, 1719, 386, 1443, 266, 275, 14542, 290, 334, 2340, 50256], [1219, 582, 13, 9776, 6953, 278, 705, 82, 277, 1015, 1353, 284, 5806, 284, 257, 3249, 13, 22999, 340, 50256], [271, 29381, 6507, 546, 300, 18526, 290, 6072, 305, 7163, 510, 13, 50256], [1219, 1312, 1101, 523, 7926, 1312, 1422, 470, 892, 546, 326, 878, 38814, 278, 13, 50256], [36654, 3903, 1410, 705, 64, 4858, 5445, 6991, 6, 2884, 991, 4953, 329, 18729, 356, 389, 50256], [42773, 11, 10860, 286, 20616, 422, 345, 11, 743, 423, 284, 3684, 950, 523, 1312, 460, 766, 616, 2460, 6, 12665, 11, 345, 821, 28659, 262, 3745, 257, 1256, 13, 50256], [454, 22045, 290, 9015, 389, 2263, 835, 88, 1165, 890, 284, 25834, 50256], [1996, 14600, 5205, 2691, 257, 1178, 331, 3808, 2084, 13, 40653, 14997, 11, 290, 783, 1312, 6044, 262, 1438, 286, 262, 2524, 13, 50256], [72, 761, 257, 16225, 50256], [1662, 1654, 644, 484, 389, 11, 691, 326, 484, 389, 1426, 355, 881, 355, 1312, 765, 284, 11, 1312, 17666, 892, 460, 3292, 1497, 1664, 6798, 7926, 290, 88, 50256], [72, 5465, 618, 326, 4325, 13, 50256], [72, 423, 257, 6507, 4203, 326, 288, 7826, 318, 407, 1016, 284, 905, 510, 1312, 17753, 910, 996, 11, 345, 1549, 892, 517, 2523, 561, 779, 2647, 422, 262, 983, 13, 8085, 50256], [6724, 13, 5892, 7370, 9439, 50256], [3003, 750, 334, 1445, 284, 1312, 1807, 334, 547, 1541, 287, 45647, 13, 289, 3020, 13, 4738, 334, 1043, 502, 13, 9675, 284, 3285, 331, 263, 1804, 880, 13, 50256], [72, 2051, 616, 26692, 18, 11, 340, 338, 503, 286, 5810, 266, 7140, 64, 2712, 423, 345, 763, 1496, 705, 18041, 319, 262, 6450, 6, 50256], [3137, 4305, 262, 7647, 1256, 286, 670, 50256], [1169, 1204, 318, 3608, 13, 475, 407, 329, 502, 13, 50256], [82, 324, 306, 996, 11, 1312, 1053, 1239, 7891, 284, 1998, 262, 1281, 763, 17506, 17779, 878, 11, 290, 783, 1312, 1239, 481, 13, 50256], [72, 550, 884, 257, 3621, 1110, 13, 1165, 2089, 262, 6290, 2058, 287, 9439, 379, 642, 321, 50256], [18820, 2089, 1312, 1839, 470, 307, 1088, 1312, 2626, 616, 1693, 290, 460, 470, 772, 1414, 616, 3072, 2855, 300, 2611, 78, 3253, 427, 6238, 50256], [67, 6475, 736, 284, 1524, 9439, 50256], [5908, 3946, 11, 645, 1637, 13, 703, 287, 262, 5968, 318, 949, 7699, 994, 604, 277, 6, 77, 537, 4105, 281, 1711, 50256], [1662, 8097, 13, 766, 345, 2582, 50256], [363, 15977, 11, 1312, 2497, 262, 2038, 1929, 1000, 477, 1110, 1909, 13, 50256], [1219, 42254, 13, 18396, 1312, 17666, 1107, 804, 379, 795, 4556, 2130, 1139, 17207, 1312, 2087, 345, 13, 7926, 1312, 1101, 523, 7818, 379, 326, 13, 1312, 761, 257, 1461, 510, 50256], [72, 1101, 1654, 345, 821, 826, 13, 1312, 761, 284, 923, 1762, 503, 351, 345, 290, 262, 299, 1134, 1706, 13, 393, 474, 1144, 379, 1551, 50256], [72, 1107, 5465, 703, 661, 6249, 616, 11760, 12854, 318, 4084, 407, 13400, 50256], [1360, 76, 37629, 1909, 373, 279, 7487, 1702, 1616, 11, 512, 24496, 22078, 13, 392, 2042, 1597, 24359, 290, 11620, 10012, 9670, 750, 407, 1057, 656, 597, 13779, 4813, 13, 50256], [22850, 1839, 470, 345, 905, 616, 4067, 50256], [3919, 35715, 616, 3072, 25760, 588, 35405, 13, 50256], [1820, 50085, 318, 8564, 546, 884, 3651, 13, 19032, 11, 339, 1549, 290, 502, 1549, 307, 9675, 284, 766, 534, 25152, 355, 499, 13, 31894, 318, 991, 3253, 349, 13, 50256], [3919, 649, 269, 13396, 9975, 13, 277, 4029, 50256], [72, 892, 616, 5101, 389, 19597, 422, 20790, 50256], [86, 623, 364, 1521, 2130, 326, 334, 588, 523, 881, 460, 787, 345, 523, 19283, 287, 257, 6626, 384, 535, 623, 764, 19095, 764, 50256], [42832, 2582, 13, 1312, 655, 5465, 2282, 33847, 290, 766, 345, 9439, 329, 262, 1755, 13, 50256], [3137, 1392, 2956, 13129, 11, 883, 33164, 1107, 389, 24479, 11, 10195, 1312, 1541, 21765, 290, 3432, 329, 6164, 50256], [3927, 259, 6, 262, 22513, 50256], [1326, 1165, 50256], [11043, 77, 13, 1312, 836, 470, 423, 597, 30860, 616, 30860, 3526, 318, 13894, 50256], [18108, 257, 11975, 379, 262, 651, 774, 4489, 64, 11, 475, 24702, 326, 673, 338, 550, 257, 19597, 13589, 477, 1110, 13, 340, 338, 655, 1972, 4785, 1165, 50256], [20342, 6825, 21349, 379, 262, 3249, 7418, 285, 1689, 50256], [1820, 11814, 1820, 20406, 13, 1312, 4240, 611, 262, 5328, 31707, 468, 1997, 284, 466, 351, 340, 611, 523, 11, 340, 338, 1762, 11, 1312, 651, 340, 11, 2245, 9216, 50256], [22850, 318, 340, 1464, 262, 3735, 3392, 50256], [41599, 11, 42666, 616, 1145, 10072, 82, 502, 1165, 13, 36308, 11, 484, 821, 16039, 826, 783, 13, 38779, 993, 12236, 13, 6181, 6487, 50256], [72, 815, 423, 3432, 517, 3241, 618, 356, 5017, 2825, 25444, 287, 616, 35699, 1486, 1398, 287, 43485, 50256], [19103, 3462, 616, 275, 1110, 836, 470, 760, 644, 362, 466, 50256], [36672, 3676, 261, 262, 18639, 50256], [1050, 323, 329, 502, 3387, 11, 262, 409, 318, 11123, 284, 923, 427, 379, 616, 674, 11903, 352, 301, 10955, 2151, 13, 644, 257, 29757, 13, 290, 1312, 991, 423, 257, 24902, 50256], [71, 3020, 837, 466, 334, 1107, 2883, 852, 351, 683, 611, 262, 2761, 389, 1165, 38491, 334, 815, 892, 1243, 517, 837, 1064, 2130, 334, 2339, 50256], [2536, 1304, 318, 257, 6639, 1310, 26188, 50256], [568, 374, 2349, 68, 11, 2164, 558, 13, 49484, 467, 2876, 303, 338, 2151, 393, 407, 21098, 1201, 663, 1396, 353, 1312, 266, 429, 275, 1498, 362, 466, 881, 475, 11752, 71, 880, 13, 50256], [20342, 11, 1312, 1682, 1839, 530, 286, 616, 19096, 20354, 1165, 2089, 340, 2492, 470, 262, 530, 329, 1637, 50256], [5832, 836, 470, 1061, 502, 11, 2035, 290, 1312, 670, 329, 345, 50256], [64, 2089, 299, 578, 329, 262, 4004, 3466, 6468, 4951, 290, 599, 433, 504, 4425, 13, 262, 299, 578, 503, 351, 256, 13, 86, 13, 373, 922, 13, 50256]]\n",
      "# твитов: 1526949\n",
      "min/median/mean/max: 2 / 16.0 / 17.3 / 99\n",
      "p50: 16\n",
      "p75: 24\n",
      "p90: 30\n",
      "p95: 32\n",
      "p99: 37\n"
     ]
    }
   ],
   "source": [
    "from transformers import AutoTokenizer\n",
    "import numpy as np\n",
    "\n",
    "\n",
    "tokenizer = AutoTokenizer.from_pretrained(\"distilgpt2\", use_fast=True)        \n",
    "tokenizer.add_special_tokens({\"pad_token\": \"<PAD>\"})     \n",
    "EOS = tokenizer.eos_token_id\n",
    "\n",
    "texts = clean_text_lower.astype(str).tolist()\n",
    "\n",
    "enc = tokenizer(\n",
    "    texts,\n",
    "    add_special_tokens=False,\n",
    "    padding=False,\n",
    "    truncation=False          \n",
    ")\n",
    "\n",
    "sequences = []\n",
    "for ids in enc[\"input_ids\"]:\n",
    "    if not ids:\n",
    "        continue\n",
    "    sequences.append(ids + [EOS])\n",
    "\n",
    "lens = np.array([len(s) for s in sequences])\n",
    "print(f\"Количество твитов: {len(lens)}\")\n",
    "print(f\"min/median/mean/max: {lens.min()} / {np.median(lens):.1f} / {lens.mean():.1f} / {lens.max()}\")\n",
    "for q in [50, 75, 90, 95, 99]:\n",
    "    print(f\"p{q}: {int(np.percentile(lens, q))}\")"
   ]
  },
  {
   "cell_type": "markdown",
   "id": "44539494",
   "metadata": {},
   "source": [
    "### 1.3 Разделение на трейн, валидацию и тест"
   ]
  },
  {
   "cell_type": "code",
   "execution_count": 10,
   "id": "69d8a8f0",
   "metadata": {},
   "outputs": [],
   "source": [
    "import json\n",
    "from sklearn.model_selection import train_test_split\n",
    "\n",
    "train_seqs, temp = train_test_split(sequences, test_size=0.2, random_state=42, shuffle=True)\n",
    "val_seqs,   test_seqs = train_test_split(temp, test_size=0.5, random_state=42, shuffle=True)\n",
    "\n",
    "\n",
    "with open(\"data/train.json\", \"w\", encoding=\"utf-8\") as f:\n",
    "    json.dump(train_seqs, f, ensure_ascii=False, separators=(\",\", \":\"))\n",
    "with open(\"data/val.json\", \"w\", encoding=\"utf-8\") as f:\n",
    "    json.dump(val_seqs, f, ensure_ascii=False, separators=(\",\", \":\"))\n",
    "with open(\"data/test.json\", \"w\", encoding=\"utf-8\") as f:\n",
    "    json.dump(test_seqs, f, ensure_ascii=False, separators=(\",\", \":\"))"
   ]
  },
  {
   "cell_type": "markdown",
   "id": "22caa2ad",
   "metadata": {},
   "source": [
    "## 2 Обучение модели"
   ]
  },
  {
   "cell_type": "code",
   "execution_count": null,
   "id": "f876c2a7",
   "metadata": {},
   "outputs": [
    {
     "name": "stdout",
     "output_type": "stream",
     "text": [
      "cuda\n"
     ]
    },
    {
     "name": "stderr",
     "output_type": "stream",
     "text": [
      "C:\\Users\\pasha\\AppData\\Local\\Temp\\ipykernel_16664\\1477669984.py:62: FutureWarning: `torch.cuda.amp.GradScaler(args...)` is deprecated. Please use `torch.amp.GradScaler('cuda', args...)` instead.\n",
      "  scaler = torch.cuda.amp.GradScaler()\n",
      "C:\\Users\\pasha\\AppData\\Local\\Temp\\ipykernel_16664\\1477669984.py:86: FutureWarning: `torch.cuda.amp.autocast(args...)` is deprecated. Please use `torch.amp.autocast('cuda', args...)` instead.\n",
      "  with torch.no_grad(), torch.cuda.amp.autocast():\n",
      "Epoch 0 valid: 100%|██████████| 323/323 [00:21<00:00, 15.08batch/s]\n"
     ]
    },
    {
     "name": "stdout",
     "output_type": "stream",
     "text": [
      "epoch 0 valid loss: 95.6863 | ppl: 359759550238347806462976876271250148687872.00 | acc@1: 0.0002 | acc@5: 0.0006\n"
     ]
    },
    {
     "name": "stderr",
     "output_type": "stream",
     "text": [
      "Epoch 0 train:   0%|          | 0/2576 [00:00<?, ?batch/s]C:\\Users\\pasha\\AppData\\Local\\Temp\\ipykernel_16664\\1477669984.py:125: FutureWarning: `torch.cuda.amp.autocast(args...)` is deprecated. Please use `torch.amp.autocast('cuda', args...)` instead.\n",
      "  with torch.cuda.amp.autocast():\n",
      "Epoch 0 train:  34%|███▍      | 881/2576 [01:45<03:17,  8.58batch/s]"
     ]
    }
   ],
   "source": [
    "import pandas as pd\n",
    "import ast\n",
    "import os\n",
    "from tqdm import tqdm\n",
    "import numpy as np\n",
    "import torch\n",
    "from torch import nn\n",
    "from torch.utils.data import DataLoader\n",
    "from torch.utils.tensorboard import SummaryWriter\n",
    "from transformers import AutoTokenizer\n",
    "\n",
    "from src.dataset import NextTokenDataset\n",
    "from src.model import RNNAutocompletion\n",
    "import json\n",
    "\n",
    "\n",
    "\n",
    "TRAIN_DATA_PATH = r\"data\\train.json\"\n",
    "VALID_DATA_PATH = r\"data\\val.json\"\n",
    "EXP_NAME = \"exp1\"\n",
    "CHUNK_LEN = 32\n",
    "STRIDE = CHUNK_LEN\n",
    "EPOCHS = 100\n",
    "BATCH_SIZE = 256\n",
    "LR = 2e-3\n",
    "DIM = 512\n",
    "NUM_LAYERS = 2\n",
    "DROPOUT = 0.3\n",
    "\n",
    "with open(TRAIN_DATA_PATH, \"r\", encoding=\"utf-8\") as f:\n",
    "    train_sequences = json.load(f)  \n",
    "\n",
    "with open(VALID_DATA_PATH, \"r\", encoding=\"utf-8\") as f:\n",
    "    valid_sequences = json.load(f)\n",
    "\n",
    "device = torch.device(\"cuda\" if torch.cuda.is_available() else \"cpu\")\n",
    "print(device)\n",
    "\n",
    "tokenizer = AutoTokenizer.from_pretrained(\"distilgpt2\", use_fast=True)\n",
    "tokenizer.add_special_tokens({\"pad_token\": \"<PAD>\"})\n",
    "pad_token_id = tokenizer.pad_token_id\n",
    "eos_token_id = tokenizer.eos_token_id\n",
    "vocab_size = len(tokenizer)\n",
    "\n",
    "dataset_train = NextTokenDataset(train_sequences, chunk_length=CHUNK_LEN, stride=STRIDE, offset=0)\n",
    "dataset_val = NextTokenDataset(valid_sequences, chunk_length=CHUNK_LEN, stride=STRIDE, offset=0)\n",
    "\n",
    "dl_train = DataLoader(dataset_train, batch_size=BATCH_SIZE, shuffle=True, num_workers=4, pin_memory=True)\n",
    "dl_val = DataLoader(dataset_val, batch_size=BATCH_SIZE, shuffle=False, num_workers=4, pin_memory=True)\n",
    "\n",
    "model = RNNAutocompletion(\n",
    "    vocab_size=vocab_size,\n",
    "    pad_token_id=pad_token_id,\n",
    "    eos_token_id=eos_token_id,\n",
    "    dim=DIM,\n",
    "    num_layers=NUM_LAYERS,\n",
    "    dropout=DROPOUT\n",
    "    ).to(device)\n",
    "\n",
    "optimizer = torch.optim.AdamW(model.parameters(), lr=LR, weight_decay=1e-5)\n",
    "criterion = nn.CrossEntropyLoss()\n",
    "scaler = torch.cuda.amp.GradScaler()\n",
    "scheduler = torch.optim.lr_scheduler.ReduceLROnPlateau(\n",
    "    optimizer,\n",
    "    mode=\"min\",\n",
    "    factor=0.5,\n",
    "    patience=2,\n",
    "    min_lr=1e-4,\n",
    ")\n",
    "\n",
    "save_path = os.path.join(\"exp\", EXP_NAME)\n",
    "os.makedirs(f\"{save_path}/weights\", exist_ok=True)\n",
    "writer = SummaryWriter(log_dir=f\"{save_path}/logs\")\n",
    "\n",
    "best_val_loss = float(\"inf\")\n",
    "train_step = 0\n",
    "\n",
    "for epoch in range(EPOCHS):\n",
    "\n",
    "    model.eval()\n",
    "    val_losses = []\n",
    "    val_correct = 0\n",
    "    val_correct_top5 = 0\n",
    "    val_total = 0\n",
    "\n",
    "    with torch.no_grad(), torch.amp.autocast():\n",
    "        for batch in tqdm(dl_val, desc=f\"Epoch {epoch} valid\", unit=\"batch\"):\n",
    "            input_ids = batch[\"input_ids\"].to(device)\n",
    "            labels = batch[\"labels\"].to(device)\n",
    "\n",
    "            logits, _ = model(input_ids)\n",
    "            loss = criterion(logits.view(-1, logits.size(-1)), labels.view(-1))\n",
    "            val_losses.append(loss.item())\n",
    "\n",
    "            preds = logits.argmax(dim=-1)\n",
    "            val_correct += (preds == labels).sum().item()\n",
    "            val_total += labels.numel()\n",
    "\n",
    "            _, top5 = logits.topk(5, dim=-1)\n",
    "            val_correct_top5 += (top5 == labels.unsqueeze(-1)).any(dim=-1).sum().item()\n",
    "\n",
    "    val_loss = np.mean(val_losses)\n",
    "    val_ppl = np.exp(val_loss)\n",
    "    val_acc = val_correct / val_total\n",
    "    val_acc_top5 = val_correct_top5 / val_total\n",
    "\n",
    "    print(f\"epoch {epoch} valid loss: {val_loss:.4f} | ppl: {val_ppl:.2f} \"f\"| acc@1: {val_acc:.4f} | acc@5: {val_acc_top5:.4f}\")\n",
    "    writer.add_scalar(\"Loss/valid\", val_loss, epoch)\n",
    "    writer.add_scalar(\"Perplexity/valid\", val_ppl, epoch)\n",
    "    writer.add_scalar(\"Acc/valid\",  val_acc,  epoch)\n",
    "    writer.add_scalar(\"Acc/valid_top5\", val_acc_top5, epoch)\n",
    "\n",
    "    if val_loss < best_val_loss:\n",
    "        best_val_loss = val_loss\n",
    "        torch.save(model.state_dict(), f\"{save_path}/weights/best.pt\")\n",
    "\n",
    "    model.train()\n",
    "    train_losses = []\n",
    "\n",
    "    for batch in tqdm(dl_train, desc=f\"Epoch {epoch} train\", unit=\"batch\"):\n",
    "        input_ids = batch[\"input_ids\"].to(device)\n",
    "        labels = batch[\"labels\"].to(device)\n",
    "\n",
    "        optimizer.zero_grad()\n",
    "        with torch.cuda.amp.autocast():\n",
    "            logits, _ = model(input_ids)\n",
    "            loss = criterion(logits.view(-1, logits.size(-1)), labels.view(-1))\n",
    "\n",
    "        scaler.scale(loss).backward()\n",
    "        scaler.unscale_(optimizer)                                \n",
    "        torch.nn.utils.clip_grad_norm_(model.parameters(), 1.0) \n",
    "        scaler.step(optimizer)                                    \n",
    "        scaler.update()\n",
    "\n",
    "        train_losses.append(loss.item())\n",
    "        writer.add_scalar(\"Loss/train_step\", loss.item(), train_step)\n",
    "        scheduler.step(val_loss)\n",
    "        train_step += 1\n",
    "\n",
    "    train_loss = np.mean(train_losses)\n",
    "    print(f\"epoch {epoch} train loss: {train_loss:.4f}\")\n",
    "    writer.add_scalar(\"Loss/train\", train_loss, epoch)\n",
    "    writer.add_scalar(\"LR\", scheduler.get_last_lr()[0], train_step)\n",
    "\n",
    "\n",
    "torch.save(model.state_dict(), f\"{save_path}/weights/last.pt\")\n",
    "writer.close()"
   ]
  },
  {
   "cell_type": "code",
   "execution_count": null,
   "id": "8bf3db42",
   "metadata": {},
   "outputs": [
    {
     "name": "stdout",
     "output_type": "stream",
     "text": [
      "cuda\n"
     ]
    },
    {
     "name": "stderr",
     "output_type": "stream",
     "text": [
      "C:\\Users\\pasha\\AppData\\Local\\Temp\\ipykernel_19796\\1981359067.py:50: FutureWarning: `torch.cuda.amp.autocast(args...)` is deprecated. Please use `torch.amp.autocast('cuda', args...)` instead.\n",
      "  with torch.no_grad(), torch.cuda.amp.autocast():\n",
      "Test: 100%|██████████| 2411/2411 [00:55<00:00, 43.11batch/s]"
     ]
    },
    {
     "name": "stdout",
     "output_type": "stream",
     "text": [
      "Test acc@1: 0.2533 | acc@5: 0.4754\n"
     ]
    },
    {
     "name": "stderr",
     "output_type": "stream",
     "text": [
      "\n"
     ]
    }
   ],
   "source": [
    "from tqdm import tqdm\n",
    "import pandas as pd\n",
    "import ast\n",
    "from transformers import AutoTokenizer\n",
    "import torch\n",
    "from torch.utils.data import DataLoader\n",
    "\n",
    "from src.model import RNNAutocompletion\n",
    "from src.dataset import NextTokenDataset\n",
    "\n",
    "\n",
    "device = torch.device(\"cuda\" if torch.cuda.is_available() else \"cpu\")\n",
    "print(device)\n",
    "\n",
    "DIM = 512\n",
    "NUM_LAYERS = 2\n",
    "DROPOUT = 0.3\n",
    "MODEL_PATH = r\"exp\\exp2\\weights\\best.pt\"\n",
    "TRAIN_MAX_LENGTH = 32\n",
    "BATCH_SIZE = 1024\n",
    "TEST_DATA_PATH = r\"data\\test.csv\"\n",
    "\n",
    "tokenizer = AutoTokenizer.from_pretrained(\"distilgpt2\", use_fast=True)\n",
    "tokenizer.pad_token = tokenizer.eos_token\n",
    "pad_token_id = tokenizer.pad_token_id\n",
    "vocab_size = tokenizer.vocab_size\n",
    "\n",
    "data_test = pd.read_csv(TEST_DATA_PATH)\n",
    "data_test[\"input_ids\"] = data_test[\"input_ids\"].apply(ast.literal_eval)\n",
    "\n",
    "dataset_test = NextTokenDataset(data_test, pad_token=pad_token_id, max_length=TRAIN_MAX_LENGTH)\n",
    "dl_test = DataLoader(dataset_test, batch_size=BATCH_SIZE, shuffle=False, num_workers=2, pin_memory=True)\n",
    "\n",
    "model = RNNAutocompletion(\n",
    "    vocab_size=vocab_size,\n",
    "    pad_token_id=pad_token_id,\n",
    "    dim=DIM,\n",
    "    num_layers=NUM_LAYERS,\n",
    "    dropout=DROPOUT\n",
    ").to(device)\n",
    "\n",
    "checkpoint = torch.load(MODEL_PATH, map_location=device)\n",
    "model.load_state_dict(checkpoint)\n",
    "model.eval()\n",
    "\n",
    "test_correct = 0\n",
    "test_correct_top5 = 0\n",
    "test_total = 0\n",
    "\n",
    "with torch.no_grad(), torch.amp.autocast():\n",
    "    for batch in tqdm(dl_test, desc=f\"Test\", unit=\"batch\"):\n",
    "        input_ids = batch[\"input_ids\"].to(device)\n",
    "        lengths = batch[\"length\"].to(device)\n",
    "        labels = batch[\"labels\"].to(device)\n",
    "\n",
    "        logits = model(input_ids, lengths)\n",
    "\n",
    "        preds = logits.argmax(dim=-1)\n",
    "        test_correct += (preds == labels).sum().item()\n",
    "        test_total += labels.numel()\n",
    "\n",
    "        _, top5 = logits.topk(5, dim=-1)\n",
    "        test_correct_top5 += (top5 == labels.unsqueeze(-1)).any(dim=-1).sum().item()\n",
    "\n",
    "test_acc = test_correct / test_total\n",
    "test_acc_top5 = test_correct_top5 / test_total\n",
    "\n",
    "print(f\"Test acc@1: {test_acc:.4f} | acc@5: {test_acc_top5:.4f}\")"
   ]
  },
  {
   "cell_type": "markdown",
   "id": "bb7307d4",
   "metadata": {},
   "source": [
    "## Генерация с помощью distilgpt2 на валидационном датасете"
   ]
  },
  {
   "cell_type": "code",
   "execution_count": null,
   "id": "35c8119d",
   "metadata": {},
   "outputs": [],
   "source": []
  },
  {
   "cell_type": "code",
   "execution_count": 1,
   "id": "a7963aa8",
   "metadata": {},
   "outputs": [
    {
     "name": "stdout",
     "output_type": "stream",
     "text": [
      "Device: cuda\n"
     ]
    },
    {
     "name": "stderr",
     "output_type": "stream",
     "text": [
      "Device set to use cuda:0\n",
      "Gen: 100%|██████████| 10/10 [00:31<00:00,  3.11s/batch]\n"
     ]
    },
    {
     "name": "stdout",
     "output_type": "stream",
     "text": [
      "{'rouge1': np.float64(0.04988322987829735), 'rouge2': np.float64(0.0035631112645058607), 'rougeL': np.float64(0.04448395690190314), 'rougeLsum': np.float64(0.0450269886274611)}\n"
     ]
    }
   ],
   "source": [
    "import logging\n",
    "logging.getLogger(\"transformers\").setLevel(logging.ERROR)\n",
    "\n",
    "from transformers import AutoTokenizer, AutoModelForCausalLM, pipeline\n",
    "import pandas as pd\n",
    "import ast\n",
    "import torch\n",
    "from tqdm import tqdm\n",
    "import evaluate\n",
    "\n",
    "device = torch.device(\"cuda\" if torch.cuda.is_available() else \"cpu\")\n",
    "print(\"Device:\", device)\n",
    "\n",
    "# === Константы ===\n",
    "VAL_DATA_PATH     = r\"data\\val.csv\"\n",
    "GPT_MODEL_NAME    = \"distilgpt2\"\n",
    "BATCH_SIZE        = 1024\n",
    "TRAIN_MAX_LENGTH  = 8    # сколько токенов берём в контекст\n",
    "MAX_REF_TOKENS    = 32    # сколько токенов берём в референс (и генерим)\n",
    "\n",
    "# === Данные ===\n",
    "data_val = pd.read_csv(VAL_DATA_PATH)\n",
    "data_val[\"input_ids\"] = data_val[\"input_ids\"].apply(ast.literal_eval)\n",
    "\n",
    "# === Токенизатор/модель/пайплайн ===\n",
    "tokenizer = AutoTokenizer.from_pretrained(GPT_MODEL_NAME, use_fast=True)\n",
    "tokenizer.pad_token = tokenizer.eos_token\n",
    "tokenizer.padding_side = \"left\"\n",
    "\n",
    "model = AutoModelForCausalLM.from_pretrained(GPT_MODEL_NAME).to(device)\n",
    "if device.type == \"cuda\":\n",
    "    model = model.half()\n",
    "\n",
    "generator = pipeline(\n",
    "    \"text-generation\",\n",
    "    model=model,\n",
    "    tokenizer=tokenizer,\n",
    "    device=0 if device.type == \"cuda\" else -1\n",
    ")\n",
    "\n",
    "rouge = evaluate.load(\"rouge\")\n",
    "\n",
    "def ids_to_text(ids):\n",
    "    return tokenizer.decode(ids, skip_special_tokens=True)\n",
    "\n",
    "# === Готовим пары (context_text, reference_text) прямо из input_ids ===\n",
    "contexts, references = [], []\n",
    "for ids in data_val[\"input_ids\"]:\n",
    "    n = len(ids)\n",
    "    if n < 2:\n",
    "        continue\n",
    "    pivot = min(TRAIN_MAX_LENGTH, n-1)           # гарантируем, что GT не пустой\n",
    "    ctx_ids = ids[:pivot]\n",
    "    ref_ids = ids[pivot : min(n, pivot + MAX_REF_TOKENS)]\n",
    "\n",
    "    contexts.append(ids_to_text(ctx_ids))\n",
    "    references.append(ids_to_text(ref_ids))\n",
    "\n",
    "contexts = contexts[:10000]\n",
    "references = references[:10000]\n",
    "# print(len(contexts), len(data_val[\"input_ids\"]))\n",
    "\n",
    "\n",
    "# === Генерация батчами (только продолжение, без контекста) ===\n",
    "predictions = []\n",
    "for i in tqdm(range(0, len(contexts), BATCH_SIZE), desc=\"Gen\", unit=\"batch\"):\n",
    "    batch_ctx = contexts[i:i+BATCH_SIZE]\n",
    "    outs = generator(\n",
    "        batch_ctx,\n",
    "        max_new_tokens=MAX_REF_TOKENS,\n",
    "        do_sample=True,\n",
    "        top_p=0.95,\n",
    "        temperature=0.8,\n",
    "        return_full_text=False,\n",
    "        batch_size=BATCH_SIZE\n",
    "    )\n",
    "    preds_batch = [o[0][\"generated_text\"] for o in outs]\n",
    "    predictions.extend(preds_batch)\n",
    "\n",
    "# === ROUGE по “чистым” продолжениям\n",
    "scores = rouge.compute(predictions=predictions, references=references)\n",
    "print(scores)\n"
   ]
  },
  {
   "cell_type": "code",
   "execution_count": null,
   "id": "53b57dad",
   "metadata": {},
   "outputs": [],
   "source": [
    "\n",
    "\n",
    "\n",
    "\n",
    "device = torch.device(\"cuda\" if torch.cuda.is_available() else \"cpu\")\n",
    "\n",
    "\n",
    "\n",
    "rouge = evaluate.load(\"rouge\")\n",
    "\n",
    "batch_size = 16\n",
    "context_lengths = [1, 3, 9]\n",
    "max_gen_tokens = 32\n",
    "\n",
    "for n in context_lengths:\n",
    "    print(f\"\\n==== Context length: {n} ====\")\n",
    "    \n",
    "    all_predictions = []\n",
    "    all_references = []\n",
    "\n",
    "    for i in range(0, len(data_test.input_ids), batch_size):\n",
    "        batch_messages = data_test.input_ids[i : i + batch_size]\n",
    "\n",
    "        contexts = [msg[:n] for msg in batch_messages]\n",
    "        contexts = torch.nn.utils.rnn.pad_sequence(\n",
    "            [torch.tensor(c, dtype=torch.long) for c in contexts],\n",
    "            batch_first=True,\n",
    "            padding_value=pad_token_id\n",
    "        ).to(device)\n",
    "\n",
    "        references = [msg[n:] for msg in batch_messages]\n",
    "\n",
    "        with torch.no_grad():\n",
    "            generated_batch = model.generate(start_tokens=contexts, max_tokens=max_gen_tokens)\n",
    "\n",
    "        for gen_tokens, ref in zip(generated_batch, references):\n",
    "            pred_text = tokenizer.decode(gen_tokens.tolist(), skip_special_tokens=True)\n",
    "            ref_text = tokenizer.decode(ref, skip_special_tokens=True)\n",
    "\n",
    "            all_predictions.append(pred_text)\n",
    "            all_references.append(ref_text)\n",
    "\n",
    "    results = rouge.compute(predictions=all_predictions, references=all_references)\n",
    "    print(f\"ROUGE scores for context={n}: {results}\")"
   ]
  },
  {
   "cell_type": "code",
   "execution_count": null,
   "id": "f8e234f4",
   "metadata": {},
   "outputs": [],
   "source": []
  }
 ],
 "metadata": {
  "kernelspec": {
   "display_name": "env",
   "language": "python",
   "name": "python3"
  },
  "language_info": {
   "codemirror_mode": {
    "name": "ipython",
    "version": 3
   },
   "file_extension": ".py",
   "mimetype": "text/x-python",
   "name": "python",
   "nbconvert_exporter": "python",
   "pygments_lexer": "ipython3",
   "version": "3.11.0"
  }
 },
 "nbformat": 4,
 "nbformat_minor": 5
}
