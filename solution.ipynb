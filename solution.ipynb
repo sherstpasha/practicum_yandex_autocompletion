{
 "cells": [
  {
   "cell_type": "markdown",
   "id": "c50a7393",
   "metadata": {},
   "source": [
    "# 1 Предобработка"
   ]
  },
  {
   "cell_type": "markdown",
   "id": "73c1284c",
   "metadata": {},
   "source": [
    "### 1.1 Очистка и нормализация текста"
   ]
  },
  {
   "cell_type": "code",
   "execution_count": null,
   "id": "14056af5",
   "metadata": {},
   "outputs": [
    {
     "data": {
      "text/html": [
       "<div>\n",
       "<style scoped>\n",
       "    .dataframe tbody tr th:only-of-type {\n",
       "        vertical-align: middle;\n",
       "    }\n",
       "\n",
       "    .dataframe tbody tr th {\n",
       "        vertical-align: top;\n",
       "    }\n",
       "\n",
       "    .dataframe thead th {\n",
       "        text-align: right;\n",
       "    }\n",
       "</style>\n",
       "<table border=\"1\" class=\"dataframe\">\n",
       "  <thead>\n",
       "    <tr style=\"text-align: right;\">\n",
       "      <th></th>\n",
       "      <th>target</th>\n",
       "      <th>id</th>\n",
       "      <th>date</th>\n",
       "      <th>flag</th>\n",
       "      <th>user</th>\n",
       "      <th>text</th>\n",
       "    </tr>\n",
       "  </thead>\n",
       "  <tbody>\n",
       "    <tr>\n",
       "      <th>0</th>\n",
       "      <td>0</td>\n",
       "      <td>1467810369</td>\n",
       "      <td>Mon Apr 06 22:19:45 PDT 2009</td>\n",
       "      <td>NO_QUERY</td>\n",
       "      <td>_TheSpecialOne_</td>\n",
       "      <td>@switchfoot http://twitpic.com/2y1zl - Awww, t...</td>\n",
       "    </tr>\n",
       "    <tr>\n",
       "      <th>1</th>\n",
       "      <td>0</td>\n",
       "      <td>1467810672</td>\n",
       "      <td>Mon Apr 06 22:19:49 PDT 2009</td>\n",
       "      <td>NO_QUERY</td>\n",
       "      <td>scotthamilton</td>\n",
       "      <td>is upset that he can't update his Facebook by ...</td>\n",
       "    </tr>\n",
       "    <tr>\n",
       "      <th>2</th>\n",
       "      <td>0</td>\n",
       "      <td>1467810917</td>\n",
       "      <td>Mon Apr 06 22:19:53 PDT 2009</td>\n",
       "      <td>NO_QUERY</td>\n",
       "      <td>mattycus</td>\n",
       "      <td>@Kenichan I dived many times for the ball. Man...</td>\n",
       "    </tr>\n",
       "    <tr>\n",
       "      <th>3</th>\n",
       "      <td>0</td>\n",
       "      <td>1467811184</td>\n",
       "      <td>Mon Apr 06 22:19:57 PDT 2009</td>\n",
       "      <td>NO_QUERY</td>\n",
       "      <td>ElleCTF</td>\n",
       "      <td>my whole body feels itchy and like its on fire</td>\n",
       "    </tr>\n",
       "    <tr>\n",
       "      <th>4</th>\n",
       "      <td>0</td>\n",
       "      <td>1467811193</td>\n",
       "      <td>Mon Apr 06 22:19:57 PDT 2009</td>\n",
       "      <td>NO_QUERY</td>\n",
       "      <td>Karoli</td>\n",
       "      <td>@nationwideclass no, it's not behaving at all....</td>\n",
       "    </tr>\n",
       "  </tbody>\n",
       "</table>\n",
       "</div>"
      ],
      "text/plain": [
       "   target          id                          date      flag  \\\n",
       "0       0  1467810369  Mon Apr 06 22:19:45 PDT 2009  NO_QUERY   \n",
       "1       0  1467810672  Mon Apr 06 22:19:49 PDT 2009  NO_QUERY   \n",
       "2       0  1467810917  Mon Apr 06 22:19:53 PDT 2009  NO_QUERY   \n",
       "3       0  1467811184  Mon Apr 06 22:19:57 PDT 2009  NO_QUERY   \n",
       "4       0  1467811193  Mon Apr 06 22:19:57 PDT 2009  NO_QUERY   \n",
       "\n",
       "              user                                               text  \n",
       "0  _TheSpecialOne_  @switchfoot http://twitpic.com/2y1zl - Awww, t...  \n",
       "1    scotthamilton  is upset that he can't update his Facebook by ...  \n",
       "2         mattycus  @Kenichan I dived many times for the ball. Man...  \n",
       "3          ElleCTF    my whole body feels itchy and like its on fire   \n",
       "4           Karoli  @nationwideclass no, it's not behaving at all....  "
      ]
     },
     "execution_count": 1,
     "metadata": {},
     "output_type": "execute_result"
    }
   ],
   "source": [
    "import pandas as pd\n",
    "\n",
    "data = pd.read_csv(\n",
    "    r'raw_dataset.csv',\n",
    "    encoding='latin-1',\n",
    "    header=None,\n",
    "    names=['target', 'id', 'date', 'flag', 'user', 'text']\n",
    ")\n",
    "\n",
    "data.head()"
   ]
  },
  {
   "cell_type": "code",
   "execution_count": 2,
   "id": "55a48509",
   "metadata": {},
   "outputs": [
    {
     "data": {
      "text/plain": [
       "<Axes: >"
      ]
     },
     "execution_count": 2,
     "metadata": {},
     "output_type": "execute_result"
    },
    {
     "data": {
      "image/png": "[encoded data removed]",
      "text/plain": [
       "<Figure size 640x480 with 1 Axes>"
      ]
     },
     "metadata": {},
     "output_type": "display_data"
    }
   ],
   "source": [
    "data['target'].hist()"
   ]
  },
  {
   "cell_type": "markdown",
   "id": "3a3fddc1",
   "metadata": {},
   "source": [
    "В нижний регистр"
   ]
  },
  {
   "cell_type": "code",
   "execution_count": 3,
   "id": "250fb531",
   "metadata": {},
   "outputs": [
    {
     "data": {
      "text/plain": [
       "0          @switchfoot http://twitpic.com/2y1zl - awww, t...\n",
       "1          is upset that he can't update his facebook by ...\n",
       "2          @kenichan i dived many times for the ball. man...\n",
       "3            my whole body feels itchy and like its on fire \n",
       "4          @nationwideclass no, it's not behaving at all....\n",
       "                                 ...                        \n",
       "1599995    just woke up. having no school is the best fee...\n",
       "1599996    thewdb.com - very cool to hear old walt interv...\n",
       "1599997    are you ready for your mojo makeover? ask me f...\n",
       "1599998    happy 38th birthday to my boo of alll time!!! ...\n",
       "1599999    happy #charitytuesday @thenspcc @sparkscharity...\n",
       "Name: text, Length: 1600000, dtype: object"
      ]
     },
     "execution_count": 3,
     "metadata": {},
     "output_type": "execute_result"
    }
   ],
   "source": [
    "text_lower = data['text'].str.lower()\n",
    "\n",
    "text_lower"
   ]
  },
  {
   "cell_type": "markdown",
   "id": "131d80ea",
   "metadata": {},
   "source": [
    "Удаление ссылок итд + удаление дубликатов"
   ]
  },
  {
   "cell_type": "code",
   "execution_count": 4,
   "id": "4b6f641e",
   "metadata": {},
   "outputs": [
    {
     "data": {
      "text/plain": [
       "0          aww, that's a bummer. you shoulda got david ca...\n",
       "1          is upset that he can't update his facebook by ...\n",
       "2          i dived many times for the ball. managed to sa...\n",
       "3             my whole body feels itchy and like its on fire\n",
       "4          no, it's not behaving at all. i'm mad. why am ...\n",
       "                                 ...                        \n",
       "1526945    yeah, that does work better than just waiting ...\n",
       "1526946    just woke up. having no school is the best fee...\n",
       "1526947                very cool to hear old walt interviews\n",
       "1526948    are you ready for your mojo makeover ask me fo...\n",
       "1526949    happy 38th birthday to my boo of all time tupa...\n",
       "Name: text, Length: 1526950, dtype: object"
      ]
     },
     "execution_count": 4,
     "metadata": {},
     "output_type": "execute_result"
    }
   ],
   "source": [
    "import re\n",
    "\n",
    "# ссылки и домены\n",
    "URL_RE = re.compile(r'(https?://\\S+|www\\.\\S+|[a-zA-Z0-9\\-]+\\.[a-zA-Z]{2,})')\n",
    "# упоминания\n",
    "MENTION_RE = re.compile(r'@\\w+')\n",
    "# хэштеги\n",
    "HASHTAG_RE = re.compile(r'#\\w+')\n",
    "\n",
    "# оставить только латиницу/цифры/пробелы и пунктуацию . , '\n",
    "ALLOWED_CHARS_RE = re.compile(r\"[^a-z0-9\\s\\.\\,']\")\n",
    "\n",
    "# схлопывание повторов:\n",
    "# 1) буквы: 3+ одинаковых подряд -> 2 (cooool -> coool -> coo)\n",
    "LETTER_RUNS_RE = re.compile(r'([a-z])\\1{2,}')\n",
    "# 2) пунктуация . , ' : 2+ -> 1 (.... -> .  ,, -> ,  ''' -> ')\n",
    "PUNCT_RUNS_RE = re.compile(r\"([\\.\\,'])\\1+\")\n",
    "\n",
    "def clean(text: str) -> str:\n",
    "    if not isinstance(text, str):\n",
    "        return \"\"\n",
    "    text = text.lower()\n",
    "\n",
    "    # убрать ссылки/упоминания/хэштеги\n",
    "    text = URL_RE.sub(\" \", text)\n",
    "    text = MENTION_RE.sub(\" \", text)\n",
    "    text = HASHTAG_RE.sub(\" \", text)\n",
    "\n",
    "    # убрать все, кроме [a-z0-9] пробелов и . , '\n",
    "    text = ALLOWED_CHARS_RE.sub(\" \", text)\n",
    "\n",
    "    # схлопнуть длинные буквы (оставить максимум две подряд)\n",
    "    text = LETTER_RUNS_RE.sub(r\"\\1\\1\", text)\n",
    "\n",
    "    # схлопнуть повторы пунктуации до одной\n",
    "    text = PUNCT_RUNS_RE.sub(r\"\\1\", text)\n",
    "\n",
    "    # убрать лишние пробелы\n",
    "    text = re.sub(r\"\\s+\", \" \", text).strip()\n",
    "    return text\n",
    "\n",
    "\n",
    "\n",
    "clean_text_lower = text_lower.apply(clean)\n",
    "clean_text_lower = clean_text_lower.drop_duplicates().reset_index(drop=True)\n",
    "\n",
    "clean_text_lower"
   ]
  },
  {
   "cell_type": "markdown",
   "id": "27b081e2",
   "metadata": {},
   "source": [
    "Статистика"
   ]
  },
  {
   "cell_type": "code",
   "execution_count": 5,
   "id": "74a29053",
   "metadata": {},
   "outputs": [
    {
     "name": "stdout",
     "output_type": "stream",
     "text": [
      "count    19904174.00\n",
      "mean            4.09\n",
      "std             2.15\n",
      "min             1.00\n",
      "25%             3.00\n",
      "50%             4.00\n",
      "75%             5.00\n",
      "max           112.00\n",
      "Name: word_len, dtype: float64\n"
     ]
    },
    {
     "data": {
      "text/plain": [
       "<Axes: >"
      ]
     },
     "execution_count": 5,
     "metadata": {},
     "output_type": "execute_result"
    },
    {
     "data": {
      "image/png": "[encoded data removed]",
      "text/plain": [
       "<Figure size 640x480 with 1 Axes>"
      ]
     },
     "metadata": {},
     "output_type": "display_data"
    }
   ],
   "source": [
    "lengths = [len(w) for s in clean_text_lower for w in s.split()]\n",
    "\n",
    "\n",
    "print(pd.Series(lengths, name=\"word_len\").describe().round(2))\n",
    "pd.Series(lengths, name=\"word_len\").hist(bins = 100)"
   ]
  },
  {
   "cell_type": "markdown",
   "id": "d66551f6",
   "metadata": {},
   "source": [
    "### 1.2 Токенизация"
   ]
  },
  {
   "cell_type": "code",
   "execution_count": 6,
   "id": "d695e79d",
   "metadata": {},
   "outputs": [
    {
     "name": "stdout",
     "output_type": "stream",
     "text": [
      "Количество твитов: 1526949\n",
      "min/median/mean/max: 2 / 16.0 / 17.3 / 99\n",
      "p50: 16\n",
      "p75: 24\n",
      "p90: 30\n",
      "p95: 32\n",
      "p99: 37\n"
     ]
    }
   ],
   "source": [
    "from transformers import AutoTokenizer\n",
    "import numpy as np\n",
    "\n",
    "\n",
    "tokenizer = AutoTokenizer.from_pretrained(\"distilgpt2\", use_fast=True)        \n",
    "tokenizer.add_special_tokens({\"pad_token\": \"<PAD>\"})     \n",
    "EOS = tokenizer.eos_token_id\n",
    "\n",
    "texts = clean_text_lower.astype(str).tolist()\n",
    "\n",
    "enc = tokenizer(\n",
    "    texts,\n",
    "    add_special_tokens=False,\n",
    "    padding=False,\n",
    "    truncation=False          \n",
    ")\n",
    "\n",
    "sequences = []\n",
    "for ids in enc[\"input_ids\"]:\n",
    "    if not ids:\n",
    "        continue\n",
    "    sequences.append(ids + [EOS])\n",
    "\n",
    "lens = np.array([len(s) for s in sequences])\n",
    "print(f\"Количество твитов: {len(lens)}\")\n",
    "print(f\"min/median/mean/max: {lens.min()} / {np.median(lens):.1f} / {lens.mean():.1f} / {lens.max()}\")\n",
    "for q in [50, 75, 90, 95, 99]:\n",
    "    print(f\"p{q}: {int(np.percentile(lens, q))}\")"
   ]
  },
  {
   "cell_type": "markdown",
   "id": "44539494",
   "metadata": {},
   "source": [
    "### 1.3 Разделение на трейн, валидацию и тест"
   ]
  },
  {
   "cell_type": "code",
   "execution_count": null,
   "id": "69d8a8f0",
   "metadata": {},
   "outputs": [
    {
     "ename": "",
     "evalue": "",
     "output_type": "error",
     "traceback": [
      "\u001b[1;31mThe Kernel crashed while executing code in the current cell or a previous cell. \n",
      "\u001b[1;31mPlease review the code in the cell(s) to identify a possible cause of the failure. \n",
      "\u001b[1;31mClick <a href='https://aka.ms/vscodeJupyterKernelCrash'>here</a> for more info. \n",
      "\u001b[1;31mView Jupyter <a href='command:jupyter.viewOutput'>log</a> for further details."
     ]
    }
   ],
   "source": [
    "import json\n",
    "from sklearn.model_selection import train_test_split\n",
    "\n",
    "train_seqs, temp = train_test_split(sequences, test_size=0.2, random_state=42, shuffle=True)\n",
    "val_seqs,   test_seqs = train_test_split(temp, test_size=0.5, random_state=42, shuffle=True)\n",
    "\n",
    "\n",
    "with open(\"data/train.json\", \"w\", encoding=\"utf-8\") as f:\n",
    "    json.dump(train_seqs, f, ensure_ascii=False, separators=(\",\", \":\"))\n",
    "with open(\"data/val.json\", \"w\", encoding=\"utf-8\") as f:\n",
    "    json.dump(val_seqs, f, ensure_ascii=False, separators=(\",\", \":\"))\n",
    "with open(\"data/test.json\", \"w\", encoding=\"utf-8\") as f:\n",
    "    json.dump(test_seqs, f, ensure_ascii=False, separators=(\",\", \":\"))"
   ]
  },
  {
   "cell_type": "markdown",
   "id": "22caa2ad",
   "metadata": {},
   "source": [
    "## 2 Обучение модели"
   ]
  },
  {
   "cell_type": "code",
   "execution_count": null,
   "id": "f876c2a7",
   "metadata": {},
   "outputs": [
    {
     "name": "stdout",
     "output_type": "stream",
     "text": [
      "device: cuda\n"
     ]
    },
    {
     "name": "stderr",
     "output_type": "stream",
     "text": [
      "Epoch 0: 100%|██████████| 2576/2576 [01:39<00:00, 25.83batch/s]\n"
     ]
    },
    {
     "name": "stdout",
     "output_type": "stream",
     "text": [
      "train loss: 6.1239 | valid loss: 5.1151 | ppl: 166.52 | acc@1: 0.1934 | acc@5: 0.3851\n"
     ]
    },
    {
     "name": "stderr",
     "output_type": "stream",
     "text": [
      "Epoch 1: 100%|██████████| 2576/2576 [01:39<00:00, 25.95batch/s]\n"
     ]
    },
    {
     "name": "stdout",
     "output_type": "stream",
     "text": [
      "train loss: 5.1017 | valid loss: 4.9444 | ppl: 140.39 | acc@1: 0.2044 | acc@5: 0.3999\n"
     ]
    },
    {
     "name": "stderr",
     "output_type": "stream",
     "text": [
      "Epoch 2: 100%|██████████| 2576/2576 [01:41<00:00, 25.39batch/s]\n"
     ]
    },
    {
     "name": "stdout",
     "output_type": "stream",
     "text": [
      "train loss: 4.9708 | valid loss: 4.8534 | ppl: 128.18 | acc@1: 0.2102 | acc@5: 0.4088\n"
     ]
    },
    {
     "name": "stderr",
     "output_type": "stream",
     "text": [
      "Epoch 3: 100%|██████████| 2576/2576 [01:39<00:00, 25.92batch/s]\n"
     ]
    },
    {
     "name": "stdout",
     "output_type": "stream",
     "text": [
      "train loss: 4.8900 | valid loss: 4.7905 | ppl: 120.36 | acc@1: 0.2146 | acc@5: 0.4175\n"
     ]
    },
    {
     "name": "stderr",
     "output_type": "stream",
     "text": [
      "Epoch 4: 100%|██████████| 2576/2576 [01:39<00:00, 25.93batch/s]\n"
     ]
    },
    {
     "name": "stdout",
     "output_type": "stream",
     "text": [
      "train loss: 4.8325 | valid loss: 4.7483 | ppl: 115.39 | acc@1: 0.2184 | acc@5: 0.4221\n"
     ]
    },
    {
     "name": "stderr",
     "output_type": "stream",
     "text": [
      "Epoch 5: 100%|██████████| 2576/2576 [01:39<00:00, 25.88batch/s]\n"
     ]
    },
    {
     "name": "stdout",
     "output_type": "stream",
     "text": [
      "train loss: 4.7882 | valid loss: 4.7137 | ppl: 111.47 | acc@1: 0.2212 | acc@5: 0.4260\n"
     ]
    },
    {
     "name": "stderr",
     "output_type": "stream",
     "text": [
      "Epoch 6: 100%|██████████| 2576/2576 [01:39<00:00, 25.92batch/s]\n"
     ]
    },
    {
     "name": "stdout",
     "output_type": "stream",
     "text": [
      "train loss: 4.7531 | valid loss: 4.6856 | ppl: 108.37 | acc@1: 0.2245 | acc@5: 0.4287\n"
     ]
    },
    {
     "name": "stderr",
     "output_type": "stream",
     "text": [
      "Epoch 7: 100%|██████████| 2576/2576 [01:39<00:00, 25.98batch/s]\n"
     ]
    },
    {
     "name": "stdout",
     "output_type": "stream",
     "text": [
      "train loss: 4.7246 | valid loss: 4.6697 | ppl: 106.66 | acc@1: 0.2248 | acc@5: 0.4312\n"
     ]
    },
    {
     "name": "stderr",
     "output_type": "stream",
     "text": [
      "Epoch 8: 100%|██████████| 2576/2576 [01:39<00:00, 25.97batch/s]\n"
     ]
    },
    {
     "name": "stdout",
     "output_type": "stream",
     "text": [
      "train loss: 4.7008 | valid loss: 4.6486 | ppl: 104.44 | acc@1: 0.2265 | acc@5: 0.4338\n"
     ]
    },
    {
     "name": "stderr",
     "output_type": "stream",
     "text": [
      "Epoch 9: 100%|██████████| 2576/2576 [01:39<00:00, 25.88batch/s]\n"
     ]
    },
    {
     "name": "stdout",
     "output_type": "stream",
     "text": [
      "train loss: 4.6802 | valid loss: 4.6342 | ppl: 102.94 | acc@1: 0.2281 | acc@5: 0.4348\n",
      "\n",
      "[Примеры размер контекста = 1]\n",
      "--- sample 1 (idx=121867) ---\n",
      "my |  plug managed to kill my laptop so i'm a little wary of using it at all anymore\n",
      "my | space is soo slow\n",
      "\n",
      "--- sample 2 (idx=76553) ---\n",
      "i | 'm sure you would have some fun, specially beach tripping\n",
      "i |  have a headache\n",
      "\n",
      "--- sample 3 (idx=151088) ---\n",
      "now |  sat in the car with rachel, keon n lewis going homee, can't actually wait to curl up in bed and sleep\n",
      "now |  i'm going to bed. i'm going to bed.\n",
      "\n",
      "--- sample 4 (idx=122704) ---\n",
      "my |  girl came 2 blaze.now she leavin me\n",
      "my | space is soo slow\n",
      "\n",
      "--- sample 5 (idx=31895) ---\n",
      "y | ay school tomorrow grade 6 testing all day for a week . greeaatt\n",
      "y | ayy\n",
      "\n",
      "--- sample 6 (idx=97759) ---\n",
      " of |  now i can't stand tommy lee for the love of god whyy did he have to sleep with every girl i know why kimberly\n",
      " of |  the day.\n",
      "\n",
      "--- sample 7 (idx=144838) ---\n",
      "i |  actually love you . ahhaahh zac was like its over.\n",
      "i |  have a headache\n",
      "\n",
      "--- sample 8 (idx=132081) ---\n",
      "loading |  the car tetris style. ran out of room\n",
      "loading |  a new one.\n",
      "\n",
      "--- sample 9 (idx=4571) ---\n",
      "although |  the rain sucks. today is actually a really good day\n",
      "although |  i'm not going to be able to go to the beach\n",
      "\n",
      "--- sample 10 (idx=24500) ---\n",
      "hol | a, bb. what's up\n",
      "hol | \n",
      "\n",
      "\n",
      "[Примеры размер контекста = 7]\n",
      "--- sample 1 (idx=123214) ---\n",
      "driving home with no sleep ahh |  ily lt ' ' gt\n",
      "driving home with no sleep ahh | \n",
      "\n",
      "--- sample 2 (idx=42415) ---\n",
      "got blister from new shoes.app | lying band aids\n",
      "got blister from new shoes.app | in.\n",
      "\n",
      "--- sample 3 (idx=90925) ---\n",
      "dad's new website i made with |  iweb\n",
      "dad's new website i made with |  my new iphone.\n",
      "\n",
      "--- sample 4 (idx=64257) ---\n",
      "probably not, now. the job |  i got is from 1 5pm, m f, so i think my hubby will have kids at pool more than me.\n",
      "probably not, now. the job |  is over.\n",
      "\n",
      "--- sample 5 (idx=44474) ---\n",
      "live on itstyleryo come |  chat\n",
      "live on itstyleryo come |  on\n",
      "\n",
      "--- sample 6 (idx=107835) ---\n",
      "really bord. listeening | g to the new jls single. beat againn love itt xx\n",
      "really bord. listeening |  to the world\n",
      "\n",
      "--- sample 7 (idx=1418) ---\n",
      "lol, i will i'm meeting |  up with and he's gonna make me all sorts of yummy drinks\n",
      "lol, i will i'm meeting |  you in a few hours.\n",
      "\n",
      "--- sample 8 (idx=35164) ---\n",
      "back, neck, ass, and |  breast. or must i pick one\n",
      "back, neck, ass, and |  i'm not a fan of the fact that i'm not going to be able to get a job\n",
      "\n",
      "--- sample 9 (idx=13677) ---\n",
      "is having a very good weekend. |  vbs all week, spring festival this weekend. new sharon is such a blessed little town\n",
      "is having a very good weekend. | \n",
      "\n",
      "--- sample 10 (idx=119624) ---\n",
      "icant believe it's june | . 23 more days until my bday\n",
      "icant believe it's june | .\n",
      "\n",
      "\n",
      "[Примеры размер контекста = 21]\n",
      "--- sample 1 (idx=41216) ---\n",
      "and aj just came around the corner and i leaned back in my chair to say hi, and fell |  over. wouldn't have been so bad but i hurt my legs\n",
      "and aj just came around the corner and i leaned back in my chair to say hi, and fell |  asleep.\n",
      "\n",
      "--- sample 2 (idx=3292) ---\n",
      "now come on dawsy you is dead sexy and a massive hit with the ladies been telling you that |  for days now xx\n",
      "now come on dawsy you is dead sexy and a massive hit with the ladies been telling you that | 's a good one\n",
      "\n",
      "--- sample 3 (idx=4795) ---\n",
      "just got off work my feets hurt i'm going to go home, curl up on the couch and |  watch ratatouille.\n",
      "just got off work my feets hurt i'm going to go home, curl up on the couch and |  then sleep.\n",
      "\n",
      "--- sample 4 (idx=28504) ---\n",
      "i totally know how you feel. sucks big style. but at least you're safe, especially important with |  growing family\n",
      "i totally know how you feel. sucks big style. but at least you're safe, especially important with |  your tweets.\n",
      "\n",
      "--- sample 5 (idx=10970) ---\n",
      "kchan1028 hahaha kc, it's ok. the outcome was pretty much guaranteed the |  moment you told me your plans. enjoy, pho buddy\n",
      "kchan1028 hahaha kc, it's ok. the outcome was pretty much guaranteed the |  same thing\n",
      "\n",
      "--- sample 6 (idx=4654) ---\n",
      "sometimes that cat just swats me with her claws for no reason. i'm the dog, i'm |  supposed to be in charge. stupid cat.\n",
      "sometimes that cat just swats me with her claws for no reason. i'm the dog, i'm |  so tired.\n",
      "\n",
      "--- sample 7 (idx=21792) ---\n",
      "good morning sunshine, just woke up half hour ago. the sun is shining i'm feeling happy today lots |  of love and big kiss\n",
      "good morning sunshine, just woke up half hour ago. the sun is shining i'm feeling happy today lots |  of fun\n",
      "\n",
      "--- sample 8 (idx=26058) ---\n",
      "i'm really not tired. sitting here eating some golden grams cereal haven't had that in a while so |  i'm excited . p.s. apology accepted\n",
      "i'm really not tired. sitting here eating some golden grams cereal haven't had that in a while so |  much for the weekend\n",
      "\n",
      "--- sample 9 (idx=34944) ---\n",
      "are there general issues with twitter favorites tweetdeck giving quot service not found quot when marking a favorite, android |  not marking favs\n",
      "are there general issues with twitter favorites tweetdeck giving quot service not found quot when marking a favorite, android |  is not working\n",
      "\n",
      "--- sample 10 (idx=9724) ---\n",
      "downloading latest owl city single from zune store. yes, i am part of the .01 of |  people that own zunes.\n",
      "downloading latest owl city single from zune store. yes, i am part of the .01 of |  the quot quot quot quot quot quot quot quot quot quot quot quot quot quot quot quot quot quot quot quot quot quot quot quot quot quot quot quot quot quot quot\n",
      "\n",
      "\n",
      "[Примеры размер контекста = 28]\n",
      "--- sample 1 (idx=13101) ---\n",
      "yee. the hangover was funny as hell. last night was fun. despite seeing the x amp his slut. oh well i had |  a blast\n",
      "yee. the hangover was funny as hell. last night was fun. despite seeing the x amp his slut. oh well i had |  a good time\n",
      "\n",
      "--- sample 2 (idx=5706) ---\n",
      "wow you really cleaned our aquarium bianca and i will love you for it if you do it regularly. thank you so much, brother |  6\n",
      "wow you really cleaned our aquarium bianca and i will love you for it if you do it regularly. thank you so much, brother | \n",
      "\n",
      "--- sample 3 (idx=2877) ---\n",
      "i broke my violin bridge today. what a stupid thing to break it's a 2 piece of wood, but i sure can't play without |  it.\n",
      "i broke my violin bridge today. what a stupid thing to break it's a 2 piece of wood, but i sure can't play without |  it\n",
      "\n",
      "--- sample 4 (idx=6517) ---\n",
      "higghhly upset i didn't get through to amp amp somebody needs to start loving me again i saw a sexy pretty one you'd |  like\n",
      "higghhly upset i didn't get through to amp amp somebody needs to start loving me again i saw a sexy pretty one you'd |  love to see him\n",
      "\n",
      "--- sample 5 (idx=4071) ---\n",
      "just got home from my family reunion lt 3 i love it there it's in the country rural we all got rained out. would | 've stayed longer.\n",
      "just got home from my family reunion lt 3 i love it there it's in the country rural we all got rained out. would |  be a good one\n",
      "\n",
      "--- sample 6 (idx=7667) ---\n",
      "soo. i think i may be getting my very own mac book tomorrow also going to see up tonight and it should be super cute i |  cant wait\n",
      "soo. i think i may be getting my very own mac book tomorrow also going to see up tonight and it should be super cute i |  love you\n",
      "\n",
      "--- sample 7 (idx=9888) ---\n",
      "staying in as i feel too ill to head out. a friend once got ill abroad n started crying to go home. i now know |  what she feels. miss home\n",
      "staying in as i feel too ill to head out. a friend once got ill abroad n started crying to go home. i now know |  what to do\n",
      "\n",
      "--- sample 8 (idx=15457) ---\n",
      "thnx4ursupport you make me feel all warm and fuzzy inside you are truely a in every sense of the idea. |  ceo\n",
      "thnx4ursupport you make me feel all warm and fuzzy inside you are truely a in every sense of the idea. | \n",
      "\n",
      "--- sample 9 (idx=6019) ---\n",
      "it's quite good. i'm working slowly on a crossover with jeeves amp wooster and hot fuzz. if i can finish it | .\n",
      "it's quite good. i'm working slowly on a crossover with jeeves amp wooster and hot fuzz. if i can finish it | 's a good thing\n",
      "\n",
      "--- sample 10 (idx=9550) ---\n",
      "u r def close2if not truly ready. a mileage base is step 1. we could go2the shop 2mrw b4 | the meet if you have time\n",
      "u r def close2if not truly ready. a mileage base is step 1. we could go2the shop 2mrw b4 | \n",
      "\n",
      "[ROUGE-L@epoch 9] K=1: 0.0696 (n=152639) | K=7: 0.0614 (n=127042) | K=21: 0.0615 (n=42923) | K=28: 0.0652 (n=15555)\n"
     ]
    },
    {
     "name": "stderr",
     "output_type": "stream",
     "text": [
      "Epoch 10: 100%|██████████| 2576/2576 [01:38<00:00, 26.09batch/s]\n"
     ]
    },
    {
     "name": "stdout",
     "output_type": "stream",
     "text": [
      "train loss: 4.6626 | valid loss: 4.6222 | ppl: 101.72 | acc@1: 0.2295 | acc@5: 0.4374\n"
     ]
    },
    {
     "name": "stderr",
     "output_type": "stream",
     "text": [
      "Epoch 11: 100%|██████████| 2576/2576 [01:39<00:00, 25.97batch/s]\n"
     ]
    },
    {
     "name": "stdout",
     "output_type": "stream",
     "text": [
      "train loss: 4.6473 | valid loss: 4.6101 | ppl: 100.49 | acc@1: 0.2297 | acc@5: 0.4373\n"
     ]
    },
    {
     "name": "stderr",
     "output_type": "stream",
     "text": [
      "Epoch 12: 100%|██████████| 2576/2576 [01:38<00:00, 26.03batch/s]\n"
     ]
    },
    {
     "name": "stdout",
     "output_type": "stream",
     "text": [
      "train loss: 4.6328 | valid loss: 4.6013 | ppl: 99.62 | acc@1: 0.2304 | acc@5: 0.4393\n"
     ]
    },
    {
     "name": "stderr",
     "output_type": "stream",
     "text": [
      "Epoch 13: 100%|██████████| 2576/2576 [01:38<00:00, 26.11batch/s]\n"
     ]
    },
    {
     "name": "stdout",
     "output_type": "stream",
     "text": [
      "train loss: 4.6208 | valid loss: 4.5928 | ppl: 98.77 | acc@1: 0.2315 | acc@5: 0.4399\n"
     ]
    },
    {
     "name": "stderr",
     "output_type": "stream",
     "text": [
      "Epoch 14: 100%|██████████| 2576/2576 [01:39<00:00, 26.01batch/s]\n"
     ]
    },
    {
     "name": "stdout",
     "output_type": "stream",
     "text": [
      "train loss: 4.6085 | valid loss: 4.5855 | ppl: 98.05 | acc@1: 0.2330 | acc@5: 0.4407\n"
     ]
    },
    {
     "name": "stderr",
     "output_type": "stream",
     "text": [
      "Epoch 15: 100%|██████████| 2576/2576 [01:38<00:00, 26.05batch/s]\n"
     ]
    },
    {
     "name": "stdout",
     "output_type": "stream",
     "text": [
      "train loss: 4.5993 | valid loss: 4.5818 | ppl: 97.69 | acc@1: 0.2330 | acc@5: 0.4422\n"
     ]
    },
    {
     "name": "stderr",
     "output_type": "stream",
     "text": [
      "Epoch 16: 100%|██████████| 2576/2576 [01:38<00:00, 26.12batch/s]\n"
     ]
    },
    {
     "name": "stdout",
     "output_type": "stream",
     "text": [
      "train loss: 4.5900 | valid loss: 4.5723 | ppl: 96.76 | acc@1: 0.2338 | acc@5: 0.4433\n"
     ]
    },
    {
     "name": "stderr",
     "output_type": "stream",
     "text": [
      "Epoch 17: 100%|██████████| 2576/2576 [01:39<00:00, 26.02batch/s]\n"
     ]
    },
    {
     "name": "stdout",
     "output_type": "stream",
     "text": [
      "train loss: 4.5813 | valid loss: 4.5686 | ppl: 96.41 | acc@1: 0.2336 | acc@5: 0.4435\n"
     ]
    },
    {
     "name": "stderr",
     "output_type": "stream",
     "text": [
      "Epoch 18: 100%|██████████| 2576/2576 [01:39<00:00, 25.77batch/s]\n"
     ]
    },
    {
     "name": "stdout",
     "output_type": "stream",
     "text": [
      "train loss: 4.5730 | valid loss: 4.5638 | ppl: 95.95 | acc@1: 0.2350 | acc@5: 0.4444\n"
     ]
    },
    {
     "name": "stderr",
     "output_type": "stream",
     "text": [
      "Epoch 19: 100%|██████████| 2576/2576 [01:39<00:00, 25.97batch/s]\n"
     ]
    },
    {
     "name": "stdout",
     "output_type": "stream",
     "text": [
      "train loss: 4.5645 | valid loss: 4.5598 | ppl: 95.56 | acc@1: 0.2346 | acc@5: 0.4457\n",
      "\n",
      "[Примеры размер контекста = 1]\n",
      "--- sample 1 (idx=66915) ---\n",
      "aw |  i'm sorry i was rooting for you just to let you know\n",
      "aw | w i'm sorry i missed you\n",
      "\n",
      "--- sample 2 (idx=110743) ---\n",
      "ha | , made you guys look.\n",
      "ha | a. i'm soo tired. i'm so tired.\n",
      "\n",
      "--- sample 3 (idx=148256) ---\n",
      "han | ley's grand slam gave me a nice first day in fantasy baseball.too bad it came against the nats\n",
      "han | .\n",
      "\n",
      "--- sample 4 (idx=97792) ---\n",
      "i |  just got the new naruto game 4 ds but im not allowed 2 play it\n",
      "i | 'm soo tired. i'm so tired.\n",
      "\n",
      "--- sample 5 (idx=91097) ---\n",
      "oh | , that's bad times. chat soon\n",
      "oh | h i'm soo tired. i'm so tired.\n",
      "\n",
      "--- sample 6 (idx=109265) ---\n",
      "again |  learning quantum mechanics. i don't want to gt sun is shining outside, nice weather\n",
      "again | .\n",
      "\n",
      "--- sample 7 (idx=62095) ---\n",
      "oh |  sorry. i forget a lot of things. did you check out the webpage\n",
      "oh | h i'm soo tired. i'm so tired.\n",
      "\n",
      "--- sample 8 (idx=99813) ---\n",
      "h | mm. a holder for sure. too bad i can't sleep tonight or . this morning\n",
      "h | aha. i'm soo tired. i'm so tired.\n",
      "\n",
      "--- sample 9 (idx=16755) ---\n",
      "he | heheh i actually didnt eat any of it, till today it was good. sorry\n",
      "he | \n",
      "\n",
      "--- sample 10 (idx=123637) ---\n",
      "it | 's good they're realistic, but i still don't like thinking about it\n",
      "it | 's a good day\n",
      "\n",
      "\n",
      "[Примеры размер контекста = 7]\n",
      "--- sample 1 (idx=28357) ---\n",
      "i didn't get to watch it |  i was engrossed in true blood haha\n",
      "i didn't get to watch it |  was soo sad\n",
      "\n",
      "--- sample 2 (idx=22312) ---\n",
      "soo, hows the fam |  jasper especially, is he eating okay lets hope he doesn't have swine flu hahaha negative test haha\n",
      "soo, hows the fam | \n",
      "\n",
      "--- sample 3 (idx=88042) ---\n",
      "so tired, work again tomorrow i |  need a break\n",
      "so tired, work again tomorrow i | 'm going to bed.\n",
      "\n",
      "--- sample 4 (idx=73242) ---\n",
      "i lt 3 you too. |  i miss you\n",
      "i lt 3 you too. | \n",
      "\n",
      "--- sample 5 (idx=110078) ---\n",
      "heyy twitter i just got a |  new phone well anywayss i'm bordd\n",
      "heyy twitter i just got a |  message from my phone\n",
      "\n",
      "--- sample 6 (idx=65725) ---\n",
      "yup, up here now and |  it was just raining still gloomy\n",
      "yup, up here now and |  i'm not a fan of the world\n",
      "\n",
      "--- sample 7 (idx=60622) ---\n",
      "i feel like sleeping in all day | , but cant\n",
      "i feel like sleeping in all day | .\n",
      "\n",
      "--- sample 8 (idx=62104) ---\n",
      "boredd toy story 3 in |  cinemas in 2010. ill have to pay the 15 price by then haha.\n",
      "boredd toy story 3 in |  the morning.\n",
      "\n",
      "--- sample 9 (idx=91100) ---\n",
      "chilln by the beach. | unfortunately i have to stay under the umbrella at least im feelin better and have a nice view.\n",
      "chilln by the beach. | \n",
      "\n",
      "--- sample 10 (idx=34291) ---\n",
      "you may i will use any resource |  i can use as long as i can afford to keep buying things.\n",
      "you may i will use any resource |  for a new one\n",
      "\n",
      "\n",
      "[Примеры размер контекста = 21]\n",
      "--- sample 1 (idx=24847) ---\n",
      "love the song s lt 3 quot if spring can take the snow away.can it melt away all |  our mistakes quot kanye west coldest winter lt 3 lt 3 lt 3\n",
      "love the song s lt 3 quot if spring can take the snow away.can it melt away all |  over me\n",
      "\n",
      "--- sample 2 (idx=28415) ---\n",
      "ha maybe u should sell protective goggles at the merch stand amp post signs that say quot watch out for way | ward wangs quot\n",
      "ha maybe u should sell protective goggles at the merch stand amp post signs that say quot watch out for way |  quot\n",
      "\n",
      "--- sample 3 (idx=1631) ---\n",
      "i'm in my bed and i cant sleep i'm full of the cold with a banging head ache |  and i am so tired. thx 2 sleeping in the hills for 2days\n",
      "i'm in my bed and i cant sleep i'm full of the cold with a banging head ache | \n",
      "\n",
      "--- sample 4 (idx=900) ---\n",
      "morning tweeps beautiful, beutiful morning in greenwich and a z1 in hand, time to |  do those test shots i've been thinking about for years\n",
      "morning tweeps beautiful, beutiful morning in greenwich and a z1 in hand, time to |  work.\n",
      "\n",
      "--- sample 5 (idx=13808) ---\n",
      "i miss stop having so much fun and come back home haha jk about the stop having fun part. |  im serious about the rest\n",
      "i miss stop having so much fun and come back home haha jk about the stop having fun part. | \n",
      "\n",
      "--- sample 6 (idx=35186) ---\n",
      "unfortunately this project will be right on top of my quot watch all of lost w the gf quot |  project.\n",
      "unfortunately this project will be right on top of my quot watch all of lost w the gf quot | \n",
      "\n",
      "--- sample 7 (idx=3466) ---\n",
      "i don't remember the invite. would love to go, but i need to play school bus today for |  viv.\n",
      "i don't remember the invite. would love to go, but i need to play school bus today for |  the next few weeks\n",
      "\n",
      "--- sample 8 (idx=21761) ---\n",
      "just wanna say that i love that you guys have this twitter thanks for all the updates lots of love from |  sweden\n",
      "just wanna say that i love that you guys have this twitter thanks for all the updates lots of love from |  the world\n",
      "\n",
      "--- sample 9 (idx=33233) ---\n",
      "got an ez 4miler in, shower, then out for a ride on the shadow. it | 's quiet w o the family\n",
      "got an ez 4miler in, shower, then out for a ride on the shadow. it | 's a good day\n",
      "\n",
      "--- sample 10 (idx=33766) ---\n",
      "chicagopersonals ok guys, please don't disappoint me again w4m ford city |  mall 21yr i tir.\n",
      "chicagopersonals ok guys, please don't disappoint me again w4m ford city | \n",
      "\n",
      "\n",
      "[Примеры размер контекста = 28]\n",
      "--- sample 1 (idx=13234) ---\n",
      ".but i know i'm underestimating the bond i would form with someone else's child ah well.it was a fun idea for a |  few minutes\n",
      ".but i know i'm underestimating the bond i would form with someone else's child ah well.it was a fun idea for a | ussie\n",
      "\n",
      "--- sample 2 (idx=8308) ---\n",
      "we're back in maine now. can't believe we left ma and it was 80 and sunny and 2 hours l8tr its 60 |  and pouring.\n",
      "we're back in maine now. can't believe we left ma and it was 80 and sunny and 2 hours l8tr its 60 | \n",
      "\n",
      "--- sample 3 (idx=5203) ---\n",
      "and its lack of adherence to web standards btw loving your 3gs coverage. we dont get it until next friday here in austral | ia\n",
      "and its lack of adherence to web standards btw loving your 3gs coverage. we dont get it until next friday here in austral | ia\n",
      "\n",
      "--- sample 4 (idx=313) ---\n",
      "1. ilovevenice kiwi bonded with zoe bell. i love badass women. 2. cooking bfast burritos |  to pearl jam quot cook hash until the end of. quot .\n",
      "1. ilovevenice kiwi bonded with zoe bell. i love badass women. 2. cooking bfast burritos | .\n",
      "\n",
      "--- sample 5 (idx=6856) ---\n",
      "82 degrees in the middle of the night, in ohio sorry for making fun, , if that's your twitter name. an inconvenient truth | , indeed\n",
      "82 degrees in the middle of the night, in ohio sorry for making fun, , if that's your twitter name. an inconvenient truth | \n",
      "\n",
      "--- sample 6 (idx=13889) ---\n",
      "blimey there is sum1 on twitter near my age and wouldn t ya know it, its me ol mucker gee yes u |  dont look 33\n",
      "blimey there is sum1 on twitter near my age and wouldn t ya know it, its me ol mucker gee yes u | \n",
      "\n",
      "--- sample 7 (idx=9316) ---\n",
      "heading to bed forreal this time. tryna fall asleep is jus the hard part. cuddling up to my mans aka the |  body pillow lol so sad to say\n",
      "heading to bed forreal this time. tryna fall asleep is jus the hard part. cuddling up to my mans aka the |  house.\n",
      "\n",
      "--- sample 8 (idx=1703) ---\n",
      "morning guys good nite.didnt sleep last night,just kept turning and tossing in bed.2day 2 sleepy to really work need |  coffee\n",
      "morning guys good nite.didnt sleep last night,just kept turning and tossing in bed.2day 2 sleepy to really work need |  to get up early\n",
      "\n",
      "--- sample 9 (idx=3847) ---\n",
      "meh. canceling all plans tonight. still in recovery mode after last night. sure did have fun though. sorry to everyone i'm |  canceling on\n",
      "meh. canceling all plans tonight. still in recovery mode after last night. sure did have fun though. sorry to everyone i'm |  sorry\n",
      "\n",
      "--- sample 10 (idx=14368) ---\n",
      "i lament about it a lot. i just don't like swimming. just finished up 25 minutes at the pool. it's about as fun |  as.\n",
      "i lament about it a lot. i just don't like swimming. just finished up 25 minutes at the pool. it's about as fun | \n",
      "\n",
      "[ROUGE-L@epoch 19] K=1: 0.0689 (n=152639) | K=7: 0.0614 (n=127042) | K=21: 0.0630 (n=42923) | K=28: 0.0690 (n=15555)\n"
     ]
    },
    {
     "name": "stderr",
     "output_type": "stream",
     "text": [
      "Epoch 20: 100%|██████████| 2576/2576 [01:39<00:00, 25.90batch/s]\n"
     ]
    },
    {
     "name": "stdout",
     "output_type": "stream",
     "text": [
      "train loss: 4.5594 | valid loss: 4.5569 | ppl: 95.29 | acc@1: 0.2355 | acc@5: 0.4456\n"
     ]
    },
    {
     "name": "stderr",
     "output_type": "stream",
     "text": [
      "Epoch 21: 100%|██████████| 2576/2576 [01:39<00:00, 25.88batch/s]\n"
     ]
    },
    {
     "name": "stdout",
     "output_type": "stream",
     "text": [
      "train loss: 4.5513 | valid loss: 4.5525 | ppl: 94.87 | acc@1: 0.2353 | acc@5: 0.4461\n"
     ]
    },
    {
     "name": "stderr",
     "output_type": "stream",
     "text": [
      "Epoch 22: 100%|██████████| 2576/2576 [01:39<00:00, 26.00batch/s]\n"
     ]
    },
    {
     "name": "stdout",
     "output_type": "stream",
     "text": [
      "train loss: 4.5469 | valid loss: 4.5487 | ppl: 94.51 | acc@1: 0.2353 | acc@5: 0.4463\n"
     ]
    },
    {
     "name": "stderr",
     "output_type": "stream",
     "text": [
      "Epoch 23: 100%|██████████| 2576/2576 [01:40<00:00, 25.60batch/s]\n"
     ]
    },
    {
     "name": "stdout",
     "output_type": "stream",
     "text": [
      "train loss: 4.5417 | valid loss: 4.5449 | ppl: 94.15 | acc@1: 0.2369 | acc@5: 0.4464\n"
     ]
    },
    {
     "name": "stderr",
     "output_type": "stream",
     "text": [
      "Epoch 24: 100%|██████████| 2576/2576 [01:39<00:00, 25.88batch/s]\n"
     ]
    },
    {
     "name": "stdout",
     "output_type": "stream",
     "text": [
      "train loss: 4.5352 | valid loss: 4.5439 | ppl: 94.06 | acc@1: 0.2365 | acc@5: 0.4479\n"
     ]
    },
    {
     "name": "stderr",
     "output_type": "stream",
     "text": [
      "Epoch 25: 100%|██████████| 2576/2576 [01:38<00:00, 26.05batch/s]\n"
     ]
    },
    {
     "name": "stdout",
     "output_type": "stream",
     "text": [
      "train loss: 4.5313 | valid loss: 4.5434 | ppl: 94.01 | acc@1: 0.2360 | acc@5: 0.4474\n"
     ]
    },
    {
     "name": "stderr",
     "output_type": "stream",
     "text": [
      "Epoch 26: 100%|██████████| 2576/2576 [01:40<00:00, 25.74batch/s]\n"
     ]
    },
    {
     "name": "stdout",
     "output_type": "stream",
     "text": [
      "train loss: 4.5263 | valid loss: 4.5374 | ppl: 93.45 | acc@1: 0.2364 | acc@5: 0.4475\n"
     ]
    },
    {
     "name": "stderr",
     "output_type": "stream",
     "text": [
      "Epoch 27: 100%|██████████| 2576/2576 [01:39<00:00, 25.95batch/s]\n"
     ]
    },
    {
     "name": "stdout",
     "output_type": "stream",
     "text": [
      "train loss: 4.5221 | valid loss: 4.5370 | ppl: 93.41 | acc@1: 0.2373 | acc@5: 0.4475\n"
     ]
    },
    {
     "name": "stderr",
     "output_type": "stream",
     "text": [
      "Epoch 28: 100%|██████████| 2576/2576 [01:40<00:00, 25.66batch/s]\n"
     ]
    },
    {
     "name": "stdout",
     "output_type": "stream",
     "text": [
      "train loss: 4.5176 | valid loss: 4.5341 | ppl: 93.14 | acc@1: 0.2371 | acc@5: 0.4493\n"
     ]
    },
    {
     "name": "stderr",
     "output_type": "stream",
     "text": [
      "Epoch 29: 100%|██████████| 2576/2576 [01:38<00:00, 26.14batch/s]\n"
     ]
    },
    {
     "name": "stdout",
     "output_type": "stream",
     "text": [
      "train loss: 4.5129 | valid loss: 4.5340 | ppl: 93.13 | acc@1: 0.2369 | acc@5: 0.4486\n",
      "\n",
      "[Примеры размер контекста = 1]\n",
      "--- sample 1 (idx=68847) ---\n",
      "ch | atted with the ex yesterday after 4 months of no contact. seemed like the life had been sucked out of her. she was so bland poor girl\n",
      "ch | \n",
      "\n",
      "--- sample 2 (idx=100164) ---\n",
      "i | 'm tired of airports i've been in an airport for eight of the 13 hours i've been awake today.\n",
      "i | 'm soo tired. i'm so tired.\n",
      "\n",
      "--- sample 3 (idx=145002) ---\n",
      "h | aha lucky you sleep well and hugs to chappie\n",
      "h | aha. i'm soo tired. i'm soo tired.\n",
      "\n",
      "--- sample 4 (idx=136651) ---\n",
      "cold |  too\n",
      "cold | \n",
      "\n",
      "--- sample 5 (idx=48089) ---\n",
      ". |  i'm not ready for bootcamp class. assessments are tomorrow. i don't feel more fit, but i gotta be right i guess we'll see.\n",
      ". | \n",
      "\n",
      "--- sample 6 (idx=134502) ---\n",
      "h | ahahahaha it's i scream into the night for you.it's a line from a song\n",
      "h | aha. i'm soo tired. i'm soo tired.\n",
      "\n",
      "--- sample 7 (idx=23675) ---\n",
      "fe | elin poorly, sore throat going to doctors in an hour\n",
      "fe | eling like crap.\n",
      "\n",
      "--- sample 8 (idx=121077) ---\n",
      "aw | w a 26 year old australian man has died of swine flu\n",
      "aw | w i'm sorry i'm sorry i didn't get to see you guys tonight\n",
      "\n",
      "--- sample 9 (idx=111889) ---\n",
      "om | g, i've made such a terrible mistake blimey\n",
      "om | g i'm soo bored. i'm soo tired.\n",
      "\n",
      "--- sample 10 (idx=46803) ---\n",
      "good |  night all. sweet dreams and i'll talk to you all 2morrow.\n",
      "good |  morning\n",
      "\n",
      "\n",
      "[Примеры размер контекста = 7]\n",
      "--- sample 1 (idx=8627) ---\n",
      "the joy of my brain is that |  everytime i woke up i just though over what just ahppened and the dream carried on when i went back to sleep\n",
      "the joy of my brain is that |  i'm going to be a good day\n",
      "\n",
      "--- sample 2 (idx=81798) ---\n",
      "twitterfon still works for me | . idk why it hates you bb\n",
      "twitterfon still works for me | \n",
      "\n",
      "--- sample 3 (idx=35869) ---\n",
      "heh at first i saw your |  is following email come in and i thoight oh egads like the mandrake mechanism howdy.\n",
      "heh at first i saw your | space page.\n",
      "\n",
      "--- sample 4 (idx=29833) ---\n",
      "this week is dragging so much. |  . one more day until the holidays. seems like too long.\n",
      "this week is dragging so much. | \n",
      "\n",
      "--- sample 5 (idx=1483) ---\n",
      "some bob bryar since he | 's the awesomest drummer known to man\n",
      "some bob bryar since he |  is a good thing\n",
      "\n",
      "--- sample 6 (idx=122709) ---\n",
      "urgh sorry to hear you're |  still in pain, hope they cam sort it this afternoon hun x\n",
      "urgh sorry to hear you're |  feeling better\n",
      "\n",
      "--- sample 7 (idx=62130) ---\n",
      "am delighted to be on 's |  list of charity twitterers and hello to the new folk\n",
      "am delighted to be on 's | \n",
      "\n",
      "--- sample 8 (idx=82266) ---\n",
      "wearing my i lt 3 | ny tshirt ready for school. in a sec p ttyl go to bed. p love you. xox\n",
      "wearing my i lt 3 | rd time\n",
      "\n",
      "--- sample 9 (idx=117402) ---\n",
      "just remember gaz has done heartbeat |  and home and away and neighbours from hell lol he'll be fine\n",
      "just remember gaz has done heartbeat | .\n",
      "\n",
      "--- sample 10 (idx=97366) ---\n",
      "back to the grind of a 9 |  5, only for three days though\n",
      "back to the grind of a 9 | .\n",
      "\n",
      "\n",
      "[Примеры размер контекста = 21]\n",
      "--- sample 1 (idx=26454) ---\n",
      "got to the part in airman where the dead guy's arm pops out amp my screensaver came on | . too scary i'll finish this tomorrow night\n",
      "got to the part in airman where the dead guy's arm pops out amp my screensaver came on |  the floor\n",
      "\n",
      "--- sample 2 (idx=7581) ---\n",
      "and now it's time to play the game quot how well can you function on less than five hours sleep |  quot\n",
      "and now it's time to play the game quot how well can you function on less than five hours sleep | \n",
      "\n",
      "--- sample 3 (idx=15682) ---\n",
      "living my life the way i want ejoying things the way they should be amp countin down the |  days till school ends amp then drama free heh\n",
      "living my life the way i want ejoying things the way they should be amp countin down the |  world\n",
      "\n",
      "--- sample 4 (idx=20964) ---\n",
      "you girls will do great i've no doubt about it cannot wait to see it all come to action now |  woo roll on tuesday\n",
      "you girls will do great i've no doubt about it cannot wait to see it all come to action now | \n",
      "\n",
      "--- sample 5 (idx=38976) ---\n",
      "i wanna tell you how much i miss you ,and how much i love you ,but i cant . |  cause if i tell you ,you might be run away\n",
      "i wanna tell you how much i miss you ,and how much i love you ,but i cant . |  . . . . . . . . . . . . . . . . . . . . . . . . . . . . . . . .\n",
      "\n",
      "--- sample 6 (idx=14608) ---\n",
      "hope u feel better i know u feel.i had bronchitis while i was pregnant.but |  with me i couldn't get any meds\n",
      "hope u feel better i know u feel.i had bronchitis while i was pregnant.but |  i'm not sure i'm gonna be able to get it\n",
      "\n",
      "--- sample 7 (idx=19589) ---\n",
      "can i have sign so i can hang it up in my room lol. i would have to ask if |  its ok though.\n",
      "can i have sign so i can hang it up in my room lol. i would have to ask if |  i can get it.\n",
      "\n",
      "--- sample 8 (idx=15585) ---\n",
      "watchin the start of the logies love lusting after the fashion. wish i was famous just so |  i could get that dressed up\n",
      "watchin the start of the logies love lusting after the fashion. wish i was famous just so |  sad\n",
      "\n",
      "--- sample 9 (idx=36046) ---\n",
      "getting ready for last sat. performance of quot my favorite year quot at broadhollow in elmont. |  getting misty eyed\n",
      "getting ready for last sat. performance of quot my favorite year quot at broadhollow in elmont. | \n",
      "\n",
      "--- sample 10 (idx=19811) ---\n",
      "mondays hurt me when it seems all the disappointment of last week is just starting over. missed call 5 |  hrs ago to pick up a shift at work\n",
      "mondays hurt me when it seems all the disappointment of last week is just starting over. missed call 5 | .\n",
      "\n",
      "\n",
      "[Примеры размер контекста = 28]\n",
      "--- sample 1 (idx=4258) ---\n",
      "now on the train. the one i wanted had sold out so it means i get to dnepropetrovsk at 1. | 26 instead of 23.38. but i am in 1st class\n",
      "now on the train. the one i wanted had sold out so it means i get to dnepropetrovsk at 1. | \n",
      "\n",
      "--- sample 2 (idx=1753) ---\n",
      "muh. when i drove by mcdonalds, i only had 50 pesos left in my wallet so i had to buy the chicken |  fillet meal lang. fail.\n",
      "muh. when i drove by mcdonalds, i only had 50 pesos left in my wallet so i had to buy the chicken | \n",
      "\n",
      "--- sample 3 (idx=14567) ---\n",
      "seems as tho yesterday's twitter maintenance caused a disruption to tweetlater replies. what a drag, i have a fb link to share | .\n",
      "seems as tho yesterday's twitter maintenance caused a disruption to tweetlater replies. what a drag, i have a fb link to share | \n",
      "\n",
      "--- sample 4 (idx=10498) ---\n",
      "no more desperate housewivess for like one whole yearr what will i do hehe got to do maths homework instead n eek |  x\n",
      "no more desperate housewivess for like one whole yearr what will i do hehe got to do maths homework instead n eek | \n",
      "\n",
      "--- sample 5 (idx=12823) ---\n",
      "is my kick a sister from another mister in rl. she's my partner n crime. and her name is christine, too |  lol\n",
      "is my kick a sister from another mister in rl. she's my partner n crime. and her name is christine, too | \n",
      "\n",
      "--- sample 6 (idx=10522) ---\n",
      "i've been watching i am legend so much lately and always cry when he has to.take care of samantha. also i am so |  sunburnt.\n",
      "i've been watching i am legend so much lately and always cry when he has to.take care of samantha. also i am so |  happy\n",
      "\n",
      "--- sample 7 (idx=6214) ---\n",
      "i wanna re live may16. awesome. i love cook after seeing him performing, i never really liked him but archie is still my |  soo awesome\n",
      "i wanna re live may16. awesome. i love cook after seeing him performing, i never really liked him but archie is still my |  favorite\n",
      "\n",
      "--- sample 8 (idx=13718) ---\n",
      "yup, needed the tissues for bsg but not quite in the way i thought. i'm just kind of blank amp numb amp confused | . don't be over show\n",
      "yup, needed the tissues for bsg but not quite in the way i thought. i'm just kind of blank amp numb amp confused | \n",
      "\n",
      "--- sample 9 (idx=11893) ---\n",
      "this week was a hard one for me sick with the flu amp in bed until today but when i finally feel better my 2 daughters get sick |  w a fever\n",
      "this week was a hard one for me sick with the flu amp in bed until today but when i finally feel better my 2 daughters get sick | \n",
      "\n",
      "--- sample 10 (idx=13925) ---\n",
      "good morning world friday can't wait for the day to end so i can go home and wrestle with my son he swears he's |  in the ufc\n",
      "good morning world friday can't wait for the day to end so i can go home and wrestle with my son he swears he's |  a good thing\n",
      "\n",
      "[ROUGE-L@epoch 29] K=1: 0.0722 (n=152639) | K=7: 0.0653 (n=127042) | K=21: 0.0642 (n=42923) | K=28: 0.0694 (n=15555)\n"
     ]
    },
    {
     "name": "stderr",
     "output_type": "stream",
     "text": [
      "Epoch 30: 100%|██████████| 2576/2576 [01:32<00:00, 27.90batch/s]\n"
     ]
    },
    {
     "name": "stdout",
     "output_type": "stream",
     "text": [
      "train loss: 4.5101 | valid loss: 4.5322 | ppl: 92.96 | acc@1: 0.2364 | acc@5: 0.4495\n"
     ]
    },
    {
     "name": "stderr",
     "output_type": "stream",
     "text": [
      "Epoch 31: 100%|██████████| 2576/2576 [01:31<00:00, 28.02batch/s]\n"
     ]
    },
    {
     "name": "stdout",
     "output_type": "stream",
     "text": [
      "train loss: 4.5050 | valid loss: 4.5313 | ppl: 92.88 | acc@1: 0.2374 | acc@5: 0.4493\n"
     ]
    },
    {
     "name": "stderr",
     "output_type": "stream",
     "text": [
      "Epoch 32: 100%|██████████| 2576/2576 [01:32<00:00, 27.96batch/s]\n"
     ]
    },
    {
     "name": "stdout",
     "output_type": "stream",
     "text": [
      "train loss: 4.5030 | valid loss: 4.5287 | ppl: 92.63 | acc@1: 0.2375 | acc@5: 0.4502\n"
     ]
    },
    {
     "name": "stderr",
     "output_type": "stream",
     "text": [
      "Epoch 33: 100%|██████████| 2576/2576 [01:32<00:00, 27.95batch/s]\n"
     ]
    },
    {
     "name": "stdout",
     "output_type": "stream",
     "text": [
      "train loss: 4.4992 | valid loss: 4.5274 | ppl: 92.52 | acc@1: 0.2368 | acc@5: 0.4490\n"
     ]
    },
    {
     "name": "stderr",
     "output_type": "stream",
     "text": [
      "Epoch 34: 100%|██████████| 2576/2576 [01:31<00:00, 28.14batch/s]\n"
     ]
    },
    {
     "name": "stdout",
     "output_type": "stream",
     "text": [
      "train loss: 4.4965 | valid loss: 4.5283 | ppl: 92.60 | acc@1: 0.2376 | acc@5: 0.4495\n"
     ]
    },
    {
     "name": "stderr",
     "output_type": "stream",
     "text": [
      "Epoch 35: 100%|██████████| 2576/2576 [01:32<00:00, 27.95batch/s]\n"
     ]
    },
    {
     "name": "stdout",
     "output_type": "stream",
     "text": [
      "train loss: 4.4930 | valid loss: 4.5233 | ppl: 92.14 | acc@1: 0.2372 | acc@5: 0.4506\n"
     ]
    },
    {
     "name": "stderr",
     "output_type": "stream",
     "text": [
      "Epoch 36: 100%|██████████| 2576/2576 [01:32<00:00, 27.99batch/s]\n"
     ]
    },
    {
     "name": "stdout",
     "output_type": "stream",
     "text": [
      "train loss: 4.4891 | valid loss: 4.5241 | ppl: 92.21 | acc@1: 0.2368 | acc@5: 0.4506\n"
     ]
    },
    {
     "name": "stderr",
     "output_type": "stream",
     "text": [
      "Epoch 37: 100%|██████████| 2576/2576 [01:31<00:00, 28.13batch/s]\n"
     ]
    },
    {
     "name": "stdout",
     "output_type": "stream",
     "text": [
      "train loss: 4.4888 | valid loss: 4.5221 | ppl: 92.03 | acc@1: 0.2376 | acc@5: 0.4505\n"
     ]
    },
    {
     "name": "stderr",
     "output_type": "stream",
     "text": [
      "Epoch 38: 100%|██████████| 2576/2576 [01:31<00:00, 28.15batch/s]\n"
     ]
    },
    {
     "name": "stdout",
     "output_type": "stream",
     "text": [
      "train loss: 4.4859 | valid loss: 4.5232 | ppl: 92.13 | acc@1: 0.2383 | acc@5: 0.4510\n"
     ]
    },
    {
     "name": "stderr",
     "output_type": "stream",
     "text": [
      "Epoch 39: 100%|██████████| 2576/2576 [01:32<00:00, 27.86batch/s]\n"
     ]
    },
    {
     "name": "stdout",
     "output_type": "stream",
     "text": [
      "train loss: 4.4830 | valid loss: 4.5197 | ppl: 91.81 | acc@1: 0.2385 | acc@5: 0.4510\n",
      "\n",
      "[Примеры размер контекста = 1]\n",
      "--- sample 1 (idx=106145) ---\n",
      "that | 's ok dude no worries\n",
      "that | 's a good thing\n",
      "\n",
      "--- sample 2 (idx=41820) ---\n",
      "at |  parents church sitting behind a lady with a tamberine who doesn't know tempo\n",
      "at |  the house.\n",
      "\n",
      "--- sample 3 (idx=137794) ---\n",
      "i | 'm always there w u sweetie\n",
      "i | 'm so sorry to hear that.\n",
      "\n",
      "--- sample 4 (idx=57904) ---\n",
      "is |  shattered again\n",
      "is |  going to bed. i'm so tired.\n",
      "\n",
      "--- sample 5 (idx=46259) ---\n",
      "are |  japanese and spanish similar. cuz they sound like it stupib neighbors.\n",
      "are |  you\n",
      "\n",
      "--- sample 6 (idx=74326) ---\n",
      "i | 'm really sorry i'm here if you wanna talk about anything\n",
      "i | 'm so sorry to hear that.\n",
      "\n",
      "--- sample 7 (idx=61488) ---\n",
      "i |  love youu and im saad you had to get off the phoone\n",
      "i | 'm so sorry to hear that.\n",
      "\n",
      "--- sample 8 (idx=33103) ---\n",
      "r |  i haven't twittered in so long i'm laying in bed amp can't get out amp i have to can't wait for tomorrow off from work p\n",
      "r | .\n",
      "\n",
      "--- sample 9 (idx=98654) ---\n",
      "my |  hair is being all nice but i have no where to go show it off\n",
      "my |  friend is going to the beach\n",
      "\n",
      "--- sample 10 (idx=145019) ---\n",
      "5 |  more followers please to make me happy\n",
      "5 | .\n",
      "\n",
      "\n",
      "[Примеры размер контекста = 7]\n",
      "--- sample 1 (idx=91001) ---\n",
      "aww i love when people are |  totally into each other\n",
      "aww i love when people are |  you\n",
      "\n",
      "--- sample 2 (idx=105697) ---\n",
      "aahh i bet you do th | x 4 clearin' that up\n",
      "aahh i bet you do th | x\n",
      "\n",
      "--- sample 3 (idx=60805) ---\n",
      "apparently the 'she' reference |  further proves what carlin had to say, quot no woman could or would ever fuck things up like this. quot\n",
      "apparently the 'she' reference |  is a good idea.\n",
      "\n",
      "--- sample 4 (idx=29264) ---\n",
      "i so do not want to go |  to work tomorrow bleh\n",
      "i so do not want to go |  to bed.\n",
      "\n",
      "--- sample 5 (idx=51711) ---\n",
      "frapuchino bad move, |  even more upset stomach now\n",
      "frapuchino bad move, |  i'm not sure if i'll be able to get it to work\n",
      "\n",
      "--- sample 6 (idx=54431) ---\n",
      "my verse done xd for the |  ready for whatever zone gang remix\n",
      "my verse done xd for the |  first time in ages.\n",
      "\n",
      "--- sample 7 (idx=48107) ---\n",
      "i just got booted from the main |  room\n",
      "i just got booted from the main |  page. i'm so sorry\n",
      "\n",
      "--- sample 8 (idx=17811) ---\n",
      "i think emilie is good |  woman. but,i dunno for sure.i think rob will always choose his phone if they have break.\n",
      "i think emilie is good |  luck with the exam\n",
      "\n",
      "--- sample 9 (idx=99173) ---\n",
      "thanx i just watched them on |  youtube and they were amazing x\n",
      "thanx i just watched them on |  the radio. i'm so excited\n",
      "\n",
      "--- sample 10 (idx=64124) ---\n",
      "jade buddha tonight, |  kitty tomorrow, birthday day after\n",
      "jade buddha tonight, |  i'm going to miss my friends\n",
      "\n",
      "\n",
      "[Примеры размер контекста = 21]\n",
      "--- sample 1 (idx=32379) ---\n",
      "yes they are ok. heard from them last night. they were shaken up a good bit, but they |  are fine thanks\n",
      "yes they are ok. heard from them last night. they were shaken up a good bit, but they |  were so cute\n",
      "\n",
      "--- sample 2 (idx=29634) ---\n",
      "eagle boy in port hedland, ate it, but not as good as many others. is better |  than no pizza place at all, tho.\n",
      "eagle boy in port hedland, ate it, but not as good as many others. is better |  than the other.\n",
      "\n",
      "--- sample 3 (idx=32524) ---\n",
      "what do you mean by both ways like front back and right left that would be sweet. you should do |  it on july 9\n",
      "what do you mean by both ways like front back and right left that would be sweet. you should do | o\n",
      "\n",
      "--- sample 4 (idx=3601) ---\n",
      "contemplating another ten minutes in bed, or taking the duvet to the couch coffee amp laptop by |  couch so i'm relocating\n",
      "contemplating another ten minutes in bed, or taking the duvet to the couch coffee amp laptop by |  myself\n",
      "\n",
      "--- sample 5 (idx=41648) ---\n",
      "lol i love seeing tweets that say go redwings score and i hate the redwings, go penguins |  at the very same second\n",
      "lol i love seeing tweets that say go redwings score and i hate the redwings, go penguins | \n",
      "\n",
      "--- sample 6 (idx=8584) ---\n",
      "beautifully and, you just cleaned up a raccoon mess by my back door, and all is well | .\n",
      "beautifully and, you just cleaned up a raccoon mess by my back door, and all is well | .\n",
      "\n",
      "--- sample 7 (idx=40421) ---\n",
      "he he thanks i just was told so excited. btw i love how u said oh my jon | as lt 3\n",
      "he he thanks i just was told so excited. btw i love how u said oh my jon | \n",
      "\n",
      "--- sample 8 (idx=21221) ---\n",
      "am so tempted to get out my medieval and gregorian chant music collection ready for an early morning wake |  up call. lol\n",
      "am so tempted to get out my medieval and gregorian chant music collection ready for an early morning wake |  up\n",
      "\n",
      "--- sample 9 (idx=1255) ---\n",
      "have you seen my drawing already i've tweeted it around the 22th may. would love to hear your |  opinion. have a nice day\n",
      "have you seen my drawing already i've tweeted it around the 22th may. would love to hear your |  music\n",
      "\n",
      "--- sample 10 (idx=23979) ---\n",
      "ok, go to sleep and then find me a bf tomorrow im sure marcus got some tall friends |  that dont smell funny lol\n",
      "ok, go to sleep and then find me a bf tomorrow im sure marcus got some tall friends | \n",
      "\n",
      "\n",
      "[Примеры размер контекста = 28]\n",
      "--- sample 1 (idx=10768) ---\n",
      "soon susi will be coming to sit at this desk and i'll be off home with my bottle of wine that's why i love you |  suse\n",
      "soon susi will be coming to sit at this desk and i'll be off home with my bottle of wine that's why i love you | 're so sweet\n",
      "\n",
      "--- sample 2 (idx=15176) ---\n",
      "what does it say about australians coz on most days i am at home and the only logos i see in the bush are on |  the internet\n",
      "what does it say about australians coz on most days i am at home and the only logos i see in the bush are on |  me\n",
      "\n",
      "--- sample 3 (idx=8781) ---\n",
      "i'm glad to know i'm not the only crafter who pulls all nighters i am done with sashing now bed so i can |  finish with bias in morn. nite\n",
      "i'm glad to know i'm not the only crafter who pulls all nighters i am done with sashing now bed so i can | 't sleep\n",
      "\n",
      "--- sample 4 (idx=6904) ---\n",
      "missing my eric who's in dc till tomorrow, but i'll be holding down a couch in the crew room. sometimes i hate my |  job.\n",
      "missing my eric who's in dc till tomorrow, but i'll be holding down a couch in the crew room. sometimes i hate my | space\n",
      "\n",
      "--- sample 5 (idx=8579) ---\n",
      "i need new episodes of torchwood and doctor who and pushing daisies. and i'm gonna be done with nip tuck soon | . what am i going to watch\n",
      "i need new episodes of torchwood and doctor who and pushing daisies. and i'm gonna be done with nip tuck soon | \n",
      "\n",
      "--- sample 6 (idx=12438) ---\n",
      "thinking of going to bed early tonight cause the sunburn freaking hurts like a bitch gt lt it's making me feel ill it hurts |  so bad\n",
      "thinking of going to bed early tonight cause the sunburn freaking hurts like a bitch gt lt it's making me feel ill it hurts | \n",
      "\n",
      "--- sample 7 (idx=8904) ---\n",
      "ok i'm done for th night i'm swamped ugh btw i talked to my pr lover boy i love his accent it makes |  me happy. i can't wait to see him\n",
      "ok i'm done for th night i'm swamped ugh btw i talked to my pr lover boy i love his accent it makes |  me cry\n",
      "\n",
      "--- sample 8 (idx=7223) ---\n",
      "what, no apps for it hehe, i canceled my c905 order in time, because it has a weird software afaik symb | ian is way better\n",
      "what, no apps for it hehe, i canceled my c905 order in time, because it has a weird software afaik symb | ian.\n",
      "\n",
      "--- sample 9 (idx=779) ---\n",
      "soo. i go to the gym 5 times a week and i burn my legs off, yet my weight remains the same how rubbish is |  that.\n",
      "soo. i go to the gym 5 times a week and i burn my legs off, yet my weight remains the same how rubbish is |  it\n",
      "\n",
      "--- sample 10 (idx=15147) ---\n",
      "and i need a sober driver for the night.we dont have any plans.or place to go.but either way.we'll need |  a d.d.\n",
      "and i need a sober driver for the night.we dont have any plans.or place to go.but either way.we'll need |  to get together\n",
      "\n",
      "[ROUGE-L@epoch 39] K=1: 0.0754 (n=152639) | K=7: 0.0656 (n=127042) | K=21: 0.0658 (n=42923) | K=28: 0.0727 (n=15555)\n"
     ]
    },
    {
     "name": "stderr",
     "output_type": "stream",
     "text": [
      "Epoch 40: 100%|██████████| 2576/2576 [01:31<00:00, 28.07batch/s]\n"
     ]
    },
    {
     "name": "stdout",
     "output_type": "stream",
     "text": [
      "train loss: 4.4802 | valid loss: 4.5187 | ppl: 91.72 | acc@1: 0.2379 | acc@5: 0.4512\n"
     ]
    },
    {
     "name": "stderr",
     "output_type": "stream",
     "text": [
      "Epoch 41: 100%|██████████| 2576/2576 [01:32<00:00, 27.85batch/s]\n"
     ]
    },
    {
     "name": "stdout",
     "output_type": "stream",
     "text": [
      "train loss: 4.4784 | valid loss: 4.5220 | ppl: 92.02 | acc@1: 0.2386 | acc@5: 0.4515\n"
     ]
    },
    {
     "name": "stderr",
     "output_type": "stream",
     "text": [
      "Epoch 42: 100%|██████████| 2576/2576 [01:31<00:00, 28.03batch/s]\n"
     ]
    },
    {
     "name": "stdout",
     "output_type": "stream",
     "text": [
      "train loss: 4.4751 | valid loss: 4.5189 | ppl: 91.74 | acc@1: 0.2389 | acc@5: 0.4523\n"
     ]
    },
    {
     "name": "stderr",
     "output_type": "stream",
     "text": [
      "Epoch 43: 100%|██████████| 2576/2576 [01:32<00:00, 27.98batch/s]\n"
     ]
    },
    {
     "name": "stdout",
     "output_type": "stream",
     "text": [
      "train loss: 4.4745 | valid loss: 4.5176 | ppl: 91.62 | acc@1: 0.2389 | acc@5: 0.4515\n"
     ]
    },
    {
     "name": "stderr",
     "output_type": "stream",
     "text": [
      "Epoch 44: 100%|██████████| 2576/2576 [01:31<00:00, 28.08batch/s]\n"
     ]
    },
    {
     "name": "stdout",
     "output_type": "stream",
     "text": [
      "train loss: 4.4714 | valid loss: 4.5191 | ppl: 91.75 | acc@1: 0.2391 | acc@5: 0.4513\n"
     ]
    },
    {
     "name": "stderr",
     "output_type": "stream",
     "text": [
      "Epoch 45: 100%|██████████| 2576/2576 [01:32<00:00, 27.89batch/s]\n"
     ]
    },
    {
     "name": "stdout",
     "output_type": "stream",
     "text": [
      "train loss: 4.4701 | valid loss: 4.5168 | ppl: 91.54 | acc@1: 0.2397 | acc@5: 0.4516\n"
     ]
    },
    {
     "name": "stderr",
     "output_type": "stream",
     "text": [
      "Epoch 46: 100%|██████████| 2576/2576 [01:31<00:00, 28.04batch/s]\n"
     ]
    },
    {
     "name": "stdout",
     "output_type": "stream",
     "text": [
      "train loss: 4.4669 | valid loss: 4.5155 | ppl: 91.42 | acc@1: 0.2384 | acc@5: 0.4515\n"
     ]
    },
    {
     "name": "stderr",
     "output_type": "stream",
     "text": [
      "Epoch 47: 100%|██████████| 2576/2576 [01:31<00:00, 28.07batch/s]\n"
     ]
    },
    {
     "name": "stdout",
     "output_type": "stream",
     "text": [
      "train loss: 4.4659 | valid loss: 4.5141 | ppl: 91.29 | acc@1: 0.2390 | acc@5: 0.4527\n"
     ]
    },
    {
     "name": "stderr",
     "output_type": "stream",
     "text": [
      "Epoch 48: 100%|██████████| 2576/2576 [01:32<00:00, 27.99batch/s]\n"
     ]
    },
    {
     "name": "stdout",
     "output_type": "stream",
     "text": [
      "train loss: 4.4642 | valid loss: 4.5156 | ppl: 91.43 | acc@1: 0.2394 | acc@5: 0.4517\n"
     ]
    },
    {
     "name": "stderr",
     "output_type": "stream",
     "text": [
      "Epoch 49: 100%|██████████| 2576/2576 [01:32<00:00, 27.84batch/s]\n"
     ]
    },
    {
     "name": "stdout",
     "output_type": "stream",
     "text": [
      "train loss: 4.4612 | valid loss: 4.5129 | ppl: 91.19 | acc@1: 0.2391 | acc@5: 0.4521\n",
      "\n",
      "[Примеры размер контекста = 1]\n",
      "--- sample 1 (idx=128815) ---\n",
      "at |  least you don't have to babysit with the worst case of the common cold. but still\n",
      "at |  the airport.\n",
      "\n",
      "--- sample 2 (idx=34022) ---\n",
      "that |  means they ate going straight back to the us\n",
      "that | 's a good thing\n",
      "\n",
      "--- sample 3 (idx=151081) ---\n",
      "is |  getting ready for class then work\n",
      "is |  going to bed. i'm so tired.\n",
      "\n",
      "--- sample 4 (idx=21050) ---\n",
      "don | 't sell my ps2\n",
      "don | 't know what to do with my phone.\n",
      "\n",
      "--- sample 5 (idx=97699) ---\n",
      "the |  prospect of weight loss scares me, i have never been in this terrible position before. i may go to bed now, have to get up early\n",
      "the | res no way to go to the beach\n",
      "\n",
      "--- sample 6 (idx=7306) ---\n",
      "my |  some hurt himself yesterday. off to the vet tomorrow\n",
      "my |  friend is going to the hospital.\n",
      "\n",
      "--- sample 7 (idx=34051) ---\n",
      "lol | . let me know when you are in town again and i'll set you up with something dm an address\n",
      "lol |  i'm soo tired. i'm so tired.\n",
      "\n",
      "--- sample 8 (idx=75296) ---\n",
      "as |  i suggested to jessica, we need to attempt another girls night next weekend. sry i missed you today yesterday i'm sick.\n",
      "as | \n",
      "\n",
      "--- sample 9 (idx=107016) ---\n",
      "gr | r.stupid internet connection ruined a great scrabble game\n",
      "gr | r. i'm so tired.\n",
      "\n",
      "--- sample 10 (idx=8615) ---\n",
      "ok | ay going off now.see ya when i see ya\n",
      "ok | ay, i'm going to bed now. i'm going to bed. i'm so tired.\n",
      "\n",
      "\n",
      "[Примеры размер контекста = 7]\n",
      "--- sample 1 (idx=39617) ---\n",
      "going out to dinner tonight. we |  have to celebrate the purchase of an awesome new car.\n",
      "going out to dinner tonight. we |  have a lot of fun.\n",
      "\n",
      "--- sample 2 (idx=12475) ---\n",
      "asks who wants to lend me alter |  ego 1 i think i lost mine.\n",
      "asks who wants to lend me alter |  ego\n",
      "\n",
      "--- sample 3 (idx=90583) ---\n",
      "bored. waiting to see if |  jj wants to play monopoly\n",
      "bored. waiting to see if |  i can get a job.\n",
      "\n",
      "--- sample 4 (idx=64013) ---\n",
      "worrying about teukie |  he turns emo, anyway. i miss his sweetie smile and dimple. his hightone laughs. '\n",
      "worrying about teukie | \n",
      "\n",
      "--- sample 5 (idx=49251) ---\n",
      "just had lunch with tony and |  kevin, check out\n",
      "just had lunch with tony and | rew.\n",
      "\n",
      "--- sample 6 (idx=115062) ---\n",
      "just read about your gardening this morning | . i shortly got in from visiting my mum in wales and mine is a state\n",
      "just read about your gardening this morning | .\n",
      "\n",
      "--- sample 7 (idx=94077) ---\n",
      "try loads of samahan and honey | . hope u get better soon dear\n",
      "try loads of samahan and honey | \n",
      "\n",
      "--- sample 8 (idx=97314) ---\n",
      "is costco then yard. i |  am hoping for rain so i may be excused from another day of mowing my lawn.\n",
      "is costco then yard. i | 'm going to be a good one\n",
      "\n",
      "--- sample 9 (idx=76739) ---\n",
      "but u were wanting to grow them |  out borders is evil on so many levels. any doug drama. or as he calls it, quot low blood sugar quot\n",
      "but u were wanting to grow them | \n",
      "\n",
      "--- sample 10 (idx=41701) ---\n",
      "the song is called. drum roll |  . stranger\n",
      "the song is called. drum roll |  on the radio.\n",
      "\n",
      "\n",
      "[Примеры размер контекста = 21]\n",
      "--- sample 1 (idx=12986) ---\n",
      "busiest day afternoon ever. went to hospital, a cafe, shopping, and home. and no i |  didn't make it to the hairdresser\n",
      "busiest day afternoon ever. went to hospital, a cafe, shopping, and home. and no i | 'm not going to be able to go to the gym\n",
      "\n",
      "--- sample 2 (idx=34768) ---\n",
      "i think i know what this refers to. and, if so, congratulations if not, well. enjoy |  dinner with .\n",
      "i think i know what this refers to. and, if so, congratulations if not, well. enjoy |  your day\n",
      "\n",
      "--- sample 3 (idx=14145) ---\n",
      "this like the worst ever, i so use to waking up and going strait to wow with my cup |  of coffee.\n",
      "this like the worst ever, i so use to waking up and going strait to wow with my cup | .\n",
      "\n",
      "--- sample 4 (idx=11793) ---\n",
      "has been awake for 22 hours now. shattered hoping there's not another family wedding coming up. hawd |  the bus, brother\n",
      "has been awake for 22 hours now. shattered hoping there's not another family wedding coming up. hawd | \n",
      "\n",
      "--- sample 5 (idx=4222) ---\n",
      "yep.that last yawn did it.gotta go fetch me a redbull.wish we |  still had blue full throttle here\n",
      "yep.that last yawn did it.gotta go fetch me a redbull.wish we |  could have a party\n",
      "\n",
      "--- sample 6 (idx=32505) ---\n",
      "what remove boo how very dare you bleeding hell bass talk about out of sight out of mind. boo is |  distraught\n",
      "what remove boo how very dare you bleeding hell bass talk about out of sight out of mind. boo is |  a bit of a bad mood\n",
      "\n",
      "--- sample 7 (idx=34199) ---\n",
      "i did see a water bug wasnt gon quit till i merked that shit. used up half a |  can of air freshener. didnt have bug spray\n",
      "i did see a water bug wasnt gon quit till i merked that shit. used up half a |  lot of it.\n",
      "\n",
      "--- sample 8 (idx=4943) ---\n",
      "yay boobs but since i sweated my balls off i can no longer sing in a rich baritone |  voice\n",
      "yay boobs but since i sweated my balls off i can no longer sing in a rich baritone | \n",
      "\n",
      "--- sample 9 (idx=17462) ---\n",
      "itapat mo lang sa picture ni charice. na sya, tapos iclick mo |  lang yung quot quot sign.tas vote mo lang every 20 minutes\n",
      "itapat mo lang sa picture ni charice. na sya, tapos iclick mo | .\n",
      "\n",
      "--- sample 10 (idx=19624) ---\n",
      "aww i did not see him on his solo tour but i'm seing him 2 days in a |  row june 24 amp june 25\n",
      "aww i did not see him on his solo tour but i'm seing him 2 days in a |  row\n",
      "\n",
      "\n",
      "[Примеры размер контекста = 28]\n",
      "--- sample 1 (idx=378) ---\n",
      "finally at home. yay. yestarday i went to bravo otto, and it was great. also the cl | asstrip was good, i enjoyed it.\n",
      "finally at home. yay. yestarday i went to bravo otto, and it was great. also the cl | iche is a good thing.\n",
      "\n",
      "--- sample 2 (idx=808) ---\n",
      "muy interesante i didnt know that thought you were german or somethin lol just kiddin haa what are you |  up to chico\n",
      "muy interesante i didnt know that thought you were german or somethin lol just kiddin haa what are you |  doing\n",
      "\n",
      "--- sample 3 (idx=7812) ---\n",
      "just came across an sf contact sheet with perham, me in the address. quot never gonna be as small as perham. quot |  thank you, seth's mom.\n",
      "just came across an sf contact sheet with perham, me in the address. quot never gonna be as small as perham. quot | \n",
      "\n",
      "--- sample 4 (idx=7307) ---\n",
      "alright, i'm bored. so i guess i am gunna do some homework. even though it's due wednesday. yeah im | a nerd\n",
      "alright, i'm bored. so i guess i am gunna do some homework. even though it's due wednesday. yeah im | a go to bed\n",
      "\n",
      "--- sample 5 (idx=9831) ---\n",
      "omg really mad, camping today come on 'tom' and the dress ive just gone to order has sold out i hope camping is |  good\n",
      "omg really mad, camping today come on 'tom' and the dress ive just gone to order has sold out i hope camping is |  going to be a good one\n",
      "\n",
      "--- sample 6 (idx=12977) ---\n",
      "hey did you get any more info about your graduation and i think my mom's gonna let me go to cp, if you guys still wanna |  go\n",
      "hey did you get any more info about your graduation and i think my mom's gonna let me go to cp, if you guys still wanna |  go to the beach\n",
      "\n",
      "--- sample 7 (idx=2556) ---\n",
      "i cant tell u what the craziest thing i did as a teen b c this is a family show lol i was not good, no | .\n",
      "i cant tell u what the craziest thing i did as a teen b c this is a family show lol i was not good, no |  no no no no no no no no no no no no no no no no no no no no no no no no no no no no no no no no\n",
      "\n",
      "--- sample 8 (idx=8214) ---\n",
      "finally going to bed, too tired. i'll just study for the test tomorrow. during the period before it so much for my ' | a' gt . gt\n",
      "finally going to bed, too tired. i'll just study for the test tomorrow. during the period before it so much for my ' | \n",
      "\n",
      "--- sample 9 (idx=8954) ---\n",
      "its not a starfleet one its not even a romulin one its like the random one i dont remember ha. and you cant wear it |  lame\n",
      "its not a starfleet one its not even a romulin one its like the random one i dont remember ha. and you cant wear it | 's a good thing\n",
      "\n",
      "--- sample 10 (idx=8767) ---\n",
      "i feel everything coming to a close when really it's just the beginning, i'm just a little dae to be out in the real |  world\n",
      "i feel everything coming to a close when really it's just the beginning, i'm just a little dae to be out in the real |  world\n",
      "\n",
      "[ROUGE-L@epoch 49] K=1: 0.0724 (n=152639) | K=7: 0.0649 (n=127042) | K=21: 0.0658 (n=42923) | K=28: 0.0727 (n=15555)\n"
     ]
    },
    {
     "name": "stderr",
     "output_type": "stream",
     "text": [
      "Epoch 50: 100%|██████████| 2576/2576 [01:32<00:00, 27.96batch/s]\n"
     ]
    },
    {
     "name": "stdout",
     "output_type": "stream",
     "text": [
      "train loss: 4.4602 | valid loss: 4.5152 | ppl: 91.40 | acc@1: 0.2383 | acc@5: 0.4525\n"
     ]
    },
    {
     "name": "stderr",
     "output_type": "stream",
     "text": [
      "Epoch 51: 100%|██████████| 2576/2576 [01:32<00:00, 27.92batch/s]\n"
     ]
    },
    {
     "name": "stdout",
     "output_type": "stream",
     "text": [
      "train loss: 4.4579 | valid loss: 4.5139 | ppl: 91.27 | acc@1: 0.2384 | acc@5: 0.4527\n"
     ]
    },
    {
     "name": "stderr",
     "output_type": "stream",
     "text": [
      "Epoch 52: 100%|██████████| 2576/2576 [01:31<00:00, 28.18batch/s]\n"
     ]
    },
    {
     "name": "stdout",
     "output_type": "stream",
     "text": [
      "train loss: 4.4565 | valid loss: 4.5138 | ppl: 91.27 | acc@1: 0.2395 | acc@5: 0.4519\n"
     ]
    },
    {
     "name": "stderr",
     "output_type": "stream",
     "text": [
      "Epoch 53: 100%|██████████| 2576/2576 [01:31<00:00, 28.13batch/s]\n"
     ]
    },
    {
     "name": "stdout",
     "output_type": "stream",
     "text": [
      "train loss: 4.4320 | valid loss: 4.5009 | ppl: 90.10 | acc@1: 0.2416 | acc@5: 0.4542\n"
     ]
    },
    {
     "name": "stderr",
     "output_type": "stream",
     "text": [
      "Epoch 54: 100%|██████████| 2576/2576 [01:31<00:00, 28.04batch/s]\n"
     ]
    },
    {
     "name": "stdout",
     "output_type": "stream",
     "text": [
      "train loss: 4.4267 | valid loss: 4.5019 | ppl: 90.19 | acc@1: 0.2409 | acc@5: 0.4545\n"
     ]
    },
    {
     "name": "stderr",
     "output_type": "stream",
     "text": [
      "Epoch 55: 100%|██████████| 2576/2576 [01:31<00:00, 28.05batch/s]\n"
     ]
    },
    {
     "name": "stdout",
     "output_type": "stream",
     "text": [
      "train loss: 4.4242 | valid loss: 4.5009 | ppl: 90.10 | acc@1: 0.2409 | acc@5: 0.4546\n"
     ]
    },
    {
     "name": "stderr",
     "output_type": "stream",
     "text": [
      "Epoch 56: 100%|██████████| 2576/2576 [01:31<00:00, 28.01batch/s]\n"
     ]
    },
    {
     "name": "stdout",
     "output_type": "stream",
     "text": [
      "train loss: 4.4227 | valid loss: 4.4998 | ppl: 90.00 | acc@1: 0.2410 | acc@5: 0.4539\n"
     ]
    },
    {
     "name": "stderr",
     "output_type": "stream",
     "text": [
      "Epoch 57: 100%|██████████| 2576/2576 [01:31<00:00, 28.07batch/s]\n"
     ]
    },
    {
     "name": "stdout",
     "output_type": "stream",
     "text": [
      "train loss: 4.4200 | valid loss: 4.5020 | ppl: 90.20 | acc@1: 0.2412 | acc@5: 0.4546\n"
     ]
    },
    {
     "name": "stderr",
     "output_type": "stream",
     "text": [
      "Epoch 58: 100%|██████████| 2576/2576 [01:32<00:00, 27.88batch/s]\n"
     ]
    },
    {
     "name": "stdout",
     "output_type": "stream",
     "text": [
      "train loss: 4.4196 | valid loss: 4.5009 | ppl: 90.10 | acc@1: 0.2409 | acc@5: 0.4541\n"
     ]
    },
    {
     "name": "stderr",
     "output_type": "stream",
     "text": [
      "Epoch 59: 100%|██████████| 2576/2576 [01:31<00:00, 28.10batch/s]\n"
     ]
    },
    {
     "name": "stdout",
     "output_type": "stream",
     "text": [
      "train loss: 4.4166 | valid loss: 4.4994 | ppl: 89.97 | acc@1: 0.2405 | acc@5: 0.4541\n",
      "\n",
      "[Примеры размер контекста = 1]\n",
      "--- sample 1 (idx=90927) ---\n",
      "t | odo eat something, make slides for tomorrow, straighten up, mail ticket, mail dental reimbursement.\n",
      "t | \n",
      "\n",
      "--- sample 2 (idx=80897) ---\n",
      "love |  today's comic. i do pull that on people that annoy me sometimes and i am really deaf here\n",
      "love | ly\n",
      "\n",
      "--- sample 3 (idx=16351) ---\n",
      "walking |  up the avenue des champs elysees beautiful sunny day hot hot boys about\n",
      "walking |  to the beach.\n",
      "\n",
      "--- sample 4 (idx=99664) ---\n",
      "at |  the inlaws supposed to swimming but it's taking forever for the pool to be vacuumed\n",
      "at |  the airport. i'm soo tired.\n",
      "\n",
      "--- sample 5 (idx=136177) ---\n",
      "ugh | h this pre camp stuff is boring i want to go back to the pool\n",
      "ugh | h i hate it when i have to work\n",
      "\n",
      "--- sample 6 (idx=68913) ---\n",
      "u |  ain't d only 1 dud. i'm chattng at d comp. and tweetng w my phone. hehehe.\n",
      "u | \n",
      "\n",
      "--- sample 7 (idx=149751) ---\n",
      "i |  got a twitter woohoo\n",
      "i | 'm soo tired. i'm so tired.\n",
      "\n",
      "--- sample 8 (idx=4591) ---\n",
      "packing |  up a million packages for the post tomorrow, ran out of priority mail envelopes\n",
      "packing | .\n",
      "\n",
      "--- sample 9 (idx=75714) ---\n",
      "y | ay its uploaded\n",
      "y | \n",
      "\n",
      "--- sample 10 (idx=72051) ---\n",
      "7 |  20 pm, still working. wanna go home.\n",
      "7 | .\n",
      "\n",
      "\n",
      "[Примеры размер контекста = 7]\n",
      "--- sample 1 (idx=46279) ---\n",
      "apparently the game is 10x | 's better.\n",
      "apparently the game is 10x | \n",
      "\n",
      "--- sample 2 (idx=15141) ---\n",
      "y is there nothing sweet to eat |  mi casa we shoulda bought that red velvet ugh\n",
      "y is there nothing sweet to eat | \n",
      "\n",
      "--- sample 3 (idx=25154) ---\n",
      "flower shop time, then i get |  to see manda. i'm still trying to do better.its so hard. i don't like life sometimes.\n",
      "flower shop time, then i get | tin ready for work\n",
      "\n",
      "--- sample 4 (idx=89771) ---\n",
      "that sucks i'm not coming if |  there aren't any high grade narcotics, supplied, i'm not bringing my own\n",
      "that sucks i'm not coming if |  i'm not there\n",
      "\n",
      "--- sample 5 (idx=110413) ---\n",
      "will be on the road to color | ado in 67. 5 hrs\n",
      "will be on the road to color |  today.\n",
      "\n",
      "--- sample 6 (idx=101882) ---\n",
      "the stream is working a little better |  but still laggy\n",
      "the stream is working a little better |  than the last time i was in the office\n",
      "\n",
      "--- sample 7 (idx=53273) ---\n",
      "hi chris, is now at |  he's been posting there since having probs with his account.\n",
      "hi chris, is now at | lanta, i'm not sure if i can get it to work\n",
      "\n",
      "--- sample 8 (idx=103252) ---\n",
      "until mentioned it, i hadn't |  even thought about the fact that i haven't eaten a thing all day. now i'm hungry.\n",
      "until mentioned it, i hadn't |  seen it yet\n",
      "\n",
      "--- sample 9 (idx=37481) ---\n",
      "its not but i think the z | une hd will\n",
      "its not but i think the z |  is a bit more like a new one\n",
      "\n",
      "--- sample 10 (idx=88238) ---\n",
      "i wish i was there, too | .\n",
      "i wish i was there, too |  bad i'm not going to be able to go to the concert\n",
      "\n",
      "\n",
      "[Примеры размер контекста = 21]\n",
      "--- sample 1 (idx=25912) ---\n",
      "ugh not getting all your tweets . claro que no estoy cansada dame mas . fotos |  p\n",
      "ugh not getting all your tweets . claro que no estoy cansada dame mas . fotos | \n",
      "\n",
      "--- sample 2 (idx=36133) ---\n",
      "ok, i am really sad now i finally watched the movie marley and me and it is soo |  sad.\n",
      "ok, i am really sad now i finally watched the movie marley and me and it is soo |  sad\n",
      "\n",
      "--- sample 3 (idx=31638) ---\n",
      "laying with lyndi on drive way. drinking tea. listenin to music. takin pictures | . just a chillin.\n",
      "laying with lyndi on drive way. drinking tea. listenin to music. takin pictures | \n",
      "\n",
      "--- sample 4 (idx=13262) ---\n",
      "world. wolrd. wrold. damn you, , for frying my brains.well, |  actually it's my own fault\n",
      "world. wolrd. wrold. damn you, , for frying my brains.well, |  i'm sure you'll be fine.\n",
      "\n",
      "--- sample 5 (idx=1599) ---\n",
      "i haven't watched the disney channel in awhile xd all i've been watching is ncis | , abc family 11am 1pm , family matters, amp home improvement\n",
      "i haven't watched the disney channel in awhile xd all i've been watching is ncis | \n",
      "\n",
      "--- sample 6 (idx=13230) ---\n",
      "lmfao . gee thanks . go back into ur tentt maybe antonio wont steal |  it haha.\n",
      "lmfao . gee thanks . go back into ur tentt maybe antonio wont steal | \n",
      "\n",
      "--- sample 7 (idx=38016) ---\n",
      "flickr doesn't have enough room for all of my sasquatch pictures. what's a boy |  to do\n",
      "flickr doesn't have enough room for all of my sasquatch pictures. what's a boy | \n",
      "\n",
      "--- sample 8 (idx=36472) ---\n",
      "is jealous i dont have espn2hd to watch the drag races glad i have twitties and |  the force team keep me posted\n",
      "is jealous i dont have espn2hd to watch the drag races glad i have twitties and |  i'm not in the mood for it\n",
      "\n",
      "--- sample 9 (idx=37531) ---\n",
      "please tell me you're kidding. that must've been extremely fun. rain and i had an hsm |  movie marathon today. we heart zac, sadly.\n",
      "please tell me you're kidding. that must've been extremely fun. rain and i had an hsm |  show.\n",
      "\n",
      "--- sample 10 (idx=26458) ---\n",
      "does it mean we all need to grow our afros and listen to bizzare music in order to |  avoid catching the flu\n",
      "does it mean we all need to grow our afros and listen to bizzare music in order to |  get a new one\n",
      "\n",
      "\n",
      "[Примеры размер контекста = 28]\n",
      "--- sample 1 (idx=15115) ---\n",
      "meep. when did miley cyrus cover quot part of your world quot from the little mermaid and why is this the second m | iley related tweet of the day\n",
      "meep. when did miley cyrus cover quot part of your world quot from the little mermaid and why is this the second m | tv movie awards\n",
      "\n",
      "--- sample 2 (idx=5096) ---\n",
      "sasha is definitely not a tween. i'm a marketer, i know. that's a mean rationalization for picking on a |  kid.\n",
      "sasha is definitely not a tween. i'm a marketer, i know. that's a mean rationalization for picking on a | .m.\n",
      "\n",
      "--- sample 3 (idx=10401) ---\n",
      "i was all grumpy and in a bad mood, but i went upstairs to put on makeup, and guess what came on the radio amp |  put me in a way better mood\n",
      "i was all grumpy and in a bad mood, but i went upstairs to put on makeup, and guess what came on the radio amp |  i was soo tired\n",
      "\n",
      "--- sample 4 (idx=12709) ---\n",
      "trying to upload some pics from the fenway of the south.but can't get my sprint pics to work right now . gr | r\n",
      "trying to upload some pics from the fenway of the south.but can't get my sprint pics to work right now . gr | r\n",
      "\n",
      "--- sample 5 (idx=15500) ---\n",
      "morning twitterverse, back to work today, but from home, with we'en in tow as school has inset day. matt may |  come home for lunch\n",
      "morning twitterverse, back to work today, but from home, with we'en in tow as school has inset day. matt may |  be a good day\n",
      "\n",
      "--- sample 6 (idx=3726) ---\n",
      "just found out some criminals copied my bank card and withdrew 1200 euro from an atm in morocco. it's going to be fun |  to fix that\n",
      "just found out some criminals copied my bank card and withdrew 1200 euro from an atm in morocco. it's going to be fun | \n",
      "\n",
      "--- sample 7 (idx=7421) ---\n",
      "jam we miss ya on facebook my guy lol, oh and you're superbowl is going to be on today too bad e. rob could | nt tackle rod\n",
      "jam we miss ya on facebook my guy lol, oh and you're superbowl is going to be on today too bad e. rob could |  be a good one\n",
      "\n",
      "--- sample 8 (idx=8837) ---\n",
      "i know amp thank you 4 considering me, but i can't abandon them now since they were the first ones 2 ever hire me but thank |  you\n",
      "i know amp thank you 4 considering me, but i can't abandon them now since they were the first ones 2 ever hire me but thank |  you\n",
      "\n",
      "--- sample 9 (idx=6782) ---\n",
      "had fun at the kiddie carnival thing. got a tube of sugar, and it was amazing. it was worth the 8 tickets | .\n",
      "had fun at the kiddie carnival thing. got a tube of sugar, and it was amazing. it was worth the 8 tickets | \n",
      "\n",
      "--- sample 10 (idx=13411) ---\n",
      "yeah, and gusse who has to spend four hours in the car going to and from chelmsford. i'm not looking |  forward to today\n",
      "yeah, and gusse who has to spend four hours in the car going to and from chelmsford. i'm not looking |  forward to it\n",
      "\n",
      "[ROUGE-L@epoch 59] K=1: 0.0735 (n=152639) | K=7: 0.0668 (n=127042) | K=21: 0.0663 (n=42923) | K=28: 0.0737 (n=15555)\n"
     ]
    },
    {
     "name": "stderr",
     "output_type": "stream",
     "text": [
      "Epoch 60: 100%|██████████| 2576/2576 [01:32<00:00, 27.91batch/s]\n"
     ]
    },
    {
     "name": "stdout",
     "output_type": "stream",
     "text": [
      "train loss: 4.4049 | valid loss: 4.4935 | ppl: 89.43 | acc@1: 0.2432 | acc@5: 0.4561\n"
     ]
    },
    {
     "name": "stderr",
     "output_type": "stream",
     "text": [
      "Epoch 61: 100%|██████████| 2576/2576 [01:31<00:00, 28.07batch/s]\n"
     ]
    },
    {
     "name": "stdout",
     "output_type": "stream",
     "text": [
      "train loss: 4.4030 | valid loss: 4.4944 | ppl: 89.52 | acc@1: 0.2421 | acc@5: 0.4553\n"
     ]
    },
    {
     "name": "stderr",
     "output_type": "stream",
     "text": [
      "Epoch 62: 100%|██████████| 2576/2576 [01:31<00:00, 28.18batch/s]\n"
     ]
    },
    {
     "name": "stdout",
     "output_type": "stream",
     "text": [
      "train loss: 4.4003 | valid loss: 4.4928 | ppl: 89.37 | acc@1: 0.2430 | acc@5: 0.4552\n"
     ]
    },
    {
     "name": "stderr",
     "output_type": "stream",
     "text": [
      "Epoch 63: 100%|██████████| 2576/2576 [01:31<00:00, 28.03batch/s]\n"
     ]
    },
    {
     "name": "stdout",
     "output_type": "stream",
     "text": [
      "train loss: 4.4001 | valid loss: 4.4933 | ppl: 89.42 | acc@1: 0.2424 | acc@5: 0.4553\n"
     ]
    },
    {
     "name": "stderr",
     "output_type": "stream",
     "text": [
      "Epoch 64: 100%|██████████| 2576/2576 [01:31<00:00, 28.02batch/s]\n"
     ]
    },
    {
     "name": "stdout",
     "output_type": "stream",
     "text": [
      "train loss: 4.3983 | valid loss: 4.4947 | ppl: 89.55 | acc@1: 0.2423 | acc@5: 0.4551\n"
     ]
    },
    {
     "name": "stderr",
     "output_type": "stream",
     "text": [
      "Epoch 65: 100%|██████████| 2576/2576 [01:31<00:00, 28.09batch/s]\n"
     ]
    },
    {
     "name": "stdout",
     "output_type": "stream",
     "text": [
      "train loss: 4.3977 | valid loss: 4.4942 | ppl: 89.50 | acc@1: 0.2425 | acc@5: 0.4555\n"
     ]
    },
    {
     "name": "stderr",
     "output_type": "stream",
     "text": [
      "Epoch 66: 100%|██████████| 2576/2576 [01:31<00:00, 28.07batch/s]\n"
     ]
    },
    {
     "name": "stdout",
     "output_type": "stream",
     "text": [
      "train loss: 4.3904 | valid loss: 4.4910 | ppl: 89.21 | acc@1: 0.2425 | acc@5: 0.4556\n"
     ]
    },
    {
     "name": "stderr",
     "output_type": "stream",
     "text": [
      "Epoch 67: 100%|██████████| 2576/2576 [01:32<00:00, 27.88batch/s]\n"
     ]
    },
    {
     "name": "stdout",
     "output_type": "stream",
     "text": [
      "train loss: 4.3887 | valid loss: 4.4914 | ppl: 89.25 | acc@1: 0.2425 | acc@5: 0.4556\n"
     ]
    },
    {
     "name": "stderr",
     "output_type": "stream",
     "text": [
      "Epoch 68: 100%|██████████| 2576/2576 [01:32<00:00, 27.93batch/s]\n"
     ]
    },
    {
     "name": "stdout",
     "output_type": "stream",
     "text": [
      "train loss: 4.3883 | valid loss: 4.4907 | ppl: 89.19 | acc@1: 0.2425 | acc@5: 0.4558\n"
     ]
    },
    {
     "name": "stderr",
     "output_type": "stream",
     "text": [
      "Epoch 69: 100%|██████████| 2576/2576 [01:31<00:00, 28.02batch/s]\n"
     ]
    },
    {
     "name": "stdout",
     "output_type": "stream",
     "text": [
      "train loss: 4.3871 | valid loss: 4.4911 | ppl: 89.22 | acc@1: 0.2427 | acc@5: 0.4555\n",
      "\n",
      "[Примеры размер контекста = 1]\n",
      "--- sample 1 (idx=115623) ---\n",
      "me |  neither that was my first time but i love when peep add my name. i still ain't got no followers\n",
      "me |  too\n",
      "\n",
      "--- sample 2 (idx=97014) ---\n",
      "that |  is one bloody awesome month\n",
      "that | 's what i'm doing.\n",
      "\n",
      "--- sample 3 (idx=49165) ---\n",
      "is |  taking a break from the never ending task of cleaning.\n",
      "is |  going to bed. i'm so tired.\n",
      "\n",
      "--- sample 4 (idx=8350) ---\n",
      "l | ucky i am off thursday friday tho\n",
      "l | oves the new moon trailer\n",
      "\n",
      "--- sample 5 (idx=135082) ---\n",
      "i |  like those photos most of them are funny\n",
      "i | 'm soo tired. i'm so tired.\n",
      "\n",
      "--- sample 6 (idx=18354) ---\n",
      "ar | ghh damn rubie cube can't do it\n",
      "ar | ghh\n",
      "\n",
      "--- sample 7 (idx=14716) ---\n",
      "out |  on set now waiting to do our scenes shall be a handy day wrapping early\n",
      "out | .\n",
      "\n",
      "--- sample 8 (idx=123764) ---\n",
      "also |  . kim kardashian's butt very real and very fabulous. i should be so lucky. mine is flat and square.\n",
      "also | , i'm soo tired. i'm so tired.\n",
      "\n",
      "--- sample 9 (idx=110806) ---\n",
      "a | aw, wish i read as much as you i can never be arsed anymore\n",
      "a | \n",
      "\n",
      "--- sample 10 (idx=7613) ---\n",
      "oh |  thanks. random ppl reading my life haha. but hey it was nice talking\n",
      "oh | h i'm soo tired. i'm so tired.\n",
      "\n",
      "\n",
      "[Примеры размер контекста = 7]\n",
      "--- sample 1 (idx=62625) ---\n",
      "is unsure on what to do and |  just hopes someone is well and donts hurt them self\n",
      "is unsure on what to do and |  i'm not going to be able to go to the concert\n",
      "\n",
      "--- sample 2 (idx=89810) ---\n",
      "sadly, i cannot disagree | .\n",
      "sadly, i cannot disagree |  with you.\n",
      "\n",
      "--- sample 3 (idx=2576) ---\n",
      "been looking too, can't find |  one\n",
      "been looking too, can't find |  out how to use it\n",
      "\n",
      "--- sample 4 (idx=72621) ---\n",
      "aww i sorry did your lashes |  flip under\n",
      "aww i sorry did your lashes |  out\n",
      "\n",
      "--- sample 5 (idx=107501) ---\n",
      "i've got too much work to |  do\n",
      "i've got too much work to |  do.\n",
      "\n",
      "--- sample 6 (idx=48560) ---\n",
      "really thank u boy i'm st | efania and i'm 20 years and u nice to meet u d . k\n",
      "really thank u boy i'm st | il\n",
      "\n",
      "--- sample 7 (idx=29310) ---\n",
      "heyy mitchel how are you |  of course i go tomorrow to the long beach walmart to see you please follow me\n",
      "heyy mitchel how are you |  are soo sweet\n",
      "\n",
      "--- sample 8 (idx=107788) ---\n",
      "lol i am the quot baby quot |  cousin of my family haha all of my cousins are older than me even some of my nieces and nephews\n",
      "lol i am the quot baby quot |  i'm soo tired quot\n",
      "\n",
      "--- sample 9 (idx=9987) ---\n",
      "why do you have to do it |  while im at work i missed it\n",
      "why do you have to do it | 's so hard to get a new one\n",
      "\n",
      "--- sample 10 (idx=102180) ---\n",
      "appears to have turned into a |  slow crashy horror post\n",
      "appears to have turned into a |  lot of fun.\n",
      "\n",
      "\n",
      "[Примеры размер контекста = 21]\n",
      "--- sample 1 (idx=36152) ---\n",
      ", d'oh although i still don't know which of the 47 labs in sv that is. the |  one in burlingame\n",
      ", d'oh although i still don't know which of the 47 labs in sv that is. the |  one i can do is get it.\n",
      "\n",
      "--- sample 2 (idx=16424) ---\n",
      "back nda da boro wit 10min to get to work, not lookn forward to this double |  shift an extra tired until i rest good day twitterland\n",
      "back nda da boro wit 10min to get to work, not lookn forward to this double | \n",
      "\n",
      "--- sample 3 (idx=33269) ---\n",
      "off to dub to head to stn, forgot about online check in time limits and gonna have to pay |  40\n",
      "off to dub to head to stn, forgot about online check in time limits and gonna have to pay | pal for the next one\n",
      "\n",
      "--- sample 4 (idx=30231) ---\n",
      "woah, hey this is my 1002nd tweet. shows how excellent a procrastination tool twitter |  is\n",
      "woah, hey this is my 1002nd tweet. shows how excellent a procrastination tool twitter |  is not working\n",
      "\n",
      "--- sample 5 (idx=26573) ---\n",
      "anyone wanting to see the scrapbook atlozbook mum's site hahah. click on |  photos to see fullsize\n",
      "anyone wanting to see the scrapbook atlozbook mum's site hahah. click on |  twitter.\n",
      "\n",
      "--- sample 6 (idx=38905) ---\n",
      "just came home from aeropostale.yeah i got money out the ass.lol darrika |  ass real boring\n",
      "just came home from aeropostale.yeah i got money out the ass.lol darrika |  aww\n",
      "\n",
      "--- sample 7 (idx=32375) ---\n",
      "us behave never it sucks yall r'nt gna b w us i'm rather sad.have |  fun amp b safe. keep tweetin\n",
      "us behave never it sucks yall r'nt gna b w us i'm rather sad.have |  fun\n",
      "\n",
      "--- sample 8 (idx=25958) ---\n",
      "what was i thinking coming to this fair that's the size of alaska after working for 7 hrs 2 | day can't walk anymore, help me. car so far\n",
      "what was i thinking coming to this fair that's the size of alaska after working for 7 hrs 2 |  days\n",
      "\n",
      "--- sample 9 (idx=10226) ---\n",
      "is probably going to go play some vid games, shower get dressed, head to town, clean the |  house, amp play more video games. yay 4 days off.\n",
      "is probably going to go play some vid games, shower get dressed, head to town, clean the |  house, then go to bed.\n",
      "\n",
      "--- sample 10 (idx=3536) ---\n",
      "aww, i wuvz. i always check the links directly below the pics too some more cute |  goats there.\n",
      "aww, i wuvz. i always check the links directly below the pics too some more cute | \n",
      "\n",
      "\n",
      "[Примеры размер контекста = 28]\n",
      "--- sample 1 (idx=7144) ---\n",
      "grandpa j amp nana c came over this morning and i ate breakfast with them. then i showed them my books. they had to |  go back home though.\n",
      "grandpa j amp nana c came over this morning and i ate breakfast with them. then i showed them my books. they had to |  do it.\n",
      "\n",
      "--- sample 2 (idx=6688) ---\n",
      "haha, me and my sister see it more like girl power it's a business, but all's premature. we're still working on |  it\n",
      "haha, me and my sister see it more like girl power it's a business, but all's premature. we're still working on |  the web\n",
      "\n",
      "--- sample 3 (idx=116) ---\n",
      "i was about to log off. then saw your twit. i cant believe i am awake and logged on for one of your twits | .\n",
      "i was about to log off. then saw your twit. i cant believe i am awake and logged on for one of your twits | \n",
      "\n",
      "--- sample 4 (idx=3255) ---\n",
      "good thanks, work is busy today though not much playtime roll on 8.1 though to be fair, it's v. stable for |  me so far\n",
      "good thanks, work is busy today though not much playtime roll on 8.1 though to be fair, it's v. stable for |  the next few days\n",
      "\n",
      "--- sample 5 (idx=780) ---\n",
      "today at volleyball, i saw this really hot guy me, my bro, my bestie, played vball with him he said i have |  a really good serve aww lt 3\n",
      "today at volleyball, i saw this really hot guy me, my bro, my bestie, played vball with him he said i have |  a good time\n",
      "\n",
      "--- sample 6 (idx=7877) ---\n",
      "wow.i am on tha train n im starin at tha back of a weave job gone wrong.smmfh.its sad |  cuz tha girl mad pretty too\n",
      "wow.i am on tha train n im starin at tha back of a weave job gone wrong.smmfh.its sad | \n",
      "\n",
      "--- sample 7 (idx=9010) ---\n",
      "thank you . i was kinda upset amp angry and from you writing quotes, i decided to look them up and they cheered me up xox | o\n",
      "thank you . i was kinda upset amp angry and from you writing quotes, i decided to look them up and they cheered me up xox | \n",
      "\n",
      "--- sample 8 (idx=7088) ---\n",
      "sitting in my moms car because i dnt have 2 work and theres nothing 4 me 2 do i hate not knowing anybody going home |  2marrow yey\n",
      "sitting in my moms car because i dnt have 2 work and theres nothing 4 me 2 do i hate not knowing anybody going home | \n",
      "\n",
      "--- sample 9 (idx=12504) ---\n",
      "sorry honey, had to go back from web to tweetdeck.so 20 replies all came up at once i'm a woman, what can |  i say\n",
      "sorry honey, had to go back from web to tweetdeck.so 20 replies all came up at once i'm a woman, what can |  i do\n",
      "\n",
      "--- sample 10 (idx=5095) ---\n",
      "now i see the thunderstorms .loll crazy amounts of rain in good ol' london ontario guess that means no drive in tonight |  hmm.\n",
      "now i see the thunderstorms .loll crazy amounts of rain in good ol' london ontario guess that means no drive in tonight | \n",
      "\n",
      "[ROUGE-L@epoch 69] K=1: 0.0706 (n=152639) | K=7: 0.0663 (n=127042) | K=21: 0.0675 (n=42923) | K=28: 0.0750 (n=15555)\n"
     ]
    },
    {
     "name": "stderr",
     "output_type": "stream",
     "text": [
      "Epoch 70: 100%|██████████| 2576/2576 [01:32<00:00, 27.85batch/s]\n"
     ]
    },
    {
     "name": "stdout",
     "output_type": "stream",
     "text": [
      "train loss: 4.3826 | valid loss: 4.4903 | ppl: 89.15 | acc@1: 0.2426 | acc@5: 0.4553\n"
     ]
    },
    {
     "name": "stderr",
     "output_type": "stream",
     "text": [
      "Epoch 71: 100%|██████████| 2576/2576 [01:32<00:00, 27.90batch/s]\n"
     ]
    },
    {
     "name": "stdout",
     "output_type": "stream",
     "text": [
      "train loss: 4.3825 | valid loss: 4.4901 | ppl: 89.13 | acc@1: 0.2428 | acc@5: 0.4555\n"
     ]
    },
    {
     "name": "stderr",
     "output_type": "stream",
     "text": [
      "Epoch 72: 100%|██████████| 2576/2576 [01:31<00:00, 28.08batch/s]\n"
     ]
    },
    {
     "name": "stdout",
     "output_type": "stream",
     "text": [
      "train loss: 4.3815 | valid loss: 4.4902 | ppl: 89.14 | acc@1: 0.2429 | acc@5: 0.4562\n"
     ]
    },
    {
     "name": "stderr",
     "output_type": "stream",
     "text": [
      "Epoch 73: 100%|██████████| 2576/2576 [01:33<00:00, 27.62batch/s]\n"
     ]
    },
    {
     "name": "stdout",
     "output_type": "stream",
     "text": [
      "train loss: 4.3819 | valid loss: 4.4906 | ppl: 89.18 | acc@1: 0.2429 | acc@5: 0.4557\n"
     ]
    },
    {
     "name": "stderr",
     "output_type": "stream",
     "text": [
      "Epoch 74: 100%|██████████| 2576/2576 [01:32<00:00, 27.98batch/s]\n"
     ]
    },
    {
     "name": "stdout",
     "output_type": "stream",
     "text": [
      "train loss: 4.3810 | valid loss: 4.4905 | ppl: 89.17 | acc@1: 0.2430 | acc@5: 0.4560\n"
     ]
    },
    {
     "name": "stderr",
     "output_type": "stream",
     "text": [
      "Epoch 75: 100%|██████████| 2576/2576 [01:32<00:00, 28.00batch/s]\n"
     ]
    },
    {
     "name": "stdout",
     "output_type": "stream",
     "text": [
      "train loss: 4.3805 | valid loss: 4.4907 | ppl: 89.18 | acc@1: 0.2430 | acc@5: 0.4560\n"
     ]
    },
    {
     "name": "stderr",
     "output_type": "stream",
     "text": [
      "Epoch 76: 100%|██████████| 2576/2576 [01:32<00:00, 27.70batch/s]\n"
     ]
    },
    {
     "name": "stdout",
     "output_type": "stream",
     "text": [
      "train loss: 4.3801 | valid loss: 4.4903 | ppl: 89.15 | acc@1: 0.2432 | acc@5: 0.4558\n"
     ]
    },
    {
     "name": "stderr",
     "output_type": "stream",
     "text": [
      "Epoch 77: 100%|██████████| 2576/2576 [01:32<00:00, 27.99batch/s]\n"
     ]
    },
    {
     "name": "stdout",
     "output_type": "stream",
     "text": [
      "train loss: 4.3809 | valid loss: 4.4900 | ppl: 89.12 | acc@1: 0.2430 | acc@5: 0.4559\n"
     ]
    },
    {
     "name": "stderr",
     "output_type": "stream",
     "text": [
      "Epoch 78: 100%|██████████| 2576/2576 [01:31<00:00, 28.04batch/s]\n"
     ]
    },
    {
     "name": "stdout",
     "output_type": "stream",
     "text": [
      "train loss: 4.3790 | valid loss: 4.4906 | ppl: 89.17 | acc@1: 0.2429 | acc@5: 0.4558\n"
     ]
    },
    {
     "name": "stderr",
     "output_type": "stream",
     "text": [
      "Epoch 79: 100%|██████████| 2576/2576 [01:32<00:00, 27.89batch/s]\n"
     ]
    },
    {
     "name": "stdout",
     "output_type": "stream",
     "text": [
      "train loss: 4.3793 | valid loss: 4.4903 | ppl: 89.15 | acc@1: 0.2427 | acc@5: 0.4558\n",
      "\n",
      "[Примеры размер контекста = 1]\n",
      "--- sample 1 (idx=49007) ---\n",
      "app | arently, i didn't fix that contact form\n",
      "app | arently i'm not going to be able to get a job.\n",
      "\n",
      "--- sample 2 (idx=103847) ---\n",
      "h | aha i'm at diamond plaza again. however no cue pics this time.\n",
      "h | aha. i'm soo tired. i'm so tired.\n",
      "\n",
      "--- sample 3 (idx=138466) ---\n",
      " to |  freo you can enjoy pizza, pasta, sushi, indian, spanish. etc. what part of freo u moving to i'm in east\n",
      " to |  the airport.\n",
      "\n",
      "--- sample 4 (idx=70900) ---\n",
      "big |  sis i wanna go lol.dont leave lil ol me out da loop\n",
      "big | gest headache.\n",
      "\n",
      "--- sample 5 (idx=100790) ---\n",
      "can | 't feel my legs anymore. can't even sit down without screeching in pain i hate physed\n",
      "can | 't wait to see you guys\n",
      "\n",
      "--- sample 6 (idx=25946) ---\n",
      "nice |  i like that one\n",
      "nice |  pic\n",
      "\n",
      "--- sample 7 (idx=120822) ---\n",
      "drive |  in movie tonight contemplating date options so i don't have to watch amp makeout.\n",
      "drive | .\n",
      "\n",
      "--- sample 8 (idx=148009) ---\n",
      "good |  christ.\n",
      "good |  morning\n",
      "\n",
      "--- sample 9 (idx=88868) ---\n",
      "dam | n it was pcj but the code has already ben used\n",
      "dam | n i'm soo tired. i'm so tired.\n",
      "\n",
      "--- sample 10 (idx=36471) ---\n",
      "oh |  no well the old ones are just as pretty.i often flick through them too\n",
      "oh | h i'm so sorry to hear that.\n",
      "\n",
      "\n",
      "[Примеры размер контекста = 7]\n",
      "--- sample 1 (idx=26544) ---\n",
      "seen your name everywhere and ffd |  you, so here i am\n",
      "seen your name everywhere and ffd | \n",
      "\n",
      "--- sample 2 (idx=120256) ---\n",
      "so i could be smart enough to |  tell who's trying to hard lol kidd stop it, last comment from me. bak on my bs\n",
      "so i could be smart enough to |  get a new phone.\n",
      "\n",
      "--- sample 3 (idx=19948) ---\n",
      "omg i hate my frenemy |  now she is just my enemy i hope she dies she hets everything she wants exept good grades and a clean record\n",
      "omg i hate my frenemy | \n",
      "\n",
      "--- sample 4 (idx=66017) ---\n",
      "i start my internship at the hospital |  tomorrow morning. which means i have to take all my piercings out sad\n",
      "i start my internship at the hospital | .\n",
      "\n",
      "--- sample 5 (idx=78977) ---\n",
      "i'm glad we did a good |  job\n",
      "i'm glad we did a good |  job.\n",
      "\n",
      "--- sample 6 (idx=121283) ---\n",
      "in anatomy and physio classes and |  lab till 12 30\n",
      "in anatomy and physio classes and |  i'm soo tired\n",
      "\n",
      "--- sample 7 (idx=97501) ---\n",
      "up too early, trying to go |  back to sleep but it's not working\n",
      "up too early, trying to go |  to sleep.\n",
      "\n",
      "--- sample 8 (idx=82839) ---\n",
      "yes im ready to twitter again lol |  thanks for shout out .lol muahzz luv yaa and miss u\n",
      "yes im ready to twitter again lol | \n",
      "\n",
      "--- sample 9 (idx=8198) ---\n",
      "then the loft yess, i |  changed clothes. cuz i'mmaa primadonna la'dat. haha jusskiddinn. but, really, i .\n",
      "then the loft yess, i | 'm going to miss my friends\n",
      "\n",
      "--- sample 10 (idx=16365) ---\n",
      "aww . then no kino | 's related things 8d\n",
      "aww . then no kino | \n",
      "\n",
      "\n",
      "[Примеры размер контекста = 21]\n",
      "--- sample 1 (idx=35906) ---\n",
      "hey, starbucks. i'd like to drink my chai tea next time instead of wearing it. |  please don't serve my drink in a faulty cup.\n",
      "hey, starbucks. i'd like to drink my chai tea next time instead of wearing it. | \n",
      "\n",
      "--- sample 2 (idx=30232) ---\n",
      "oh my it is so humid out. last day of training, i think its going to be a short |  one, 3 day weekend then back to reality\n",
      "oh my it is so humid out. last day of training, i think its going to be a short |  day\n",
      "\n",
      "--- sample 3 (idx=35823) ---\n",
      "oh yeah tweggas almost forgot. saturday angels. check it outt. goodnight twegg | as\n",
      "oh yeah tweggas almost forgot. saturday angels. check it outt. goodnight twegg | \n",
      "\n",
      "--- sample 4 (idx=38057) ---\n",
      "coughing is no fun. i hate getting sickk. i'm still going to school tomorrow. |  haha.\n",
      "coughing is no fun. i hate getting sickk. i'm still going to school tomorrow. | \n",
      "\n",
      "--- sample 5 (idx=15155) ---\n",
      "i hate studying for finals. i am hunger. the closest 24 hours subway is like 20 exits down i | 35 i just want this week to be over.\n",
      "i hate studying for finals. i am hunger. the closest 24 hours subway is like 20 exits down i |  hate it\n",
      "\n",
      "--- sample 6 (idx=34686) ---\n",
      "i am starving and we are fresh out of food. dont ask why i'm up this early, it |  has something to do with the new flavor of invisible k .\n",
      "i am starving and we are fresh out of food. dont ask why i'm up this early, it | ches\n",
      "\n",
      "--- sample 7 (idx=24933) ---\n",
      "please can you get the guys to say hi to quot rachael quot would make mee soo |  happy\n",
      "please can you get the guys to say hi to quot rachael quot would make mee soo |  happy\n",
      "\n",
      "--- sample 8 (idx=40553) ---\n",
      "boo, not gonna have a couch. justin's girlfriend's taking this one to her apartment. |  guess i'll have to pony up.\n",
      "boo, not gonna have a couch. justin's girlfriend's taking this one to her apartment. | \n",
      "\n",
      "--- sample 9 (idx=12180) ---\n",
      "good 4 u. hee. naw it's not ok. having my acc got deleted sucks. |  lol\n",
      "good 4 u. hee. naw it's not ok. having my acc got deleted sucks. | \n",
      "\n",
      "--- sample 10 (idx=3098) ---\n",
      "can't wait for the mtvmovie awards won't see it till tomorow though. soo |  hope twilight gets best kiss. will be soo funny\n",
      "can't wait for the mtvmovie awards won't see it till tomorow though. soo |  excited\n",
      "\n",
      "\n",
      "[Примеры размер контекста = 28]\n",
      "--- sample 1 (idx=14317) ---\n",
      "googled myself amp found an entry that when i was in 2nd grade, i told someone that you can eat mac amp cheese cr | ayon and they took a bite.\n",
      "googled myself amp found an entry that when i was in 2nd grade, i told someone that you can eat mac amp cheese cr | ummy\n",
      "\n",
      "--- sample 2 (idx=6818) ---\n",
      "ur bf i guess lol.or that nigga tony dahsar wow 500 u love the cam.may have to kard | ashian u one day,lol jk\n",
      "ur bf i guess lol.or that nigga tony dahsar wow 500 u love the cam.may have to kard |  to get a new one\n",
      "\n",
      "--- sample 3 (idx=10388) ---\n",
      "packing . tomorrow i'll leave i'm happy sad because i will have fun but i won't have internet so . no jemi for two |  weeks. maybe 1 month\n",
      "packing . tomorrow i'll leave i'm happy sad because i will have fun but i won't have internet so . no jemi for two |  weeks\n",
      "\n",
      "--- sample 4 (idx=9194) ---\n",
      "good morning .getting ready to run some errands.but before i go i have to make sure my niece is comfortable.she's not |  feeling well\n",
      "good morning .getting ready to run some errands.but before i go i have to make sure my niece is comfortable.she's not |  allowed to go to the beach\n",
      "\n",
      "--- sample 5 (idx=2224) ---\n",
      "they look like they have sharp teeth, and they iz big, i is a fraidy cat. if they bite, i'll scream | .\n",
      "they look like they have sharp teeth, and they iz big, i is a fraidy cat. if they bite, i'll scream | \n",
      "\n",
      "--- sample 6 (idx=10599) ---\n",
      "i think that i felt in love with.you dont know me but i know you. you are all the time in my mind. i |  love you. you are so far away\n",
      "i think that i felt in love with.you dont know me but i know you. you are all the time in my mind. i | 'm soo happy\n",
      "\n",
      "--- sample 7 (idx=6535) ---\n",
      "llanfairpwllgwyngyllgogerychwyrndrobwllantysiliogogogoch adam, |  from swansea\n",
      "llanfairpwllgwyngyllgogerychwyrndrobwllantysiliogogogoch adam, |  i love you\n",
      "\n",
      "--- sample 8 (idx=14889) ---\n",
      "haha what you mean i didn't call you lastnight you mean cos i was like brb.for ages haha im sowwie | . xx\n",
      "haha what you mean i didn't call you lastnight you mean cos i was like brb.for ages haha im sowwie | \n",
      "\n",
      "--- sample 9 (idx=9661) ---\n",
      "it's june 7, usually warm and summery, and today the temperature isn't even hitting 50f. we have the heat on | , y'all\n",
      "it's june 7, usually warm and summery, and today the temperature isn't even hitting 50f. we have the heat on |  the beach\n",
      "\n",
      "--- sample 10 (idx=2082) ---\n",
      "ha have some of our rain. been raining so much can't drive my new jeep i just wanna play. how'd the hair turn |  out\n",
      "ha have some of our rain. been raining so much can't drive my new jeep i just wanna play. how'd the hair turn |  off\n",
      "\n",
      "[ROUGE-L@epoch 79] K=1: 0.0716 (n=152639) | K=7: 0.0666 (n=127042) | K=21: 0.0673 (n=42923) | K=28: 0.0744 (n=15555)\n"
     ]
    },
    {
     "name": "stderr",
     "output_type": "stream",
     "text": [
      "Epoch 80: 100%|██████████| 2576/2576 [01:32<00:00, 27.99batch/s]\n"
     ]
    },
    {
     "name": "stdout",
     "output_type": "stream",
     "text": [
      "train loss: 4.3791 | valid loss: 4.4901 | ppl: 89.13 | acc@1: 0.2430 | acc@5: 0.4556\n"
     ]
    },
    {
     "name": "stderr",
     "output_type": "stream",
     "text": [
      "Epoch 81: 100%|██████████| 2576/2576 [01:32<00:00, 27.98batch/s]\n"
     ]
    },
    {
     "name": "stdout",
     "output_type": "stream",
     "text": [
      "train loss: 4.3800 | valid loss: 4.4907 | ppl: 89.18 | acc@1: 0.2427 | acc@5: 0.4564\n"
     ]
    },
    {
     "name": "stderr",
     "output_type": "stream",
     "text": [
      "Epoch 82: 100%|██████████| 2576/2576 [01:32<00:00, 27.95batch/s]\n"
     ]
    },
    {
     "name": "stdout",
     "output_type": "stream",
     "text": [
      "train loss: 4.3785 | valid loss: 4.4906 | ppl: 89.17 | acc@1: 0.2425 | acc@5: 0.4561\n"
     ]
    },
    {
     "name": "stderr",
     "output_type": "stream",
     "text": [
      "Epoch 83: 100%|██████████| 2576/2576 [01:32<00:00, 27.89batch/s]\n"
     ]
    },
    {
     "name": "stdout",
     "output_type": "stream",
     "text": [
      "train loss: 4.3788 | valid loss: 4.4907 | ppl: 89.18 | acc@1: 0.2428 | acc@5: 0.4557\n"
     ]
    },
    {
     "name": "stderr",
     "output_type": "stream",
     "text": [
      "Epoch 84: 100%|██████████| 2576/2576 [01:32<00:00, 27.96batch/s]\n"
     ]
    },
    {
     "name": "stdout",
     "output_type": "stream",
     "text": [
      "train loss: 4.3785 | valid loss: 4.4908 | ppl: 89.20 | acc@1: 0.2430 | acc@5: 0.4559\n"
     ]
    },
    {
     "name": "stderr",
     "output_type": "stream",
     "text": [
      "Epoch 85: 100%|██████████| 2576/2576 [01:31<00:00, 28.11batch/s]\n"
     ]
    },
    {
     "name": "stdout",
     "output_type": "stream",
     "text": [
      "train loss: 4.3785 | valid loss: 4.4911 | ppl: 89.22 | acc@1: 0.2431 | acc@5: 0.4558\n"
     ]
    },
    {
     "name": "stderr",
     "output_type": "stream",
     "text": [
      "Epoch 86: 100%|██████████| 2576/2576 [01:32<00:00, 27.84batch/s]\n"
     ]
    },
    {
     "name": "stdout",
     "output_type": "stream",
     "text": [
      "train loss: 4.3776 | valid loss: 4.4903 | ppl: 89.15 | acc@1: 0.2430 | acc@5: 0.4558\n"
     ]
    },
    {
     "name": "stderr",
     "output_type": "stream",
     "text": [
      "Epoch 87: 100%|██████████| 2576/2576 [01:32<00:00, 28.00batch/s]\n"
     ]
    },
    {
     "name": "stdout",
     "output_type": "stream",
     "text": [
      "train loss: 4.3777 | valid loss: 4.4912 | ppl: 89.23 | acc@1: 0.2429 | acc@5: 0.4557\n"
     ]
    },
    {
     "name": "stderr",
     "output_type": "stream",
     "text": [
      "Epoch 88: 100%|██████████| 2576/2576 [01:31<00:00, 28.00batch/s]\n"
     ]
    },
    {
     "name": "stdout",
     "output_type": "stream",
     "text": [
      "train loss: 4.3784 | valid loss: 4.4910 | ppl: 89.21 | acc@1: 0.2428 | acc@5: 0.4557\n"
     ]
    },
    {
     "name": "stderr",
     "output_type": "stream",
     "text": [
      "Epoch 89: 100%|██████████| 2576/2576 [01:32<00:00, 27.95batch/s]\n"
     ]
    },
    {
     "name": "stdout",
     "output_type": "stream",
     "text": [
      "train loss: 4.3774 | valid loss: 4.4905 | ppl: 89.17 | acc@1: 0.2428 | acc@5: 0.4561\n",
      "\n",
      "[Примеры размер контекста = 1]\n",
      "--- sample 1 (idx=126923) ---\n",
      "is |  hungover, picking up hungover nacho, it's tor time\n",
      "is |  going to bed. i'm so tired.\n",
      "\n",
      "--- sample 2 (idx=48360) ---\n",
      "my |  deepest condolences.\n",
      "my | space is soo slow\n",
      "\n",
      "--- sample 3 (idx=103971) ---\n",
      "ah | , i'm missing my second plot point. where is it . what could it be .g2g to work in 30 min.\n",
      "ah | aha. i'm soo tired. i'm so tired.\n",
      "\n",
      "--- sample 4 (idx=3883) ---\n",
      "i |  am glad to hear you are all right i am very good thanks and i no it was very hard work i couldnt do and i have been let .\n",
      "i | 'm soo tired. i'm so tired.\n",
      "\n",
      "--- sample 5 (idx=35634) ---\n",
      "i |  miss you now that pb has ended\n",
      "i | 'm soo tired. i'm so tired.\n",
      "\n",
      "--- sample 6 (idx=132953) ---\n",
      "if |  you are, than i'm really sorry. i miss you terribly\n",
      "if |  you're not following me, i'm not following you.\n",
      "\n",
      "--- sample 7 (idx=76023) ---\n",
      "i | 'm going to freddy tomorrow\n",
      "i | 'm soo tired. i'm so tired.\n",
      "\n",
      "--- sample 8 (idx=65975) ---\n",
      "how |  did you lock yourself out of your apt\n",
      "how |  are you doing\n",
      "\n",
      "--- sample 9 (idx=121028) ---\n",
      "fuck |  you live nation you have thwarted me yet again.grr.\n",
      "fuck | . i'm soo tired.\n",
      "\n",
      "--- sample 10 (idx=136445) ---\n",
      "you | 're welcome amp thanks also\n",
      "you |  are soo lucky i love you\n",
      "\n",
      "\n",
      "[Примеры размер контекста = 7]\n",
      "--- sample 1 (idx=126229) ---\n",
      "god damn i wish i coulda |  been there with her tonight why do these moments always slip away\n",
      "god damn i wish i coulda |  been there\n",
      "\n",
      "--- sample 2 (idx=67145) ---\n",
      "hahh that was supposed to |  be woo hoo ehh they are re runs\n",
      "hahh that was supposed to |  me.\n",
      "\n",
      "--- sample 3 (idx=7772) ---\n",
      "to early to be up .driving |  home, eating leftover chinese yes 9am, lol then going back to bed\n",
      "to early to be up .driving |  home.\n",
      "\n",
      "--- sample 4 (idx=39255) ---\n",
      "everyone listen to david archuleta | 's album soo good\n",
      "everyone listen to david archuleta | \n",
      "\n",
      "--- sample 5 (idx=47664) ---\n",
      "going to my brother for some painting | . a lot of work to do today\n",
      "going to my brother for some painting | .\n",
      "\n",
      "--- sample 6 (idx=103057) ---\n",
      "is this the last season of h | annah montana\n",
      "is this the last season of h | d tv.\n",
      "\n",
      "--- sample 7 (idx=31557) ---\n",
      "this is one of those days where |  the time flies and nothing significant has been accomplished\n",
      "this is one of those days where |  are you\n",
      "\n",
      "--- sample 8 (idx=88225) ---\n",
      "well 200 later, the phone debacle |  is solved. now off to do rescheduled date night. so excited to see up 3d yay\n",
      "well 200 later, the phone debacle |  have been a bit of a good day.\n",
      "\n",
      "--- sample 9 (idx=61322) ---\n",
      "ehh u two gossip bout me |  while im away ekh i was asleep alr. not feeling too good actually\n",
      "ehh u two gossip bout me | \n",
      "\n",
      "--- sample 10 (idx=83662) ---\n",
      "i don't know if u're |  the real katy perry there's lots of 'fake' but, anyway i adore what you do. hope u fine xoxo\n",
      "i don't know if u're |  gonna be able to make it to the show\n",
      "\n",
      "\n",
      "[Примеры размер контекста = 21]\n",
      "--- sample 1 (idx=40081) ---\n",
      "winter solstice. basketball practice canceled so, i'll just have to take aiko for a walk instead |  at least, she's super keen and bouncy\n",
      "winter solstice. basketball practice canceled so, i'll just have to take aiko for a walk instead | \n",
      "\n",
      "--- sample 2 (idx=29591) ---\n",
      "seemed that way at that show at purdue, too. i thought that would get you to tune |  in. download the desktop app, too.\n",
      "seemed that way at that show at purdue, too. i thought that would get you to tune | \n",
      "\n",
      "--- sample 3 (idx=39415) ---\n",
      "great actors avery brooks, marc alaimo, jeffrey combs, penny john | son, andrew j. robinson, louise fletcher. cast i can't sleep\n",
      "great actors avery brooks, marc alaimo, jeffrey combs, penny john | son, and jonas brothers\n",
      "\n",
      "--- sample 4 (idx=41885) ---\n",
      "today has been very nice got a tan amp some of my hw done amp drove the boat all the |  way home by mysself ah i'm so proud shower then bbq\n",
      "today has been very nice got a tan amp some of my hw done amp drove the boat all the |  way to the beach\n",
      "\n",
      "--- sample 5 (idx=823) ---\n",
      "so apparently really is going to be away for most of the time i'm home. not happy about this | .\n",
      "so apparently really is going to be away for most of the time i'm home. not happy about this |  week.\n",
      "\n",
      "--- sample 6 (idx=41064) ---\n",
      "oh my days, the guy next to me on the bus has the worst bo, i'm gonna be |  sick\n",
      "oh my days, the guy next to me on the bus has the worst bo, i'm gonna be | in sick\n",
      "\n",
      "--- sample 7 (idx=6290) ---\n",
      "shower time and then watch sub videos, then work. i really need to film a video maybe to | mm i dont get a day off till wed tho\n",
      "shower time and then watch sub videos, then work. i really need to film a video maybe to | morow\n",
      "\n",
      "--- sample 8 (idx=14731) ---\n",
      "yes i do wish every day would be like that, but i will take the couple of days every week |  that it does happen\n",
      "yes i do wish every day would be like that, but i will take the couple of days every week | \n",
      "\n",
      "--- sample 9 (idx=31056) ---\n",
      "have just discovered that there're some tweets missing on my td,cross checked w n. the 1 u | 're referring to's missing as well\n",
      "have just discovered that there're some tweets missing on my td,cross checked w n. the 1 u |  know\n",
      "\n",
      "--- sample 10 (idx=21003) ---\n",
      "desperately wishing i could sleep but i am too frazzled about my gma, and can | 't sleep. ' it's really bad tonight xx\n",
      "desperately wishing i could sleep but i am too frazzled about my gma, and can | 't sleep\n",
      "\n",
      "\n",
      "[Примеры размер контекста = 28]\n",
      "--- sample 1 (idx=11517) ---\n",
      "amazing birthday. thank you jamie, tim, marianne, amp carlos for making disneyland a blast and thank you |  family for being amazing\n",
      "amazing birthday. thank you jamie, tim, marianne, amp carlos for making disneyland a blast and thank you | 're so sweet\n",
      "\n",
      "--- sample 2 (idx=12450) ---\n",
      "called in t0 w0rk. feelin t00 sick just t00k sum meds. b0red and tired 0 | f sleeping guess i'll get 0n tha cpu amp l00k f0r a 2nd j0b.\n",
      "called in t0 w0rk. feelin t00 sick just t00k sum meds. b0red and tired 0 | \n",
      "\n",
      "--- sample 3 (idx=10411) ---\n",
      "i don't know what i'll do, or what i'll become.only what i am. paul curran i couldn't help |  it i added one more thought\n",
      "i don't know what i'll do, or what i'll become.only what i am. paul curran i couldn't help | \n",
      "\n",
      "--- sample 4 (idx=11494) ---\n",
      "hey. i feel so violated, some little quot associate quot has taken such liberty with my twitter nice msg though. now jst 2 find |  out who.\n",
      "hey. i feel so violated, some little quot associate quot has taken such liberty with my twitter nice msg though. now jst 2 find |  a new one\n",
      "\n",
      "--- sample 5 (idx=4225) ---\n",
      "scanning the new eminem cd on itunes. might be making a purchase. pretty violent. it's sad rap has gotten so bad |  i turned to shady\n",
      "scanning the new eminem cd on itunes. might be making a purchase. pretty violent. it's sad rap has gotten so bad | \n",
      "\n",
      "--- sample 6 (idx=9721) ---\n",
      "damn. out in the second level. oops a5 vs aa on an a5827 board, blind vs blind. m | rs hazey doing great though\n",
      "damn. out in the second level. oops a5 vs aa on an a5827 board, blind vs blind. m |  amp m\n",
      "\n",
      "--- sample 7 (idx=3125) ---\n",
      "okay so your making your 2nd cd album and a christmas album no way christmas will be more un this year thanks lt |  3\n",
      "okay so your making your 2nd cd album and a christmas album no way christmas will be more un this year thanks lt | \n",
      "\n",
      "--- sample 8 (idx=10749) ---\n",
      "home today. baby hers is sick. but thurs went well. gotta get adjusted to having 2 kids. but i think we're gonna |  like it.\n",
      "home today. baby hers is sick. but thurs went well. gotta get adjusted to having 2 kids. but i think we're gonna |  have to wait till next week\n",
      "\n",
      "--- sample 9 (idx=5715) ---\n",
      "just found the same item on amazon but from a different vendor for 30 less than i paid. and my order is too far along to |  be cancelled.\n",
      "just found the same item on amazon but from a different vendor for 30 less than i paid. and my order is too far along to | kyo\n",
      "\n",
      "--- sample 10 (idx=10683) ---\n",
      "i can't ever comment your blog 1. puking does not make you feel better. even worse. 2. i haven't had |  many anxieties either.\n",
      "i can't ever comment your blog 1. puking does not make you feel better. even worse. 2. i haven't had |  a chance to see it.\n",
      "\n",
      "[ROUGE-L@epoch 89] K=1: 0.0710 (n=152639) | K=7: 0.0665 (n=127042) | K=21: 0.0672 (n=42923) | K=28: 0.0746 (n=15555)\n"
     ]
    },
    {
     "name": "stderr",
     "output_type": "stream",
     "text": [
      "Epoch 90: 100%|██████████| 2576/2576 [01:32<00:00, 27.97batch/s]\n"
     ]
    },
    {
     "name": "stdout",
     "output_type": "stream",
     "text": [
      "train loss: 4.3777 | valid loss: 4.4909 | ppl: 89.20 | acc@1: 0.2435 | acc@5: 0.4558\n"
     ]
    },
    {
     "name": "stderr",
     "output_type": "stream",
     "text": [
      "Epoch 91: 100%|██████████| 2576/2576 [01:32<00:00, 27.88batch/s]\n"
     ]
    },
    {
     "name": "stdout",
     "output_type": "stream",
     "text": [
      "train loss: 4.3778 | valid loss: 4.4903 | ppl: 89.15 | acc@1: 0.2431 | acc@5: 0.4556\n"
     ]
    },
    {
     "name": "stderr",
     "output_type": "stream",
     "text": [
      "Epoch 92: 100%|██████████| 2576/2576 [01:32<00:00, 27.87batch/s]\n"
     ]
    },
    {
     "name": "stdout",
     "output_type": "stream",
     "text": [
      "train loss: 4.3769 | valid loss: 4.4908 | ppl: 89.19 | acc@1: 0.2430 | acc@5: 0.4555\n"
     ]
    },
    {
     "name": "stderr",
     "output_type": "stream",
     "text": [
      "Epoch 93: 100%|██████████| 2576/2576 [01:31<00:00, 28.10batch/s]\n"
     ]
    },
    {
     "name": "stdout",
     "output_type": "stream",
     "text": [
      "train loss: 4.3776 | valid loss: 4.4905 | ppl: 89.17 | acc@1: 0.2427 | acc@5: 0.4559\n"
     ]
    },
    {
     "name": "stderr",
     "output_type": "stream",
     "text": [
      "Epoch 94: 100%|██████████| 2576/2576 [01:31<00:00, 28.08batch/s]\n"
     ]
    },
    {
     "name": "stdout",
     "output_type": "stream",
     "text": [
      "train loss: 4.3773 | valid loss: 4.4908 | ppl: 89.19 | acc@1: 0.2424 | acc@5: 0.4560\n"
     ]
    },
    {
     "name": "stderr",
     "output_type": "stream",
     "text": [
      "Epoch 95: 100%|██████████| 2576/2576 [01:32<00:00, 27.93batch/s]\n"
     ]
    },
    {
     "name": "stdout",
     "output_type": "stream",
     "text": [
      "train loss: 4.3767 | valid loss: 4.4906 | ppl: 89.17 | acc@1: 0.2433 | acc@5: 0.4562\n"
     ]
    },
    {
     "name": "stderr",
     "output_type": "stream",
     "text": [
      "Epoch 96: 100%|██████████| 2576/2576 [01:31<00:00, 28.00batch/s]\n"
     ]
    },
    {
     "name": "stdout",
     "output_type": "stream",
     "text": [
      "train loss: 4.3759 | valid loss: 4.4907 | ppl: 89.18 | acc@1: 0.2431 | acc@5: 0.4563\n"
     ]
    },
    {
     "name": "stderr",
     "output_type": "stream",
     "text": [
      "Epoch 97: 100%|██████████| 2576/2576 [01:32<00:00, 27.97batch/s]\n"
     ]
    },
    {
     "name": "stdout",
     "output_type": "stream",
     "text": [
      "train loss: 4.3756 | valid loss: 4.4908 | ppl: 89.19 | acc@1: 0.2429 | acc@5: 0.4561\n"
     ]
    },
    {
     "name": "stderr",
     "output_type": "stream",
     "text": [
      "Epoch 98: 100%|██████████| 2576/2576 [01:31<00:00, 28.01batch/s]\n"
     ]
    },
    {
     "name": "stdout",
     "output_type": "stream",
     "text": [
      "train loss: 4.3764 | valid loss: 4.4907 | ppl: 89.19 | acc@1: 0.2431 | acc@5: 0.4558\n"
     ]
    },
    {
     "name": "stderr",
     "output_type": "stream",
     "text": [
      "Epoch 99: 100%|██████████| 2576/2576 [01:32<00:00, 27.84batch/s]\n"
     ]
    },
    {
     "name": "stdout",
     "output_type": "stream",
     "text": [
      "train loss: 4.3751 | valid loss: 4.4909 | ppl: 89.20 | acc@1: 0.2430 | acc@5: 0.4558\n",
      "\n",
      "[Примеры размер контекста = 1]\n",
      "--- sample 1 (idx=29015) ---\n",
      "ha |  good call\n",
      "ha | a\n",
      "\n",
      "--- sample 2 (idx=88113) ---\n",
      "never | mind, not much to be done . aye, was lovely to meet you. hope to again sometime\n",
      "never |  thought i'd be a fan of the same thing.\n",
      "\n",
      "--- sample 3 (idx=109845) ---\n",
      "an | 0ther friend just ann0unced his wedding. its such a swt story. fairy tales do happen\n",
      "an | 's birthday\n",
      "\n",
      "--- sample 4 (idx=23358) ---\n",
      "how |  true those words are\n",
      "how |  are you doing today\n",
      "\n",
      "--- sample 5 (idx=114535) ---\n",
      "oh |  someone help me i fell like shit\n",
      "oh | h i'm so sorry to hear that.\n",
      "\n",
      "--- sample 6 (idx=25308) ---\n",
      "home |  from nj. and hating i 80\n",
      "home |  from work. i'm so tired.\n",
      "\n",
      "--- sample 7 (idx=135129) ---\n",
      "i |  understand puppy adoption and a baby story.but why giada at home\n",
      "i | 'm soo tired. i'm so tired.\n",
      "\n",
      "--- sample 8 (idx=75655) ---\n",
      "nah |  i wish.i just got back a few hours ago how was nyc\n",
      "nah | , i'm not a fan of the same thing.\n",
      "\n",
      "--- sample 9 (idx=47321) ---\n",
      "i |  miss the winch .house\n",
      "i | 'm soo tired. i'm so tired.\n",
      "\n",
      "--- sample 10 (idx=49856) ---\n",
      "its |  coming to an end .\n",
      "its |  soo hot outside\n",
      "\n",
      "\n",
      "[Примеры размер контекста = 7]\n",
      "--- sample 1 (idx=82995) ---\n",
      "i hate the rain no phils |  game today\n",
      "i hate the rain no phils | \n",
      "\n",
      "--- sample 2 (idx=46221) ---\n",
      "aww thats so cute, she | 'll be a brat lover like us. i wish you were with me too wes carr was rall good, i enjoyed him.\n",
      "aww thats so cute, she | s so cute\n",
      "\n",
      "--- sample 3 (idx=95447) ---\n",
      "sad about nadal's loss | .\n",
      "sad about nadal's loss |  of the lost teams.\n",
      "\n",
      "--- sample 4 (idx=86828) ---\n",
      "thanx for the post amp the |  warm wishes. enjoy ur day\n",
      "thanx for the post amp the |  link\n",
      "\n",
      "--- sample 5 (idx=31679) ---\n",
      "upset cuz i had 2 |  let my palm pre go .oh well, another 3 weeks to a month it is.damn.\n",
      "upset cuz i had 2 | .\n",
      "\n",
      "--- sample 6 (idx=57061) ---\n",
      "ah whatev. ha. |  i cant believe mine and melinys show got axed. i mean it was pretty awful but\n",
      "ah whatev. ha. | \n",
      "\n",
      "--- sample 7 (idx=84304) ---\n",
      "happy tuesday oxox what's |  everyone up to today no exams.bored .andd my phone don't work. need to talk ro ppl. xx\n",
      "happy tuesday oxox what's |  up\n",
      "\n",
      "--- sample 8 (idx=29917) ---\n",
      "ahh the view is beautiful. |  enjoy it girl\n",
      "ahh the view is beautiful. | \n",
      "\n",
      "--- sample 9 (idx=125492) ---\n",
      "yes, thats what i was talking |  about. its looks hilarious.\n",
      "yes, thats what i was talking |  about.\n",
      "\n",
      "--- sample 10 (idx=95013) ---\n",
      "sun sun mister golden sun please |  shine down on mee\n",
      "sun sun mister golden sun please |  please please\n",
      "\n",
      "\n",
      "[Примеры размер контекста = 21]\n",
      "--- sample 1 (idx=12624) ---\n",
      "caught myself looking up the iphone. promised i wouldn't torcher myself as i still have |  6 months left on my current contract\n",
      "caught myself looking up the iphone. promised i wouldn't torcher myself as i still have |  a good time\n",
      "\n",
      "--- sample 2 (idx=2356) ---\n",
      "my brother and i have offically started our big night in. i'm armed and dangerous with spicy tomato |  chips and pineapple lumps chocolate\n",
      "my brother and i have offically started our big night in. i'm armed and dangerous with spicy tomato |  sauce.\n",
      "\n",
      "--- sample 3 (idx=40882) ---\n",
      "well thats good and yea deff a good way to express yourself i didnt go to my prom this year | , i had to work\n",
      "well thats good and yea deff a good way to express yourself i didnt go to my prom this year | \n",
      "\n",
      "--- sample 4 (idx=36606) ---\n",
      "ok guys got run little man doesn t want to sleep. might pop back in if i can, if |  not see in the am. sweet dreams all\n",
      "ok guys got run little man doesn t want to sleep. might pop back in if i can, if |  i can get a job.\n",
      "\n",
      "--- sample 5 (idx=22511) ---\n",
      "so my cable box shows me all the twilight stuff i don't care about, and goes nuts when and | y is on the screen\n",
      "so my cable box shows me all the twilight stuff i don't care about, and goes nuts when and |  i'm not a fan of the new moon trailer\n",
      "\n",
      "--- sample 6 (idx=15380) ---\n",
      "dear a california studio, please hire this 3d artist. i am very very sick of |  new jersey.\n",
      "dear a california studio, please hire this 3d artist. i am very very sick of |  course\n",
      "\n",
      "--- sample 7 (idx=6130) ---\n",
      "wait . 2 day is sunday so i go to church instead of swim team boo oo i really |  like swim team its soo fuun lol\n",
      "wait . 2 day is sunday so i go to church instead of swim team boo oo i really |  want to go to the beach\n",
      "\n",
      "--- sample 8 (idx=21008) ---\n",
      "unfortunately david, the dslr i have at the moment is a sony, and it's |  one drawback is no dof preview\n",
      "unfortunately david, the dslr i have at the moment is a sony, and it's |  not working\n",
      "\n",
      "--- sample 9 (idx=30674) ---\n",
      "been there, done that. here's a tip. don't have the bag of peas for diner when |  you're done.\n",
      "been there, done that. here's a tip. don't have the bag of peas for diner when |  i'm in the office\n",
      "\n",
      "--- sample 10 (idx=29162) ---\n",
      "gonna call it a night.long day today and earlier time at the gym tomorrow.thx to |  those who voted\n",
      "gonna call it a night.long day today and earlier time at the gym tomorrow.thx to |  the gym\n",
      "\n",
      "\n",
      "[Примеры размер контекста = 28]\n",
      "--- sample 1 (idx=3524) ---\n",
      "luv the new vid. i know you are busy now but really miss ur chatty vids as well. we luv to |  hear about pooches etc. xx\n",
      "luv the new vid. i know you are busy now but really miss ur chatty vids as well. we luv to |  all\n",
      "\n",
      "--- sample 2 (idx=4116) ---\n",
      "were back up o well it was a nice 2 1 2 hr brake i was watching dirty dancing on my iphone thanks apple for the |  iphone lol\n",
      "were back up o well it was a nice 2 1 2 hr brake i was watching dirty dancing on my iphone thanks apple for the |  first time\n",
      "\n",
      "--- sample 3 (idx=5473) ---\n",
      "my dog decides to be scared of the storm. she takes up my whole twin sized bed so i'm falling off and my stomach is killing |  me.\n",
      "my dog decides to be scared of the storm. she takes up my whole twin sized bed so i'm falling off and my stomach is killing |  me.\n",
      "\n",
      "--- sample 4 (idx=5340) ---\n",
      "leighton meester from gossip girls has a sex tape out amp there is a flood watch for all of nyc. today has not |  been a good day\n",
      "leighton meester from gossip girls has a sex tape out amp there is a flood watch for all of nyc. today has not |  been a good day\n",
      "\n",
      "--- sample 5 (idx=93) ---\n",
      "i will send a copy of this email to the prime minister of canada among others. you should not have opened pandora's box. |  peace\n",
      "i will send a copy of this email to the prime minister of canada among others. you should not have opened pandora's box. | \n",
      "\n",
      "--- sample 6 (idx=7026) ---\n",
      "i'm happy with my section if only harvi was there, i'd be happier. freaky baya kaayo si mdm | . olikornyo. hikhikhikhik\n",
      "i'm happy with my section if only harvi was there, i'd be happier. freaky baya kaayo si mdm | \n",
      "\n",
      "--- sample 7 (idx=5487) ---\n",
      "just ate about 10,000 skittles, watching flight of the conchords videos on youtube. fantastic combo there. wewew | eweww yay it's friday\n",
      "just ate about 10,000 skittles, watching flight of the conchords videos on youtube. fantastic combo there. wewew | \n",
      "\n",
      "--- sample 8 (idx=11483) ---\n",
      "stuffed bell peppers for dinner. yummy. too bad i don't like bell peppers. it smells good, but i can't stand |  it.\n",
      "stuffed bell peppers for dinner. yummy. too bad i don't like bell peppers. it smells good, but i can't stand | .\n",
      "\n",
      "--- sample 9 (idx=11138) ---\n",
      "gotta say, i am not loving the new blockbuster system. now, they don't send me the next one from my queue 'til |  i return my in store.\n",
      "gotta say, i am not loving the new blockbuster system. now, they don't send me the next one from my queue 'til |  i'm back\n",
      "\n",
      "--- sample 10 (idx=6240) ---\n",
      "finsihed reading fianlly.1703.words.lols okyay done tomorrow,bass am full blast after skool |  d yays lols no more assignments.ever\n",
      "finsihed reading fianlly.1703.words.lols okyay done tomorrow,bass am full blast after skool | \n",
      "\n",
      "[ROUGE-L@epoch 99] K=1: 0.0717 (n=152639) | K=7: 0.0671 (n=127042) | K=21: 0.0673 (n=42923) | K=28: 0.0745 (n=15555)\n"
     ]
    },
    {
     "name": "stderr",
     "output_type": "stream",
     "text": [
      "Epoch 100: 100%|██████████| 2576/2576 [01:31<00:00, 28.08batch/s]\n"
     ]
    },
    {
     "name": "stdout",
     "output_type": "stream",
     "text": [
      "train loss: 4.3752 | valid loss: 4.4908 | ppl: 89.20 | acc@1: 0.2428 | acc@5: 0.4558\n"
     ]
    },
    {
     "name": "stderr",
     "output_type": "stream",
     "text": [
      "Epoch 101: 100%|██████████| 2576/2576 [01:32<00:00, 27.89batch/s]\n"
     ]
    },
    {
     "name": "stdout",
     "output_type": "stream",
     "text": [
      "train loss: 4.3747 | valid loss: 4.4911 | ppl: 89.22 | acc@1: 0.2430 | acc@5: 0.4557\n"
     ]
    },
    {
     "name": "stderr",
     "output_type": "stream",
     "text": [
      "Epoch 102: 100%|██████████| 2576/2576 [01:31<00:00, 28.02batch/s]\n"
     ]
    },
    {
     "name": "stdout",
     "output_type": "stream",
     "text": [
      "train loss: 4.3757 | valid loss: 4.4912 | ppl: 89.23 | acc@1: 0.2433 | acc@5: 0.4560\n"
     ]
    },
    {
     "name": "stderr",
     "output_type": "stream",
     "text": [
      "Epoch 103: 100%|██████████| 2576/2576 [01:32<00:00, 27.86batch/s]\n"
     ]
    },
    {
     "name": "stdout",
     "output_type": "stream",
     "text": [
      "train loss: 4.3750 | valid loss: 4.4913 | ppl: 89.24 | acc@1: 0.2427 | acc@5: 0.4559\n"
     ]
    },
    {
     "name": "stderr",
     "output_type": "stream",
     "text": [
      "Epoch 104: 100%|██████████| 2576/2576 [01:32<00:00, 27.83batch/s]\n"
     ]
    },
    {
     "name": "stdout",
     "output_type": "stream",
     "text": [
      "train loss: 4.3744 | valid loss: 4.4910 | ppl: 89.21 | acc@1: 0.2430 | acc@5: 0.4559\n"
     ]
    },
    {
     "name": "stderr",
     "output_type": "stream",
     "text": [
      "Epoch 105: 100%|██████████| 2576/2576 [01:32<00:00, 27.77batch/s]\n"
     ]
    },
    {
     "name": "stdout",
     "output_type": "stream",
     "text": [
      "train loss: 4.3758 | valid loss: 4.4915 | ppl: 89.26 | acc@1: 0.2432 | acc@5: 0.4557\n"
     ]
    },
    {
     "name": "stderr",
     "output_type": "stream",
     "text": [
      "Epoch 106: 100%|██████████| 2576/2576 [01:31<00:00, 28.04batch/s]\n"
     ]
    },
    {
     "name": "stdout",
     "output_type": "stream",
     "text": [
      "train loss: 4.3742 | valid loss: 4.4914 | ppl: 89.24 | acc@1: 0.2433 | acc@5: 0.4561\n"
     ]
    },
    {
     "name": "stderr",
     "output_type": "stream",
     "text": [
      "Epoch 107: 100%|██████████| 2576/2576 [01:31<00:00, 28.06batch/s]\n"
     ]
    },
    {
     "name": "stdout",
     "output_type": "stream",
     "text": [
      "train loss: 4.3746 | valid loss: 4.4914 | ppl: 89.25 | acc@1: 0.2426 | acc@5: 0.4558\n"
     ]
    },
    {
     "name": "stderr",
     "output_type": "stream",
     "text": [
      "Epoch 108: 100%|██████████| 2576/2576 [01:32<00:00, 27.85batch/s]\n"
     ]
    },
    {
     "name": "stdout",
     "output_type": "stream",
     "text": [
      "train loss: 4.3744 | valid loss: 4.4911 | ppl: 89.22 | acc@1: 0.2431 | acc@5: 0.4559\n"
     ]
    },
    {
     "name": "stderr",
     "output_type": "stream",
     "text": [
      "Epoch 109: 100%|██████████| 2576/2576 [01:31<00:00, 28.02batch/s]\n"
     ]
    },
    {
     "name": "stdout",
     "output_type": "stream",
     "text": [
      "train loss: 4.3748 | valid loss: 4.4919 | ppl: 89.29 | acc@1: 0.2434 | acc@5: 0.4555\n",
      "\n",
      "[Примеры размер контекста = 1]\n",
      "--- sample 1 (idx=48207) ---\n",
      "is |  with amina and loves her major\n",
      "is |  going to bed. i'm so tired.\n",
      "\n",
      "--- sample 2 (idx=23128) ---\n",
      "co | ffee. about to get ready for work, 11 9 xoxo\n",
      "co | . i'm not sure if i can get it.\n",
      "\n",
      "--- sample 3 (idx=136970) ---\n",
      "just |  watched quot earthlings quot . i may or may not have cried. hint i totally did\n",
      "just |  got home from work. i'm so tired.\n",
      "\n",
      "--- sample 4 (idx=86607) ---\n",
      "i |  know amp thank you 4 considering me, but i can't abandon them now since they were the first ones 2 ever hire me but thank you\n",
      "i | 'm soo tired. i'm so tired.\n",
      "\n",
      "--- sample 5 (idx=128130) ---\n",
      "something |  about julian smith.something about socks. i forgot too\n",
      "something |  is wrong with my phone.\n",
      "\n",
      "--- sample 6 (idx=142757) ---\n",
      "right |  on bros the one with the laugh very hard to ignore but some might say well worth the effort\n",
      "right | . i'm going to bed. i'm so tired.\n",
      "\n",
      "--- sample 7 (idx=9512) ---\n",
      "i |  cant wait for this time next week. actually five days might do it. haul\n",
      "i | 'm soo tired. i'm so tired.\n",
      "\n",
      "--- sample 8 (idx=86877) ---\n",
      "aw | esome how many stores looks like something my girl would dig\n",
      "aw | w i'm sorry i missed you\n",
      "\n",
      "--- sample 9 (idx=1773) ---\n",
      "serious |  backup at starbucks drivethru\n",
      "serious | . i'm soo tired. i'm so tired.\n",
      "\n",
      "--- sample 10 (idx=3000) ---\n",
      "d | ude, i'm livin' the dream today. same as yesterday. same as tomorrow\n",
      "d | ont be sad\n",
      "\n",
      "\n",
      "[Примеры размер контекста = 7]\n",
      "--- sample 1 (idx=100073) ---\n",
      "perhaps could have a nice hot cup |  of joe and really spaz the heck out.\n",
      "perhaps could have a nice hot cup | cake\n",
      "\n",
      "--- sample 2 (idx=61244) ---\n",
      "will have to study shoot be back |  later.\n",
      "will have to study shoot be back |  soon\n",
      "\n",
      "--- sample 3 (idx=38088) ---\n",
      "has had a fun filled evening at |  home, complete with first knight and pizza rolls\n",
      "has had a fun filled evening at | lanta. i'm so sad\n",
      "\n",
      "--- sample 4 (idx=1068) ---\n",
      "ok bedtime. and dammit |  dentist tomorrow, because i'm going to just keep snapping at people otherwise\n",
      "ok bedtime. and dammit | . i'm so tired.\n",
      "\n",
      "--- sample 5 (idx=25540) ---\n",
      "after at least 1 hr searching. | i can't find any music i want to buy on itunes. what a waste of time\n",
      "after at least 1 hr searching. | \n",
      "\n",
      "--- sample 6 (idx=69668) ---\n",
      "just realised me and sis, |  both of us are gerascophobic an abnormal and persistent fear of growing old\n",
      "just realised me and sis, |  i'm so excited for the new album.\n",
      "\n",
      "--- sample 7 (idx=48275) ---\n",
      "the beach obliterated my hangover |  yesterday.it was great spanish homework time now tho xx\n",
      "the beach obliterated my hangover | .\n",
      "\n",
      "--- sample 8 (idx=5835) ---\n",
      "love nast, she's so |  pretty\n",
      "love nast, she's so |  cute\n",
      "\n",
      "--- sample 9 (idx=108863) ---\n",
      "20 invited 3 declined so far not |  the best start\n",
      "20 invited 3 declined so far not |  sure what to do\n",
      "\n",
      "--- sample 10 (idx=99022) ---\n",
      "after inspecting fridge amp pantry no |  poss of beans on toast, sausage, or muffins. startling surplus of muesli\n",
      "after inspecting fridge amp pantry no |  no no no no no no no no no no no no no no no no no no no no no no no no no no no no no no no no\n",
      "\n",
      "\n",
      "[Примеры размер контекста = 21]\n",
      "--- sample 1 (idx=19370) ---\n",
      "should be saying goodnight to twitterville, will play a bit of poker first then go to sleep. |  sounds good.\n",
      "should be saying goodnight to twitterville, will play a bit of poker first then go to sleep. | \n",
      "\n",
      "--- sample 2 (idx=382) ---\n",
      "huzzah am with the guys doing my own tweaks to the video edit, just putting little break up |  effects in. it's nearly there.\n",
      "huzzah am with the guys doing my own tweaks to the video edit, just putting little break up |  to the new one\n",
      "\n",
      "--- sample 3 (idx=33768) ---\n",
      "are you looking for something chocolate, chocolate chip, peanut butter, cinnamony, toffee. |  there are lots of options\n",
      "are you looking for something chocolate, chocolate chip, peanut butter, cinnamony, toffee. | \n",
      "\n",
      "--- sample 4 (idx=26553) ---\n",
      "morning all watched the new star trek film last night fx were brilliant, nimoy cameo not shit |  amp new kirk wasn't annoying. all in all cool\n",
      "morning all watched the new star trek film last night fx were brilliant, nimoy cameo not shit | \n",
      "\n",
      "--- sample 5 (idx=9668) ---\n",
      "ohh didnt know. sad i missed out on that loved the pic the other day. rockin hair |  style\n",
      "ohh didnt know. sad i missed out on that loved the pic the other day. rockin hair | \n",
      "\n",
      "--- sample 6 (idx=1091) ---\n",
      "beat mega man 9 today, at last. then i watched the 21 minute speed run and felt bad about |  myself.\n",
      "beat mega man 9 today, at last. then i watched the 21 minute speed run and felt bad about |  the first time.\n",
      "\n",
      "--- sample 7 (idx=20530) ---\n",
      "just back from getting sarah's immunisation 's sarah final one no more fainting on |  me okay\n",
      "just back from getting sarah's immunisation 's sarah final one no more fainting on |  the way home\n",
      "\n",
      "--- sample 8 (idx=9928) ---\n",
      "i think we only get a handful of these in new york every year, so i will be outside |  soaking it up until further notice.\n",
      "i think we only get a handful of these in new york every year, so i will be outside | .\n",
      "\n",
      "--- sample 9 (idx=35129) ---\n",
      "you are a crazy boy i'm not getting 3gs cannot upgrade for free till december and would cost |  too much to buy out contract\n",
      "you are a crazy boy i'm not getting 3gs cannot upgrade for free till december and would cost | a to buy me a new one\n",
      "\n",
      "--- sample 10 (idx=23454) ---\n",
      "tyson docu is cool, watching on megavideo sucks tho. after 70 or so minutes it |  will want me to pay\n",
      "tyson docu is cool, watching on megavideo sucks tho. after 70 or so minutes it | 's a good thing\n",
      "\n",
      "\n",
      "[Примеры размер контекста = 28]\n",
      "--- sample 1 (idx=4956) ---\n",
      "going to have such busy day amp hope get 2 enjoy some of this lovely sun parents coming w end 4 3 weeks,oh joy,cle | aning 2 b2 done\n",
      "going to have such busy day amp hope get 2 enjoy some of this lovely sun parents coming w end 4 3 weeks,oh joy,cle | aning, and then off to the gym\n",
      "\n",
      "--- sample 2 (idx=6396) ---\n",
      "i'm alright it hurts horribly so now i'm waiting for my pharmacy to give me my pain meds. hospital says it's a bad |  sprain\n",
      "i'm alright it hurts horribly so now i'm waiting for my pharmacy to give me my pain meds. hospital says it's a bad |  day\n",
      "\n",
      "--- sample 3 (idx=3753) ---\n",
      "so i am bored an on the computer and googling my gmail handle joellester and i find you. sorry for taking your |  name.\n",
      "so i am bored an on the computer and googling my gmail handle joellester and i find you. sorry for taking your | space.\n",
      "\n",
      "--- sample 4 (idx=7145) ---\n",
      "is going to bed, leaving for cape cod early in the morning until monday woot woot i'll have internet though so i'll |  be on here\n",
      "is going to bed, leaving for cape cod early in the morning until monday woot woot i'll have internet though so i'll |  be back later\n",
      "\n",
      "--- sample 5 (idx=8808) ---\n",
      "twitter announcment we will be down for one hour of planned maintenance starting at 8p pacific friday. 1pm today syd | ney time\n",
      "twitter announcment we will be down for one hour of planned maintenance starting at 8p pacific friday. 1pm today syd | \n",
      "\n",
      "--- sample 6 (idx=13259) ---\n",
      "ahh man isn't working, so i cant update with the four guides i have later i guess. miley's going to the aids |  event today\n",
      "ahh man isn't working, so i cant update with the four guides i have later i guess. miley's going to the aids | \n",
      "\n",
      "--- sample 7 (idx=12340) ---\n",
      "i hope so. in the initial instructions i specified i wanted cute, pretty, girly. and she used gray, dark yellow and te | al blue.\n",
      "i hope so. in the initial instructions i specified i wanted cute, pretty, girly. and she used gray, dark yellow and te | h.\n",
      "\n",
      "--- sample 8 (idx=4792) ---\n",
      "cabo wabo's got nothing on dj 1942 or jc reserva de la familia or don fernando.anejo, |  of course\n",
      "cabo wabo's got nothing on dj 1942 or jc reserva de la familia or don fernando.anejo, |  i'm not sure if i can afford it\n",
      "\n",
      "--- sample 9 (idx=512) ---\n",
      "sing to the tune of mousekeeters what's the worst day of the week that gets all depressed m o n d a y s u |  c k s\n",
      "sing to the tune of mousekeeters what's the worst day of the week that gets all depressed m o n d a y s u | \n",
      "\n",
      "--- sample 10 (idx=5699) ---\n",
      "sunny saturday morning. it's getting a fine day. am a bit tired. but i'm looking forward for bad boy bill this |  night in m nster.\n",
      "sunny saturday morning. it's getting a fine day. am a bit tired. but i'm looking forward for bad boy bill this |  week.\n",
      "\n",
      "[ROUGE-L@epoch 109] K=1: 0.0718 (n=152639) | K=7: 0.0674 (n=127042) | K=21: 0.0668 (n=42923) | K=28: 0.0743 (n=15555)\n"
     ]
    },
    {
     "name": "stderr",
     "output_type": "stream",
     "text": [
      "Epoch 110: 100%|██████████| 2576/2576 [01:32<00:00, 27.83batch/s]\n"
     ]
    },
    {
     "name": "stdout",
     "output_type": "stream",
     "text": [
      "train loss: 4.3749 | valid loss: 4.4913 | ppl: 89.24 | acc@1: 0.2429 | acc@5: 0.4559\n"
     ]
    },
    {
     "name": "stderr",
     "output_type": "stream",
     "text": [
      "Epoch 111: 100%|██████████| 2576/2576 [01:32<00:00, 27.73batch/s]\n"
     ]
    },
    {
     "name": "stdout",
     "output_type": "stream",
     "text": [
      "train loss: 4.3733 | valid loss: 4.4914 | ppl: 89.24 | acc@1: 0.2433 | acc@5: 0.4562\n"
     ]
    },
    {
     "name": "stderr",
     "output_type": "stream",
     "text": [
      "Epoch 112: 100%|██████████| 2576/2576 [01:32<00:00, 27.97batch/s]\n"
     ]
    },
    {
     "name": "stdout",
     "output_type": "stream",
     "text": [
      "train loss: 4.3743 | valid loss: 4.4912 | ppl: 89.23 | acc@1: 0.2429 | acc@5: 0.4560\n"
     ]
    },
    {
     "name": "stderr",
     "output_type": "stream",
     "text": [
      "Epoch 113: 100%|██████████| 2576/2576 [01:31<00:00, 28.11batch/s]\n"
     ]
    },
    {
     "name": "stdout",
     "output_type": "stream",
     "text": [
      "train loss: 4.3741 | valid loss: 4.4909 | ppl: 89.20 | acc@1: 0.2432 | acc@5: 0.4560\n"
     ]
    },
    {
     "name": "stderr",
     "output_type": "stream",
     "text": [
      "Epoch 114: 100%|██████████| 2576/2576 [01:32<00:00, 27.92batch/s]\n"
     ]
    },
    {
     "name": "stdout",
     "output_type": "stream",
     "text": [
      "train loss: 4.3736 | valid loss: 4.4910 | ppl: 89.21 | acc@1: 0.2426 | acc@5: 0.4559\n"
     ]
    },
    {
     "name": "stderr",
     "output_type": "stream",
     "text": [
      "Epoch 115: 100%|██████████| 2576/2576 [01:32<00:00, 27.99batch/s]\n"
     ]
    },
    {
     "name": "stdout",
     "output_type": "stream",
     "text": [
      "train loss: 4.3727 | valid loss: 4.4917 | ppl: 89.27 | acc@1: 0.2430 | acc@5: 0.4556\n"
     ]
    },
    {
     "name": "stderr",
     "output_type": "stream",
     "text": [
      "Epoch 116: 100%|██████████| 2576/2576 [01:32<00:00, 27.97batch/s]\n"
     ]
    },
    {
     "name": "stdout",
     "output_type": "stream",
     "text": [
      "train loss: 4.3738 | valid loss: 4.4917 | ppl: 89.27 | acc@1: 0.2429 | acc@5: 0.4559\n"
     ]
    },
    {
     "name": "stderr",
     "output_type": "stream",
     "text": [
      "Epoch 117: 100%|██████████| 2576/2576 [01:32<00:00, 27.88batch/s]\n"
     ]
    },
    {
     "name": "stdout",
     "output_type": "stream",
     "text": [
      "train loss: 4.3737 | valid loss: 4.4914 | ppl: 89.25 | acc@1: 0.2426 | acc@5: 0.4558\n"
     ]
    },
    {
     "name": "stderr",
     "output_type": "stream",
     "text": [
      "Epoch 118: 100%|██████████| 2576/2576 [01:32<00:00, 27.93batch/s]\n"
     ]
    },
    {
     "name": "stdout",
     "output_type": "stream",
     "text": [
      "train loss: 4.3741 | valid loss: 4.4911 | ppl: 89.22 | acc@1: 0.2431 | acc@5: 0.4560\n"
     ]
    },
    {
     "name": "stderr",
     "output_type": "stream",
     "text": [
      "Epoch 119: 100%|██████████| 2576/2576 [01:31<00:00, 28.03batch/s]\n"
     ]
    },
    {
     "name": "stdout",
     "output_type": "stream",
     "text": [
      "train loss: 4.3742 | valid loss: 4.4909 | ppl: 89.20 | acc@1: 0.2432 | acc@5: 0.4561\n",
      "\n",
      "[Примеры размер контекста = 1]\n",
      "--- sample 1 (idx=141558) ---\n",
      "hi | , thank you good news is no tumors amp no more bad disks. bad news they can only try to manage the pain. i'm very sad.\n",
      "hi | , i'm sorry to hear that. i hope you feel better soon.\n",
      "\n",
      "--- sample 2 (idx=103074) ---\n",
      "lines |  vines and trying times jonas brothers album that came out today\n",
      "lines |  vines and trying times\n",
      "\n",
      "--- sample 3 (idx=13249) ---\n",
      "h | aha yeah a couple of guys from my church are performing but their leaving really early and i have no ride\n",
      "h | aha. i'm soo tired. i'm so tired.\n",
      "\n",
      "--- sample 4 (idx=94132) ---\n",
      "saw |  a diamondback turtle today live and in the shell on chincoteague island we helped save him .\n",
      "saw |  a movie with my mom and i was soo happy\n",
      "\n",
      "--- sample 5 (idx=89436) ---\n",
      "i |  have to get up verry early\n",
      "i | 'm soo tired. i'm so tired.\n",
      "\n",
      "--- sample 6 (idx=104655) ---\n",
      "three |  days until our holiday and hannah gets struck down with the flu. typical\n",
      "three |  days of school left\n",
      "\n",
      "--- sample 7 (idx=66163) ---\n",
      "will | 's house. i had a good day, and that's really all that mattered.\n",
      "will |  be back in a few hours\n",
      "\n",
      "--- sample 8 (idx=46191) ---\n",
      "f | inally home. i'm so tired.\n",
      "f | .\n",
      "\n",
      "--- sample 9 (idx=37727) ---\n",
      "well |  i'm new at twitter and my friends use facebook lonely.\n",
      "well | . i'm not sure if i'm going to be able to get it to work.\n",
      "\n",
      "--- sample 10 (idx=79235) ---\n",
      "just |  found out she's died now 23 years old so had a long life. miss her lots\n",
      "just |  got home from work. i'm so tired.\n",
      "\n",
      "\n",
      "[Примеры размер контекста = 7]\n",
      "--- sample 1 (idx=76536) ---\n",
      "crazy month do you often talk to |  randomers\n",
      "crazy month do you often talk to |  me\n",
      "\n",
      "--- sample 2 (idx=295) ---\n",
      "promise to never do that again | , pratically i'm sorry\n",
      "promise to never do that again | \n",
      "\n",
      "--- sample 3 (idx=56331) ---\n",
      "i hate the rain i hate the |  rain i hate the rain.\n",
      "i hate the rain i hate the |  rain\n",
      "\n",
      "--- sample 4 (idx=87954) ---\n",
      "happy birthday hope you have a good |  day\n",
      "happy birthday hope you have a good |  day\n",
      "\n",
      "--- sample 5 (idx=31692) ---\n",
      "mm . pancakes sounds like you could |  use some coffee too\n",
      "mm . pancakes sounds like you could |  be a little bit better\n",
      "\n",
      "--- sample 6 (idx=119675) ---\n",
      "we could change the test lab to |  be powered by bikes, that way you could still keep fit\n",
      "we could change the test lab to |  do it.\n",
      "\n",
      "--- sample 7 (idx=1005) ---\n",
      "i have a loaf of bread. | my favorite snack is bread and gravy. pass it on over, phantasmagoric one\n",
      "i have a loaf of bread. | \n",
      "\n",
      "--- sample 8 (idx=2101) ---\n",
      "math. mas gusto ko pa |  si mr ching eh.\n",
      "math. mas gusto ko pa | .\n",
      "\n",
      "--- sample 9 (idx=92286) ---\n",
      "nachdurstbild oh | , juno soundtrack\n",
      "nachdurstbild oh | , i'm soo tired.\n",
      "\n",
      "--- sample 10 (idx=49062) ---\n",
      "still really sick, my face is |  all swollen at one side\n",
      "still really sick, my face is |  killing me\n",
      "\n",
      "\n",
      "[Примеры размер контекста = 21]\n",
      "--- sample 1 (idx=38490) ---\n",
      "i've decided that i would like to move to charleston, sc but i don't think i | 'm getting too far with my husband with that idea\n",
      "i've decided that i would like to move to charleston, sc but i don't think i |  can afford it\n",
      "\n",
      "--- sample 2 (idx=33214) ---\n",
      "i'm just checking the net. of course it includes my multiply site and my friendster profile. so |  until here. 'till next time\n",
      "i'm just checking the net. of course it includes my multiply site and my friendster profile. so |  so so so so so so so so so so so so so so so so so so so so so so so so so so so so so so so so\n",
      "\n",
      "--- sample 3 (idx=31351) ---\n",
      "is off on his morning 7 mile walk, hope the rain stays away for 1hr 45min, i |  just hate coming home soggy have a great day all\n",
      "is off on his morning 7 mile walk, hope the rain stays away for 1hr 45min, i | 'm going to miss my baby\n",
      "\n",
      "--- sample 4 (idx=21760) ---\n",
      "good to hear it, i'm doing alright tonight myself, just watching cartoons and chillin' hah | aha\n",
      "good to hear it, i'm doing alright tonight myself, just watching cartoons and chillin' hah | aha\n",
      "\n",
      "--- sample 5 (idx=6529) ---\n",
      "well, the awareness campaign is maybe nr.1 issue. in order to attract people. but first |  i will have to learn more about it\n",
      "well, the awareness campaign is maybe nr.1 issue. in order to attract people. but first |  time in a while.\n",
      "\n",
      "--- sample 6 (idx=17833) ---\n",
      "got her classes yay. misses her babaay. oh hey jackie i wub u beast | ly woman hehehehe jaykay\n",
      "got her classes yay. misses her babaay. oh hey jackie i wub u beast | \n",
      "\n",
      "--- sample 7 (idx=37879) ---\n",
      "oh wow i clicked on your link out of interest and saw my name thx and media jobs in sa |  here\n",
      "oh wow i clicked on your link out of interest and saw my name thx and media jobs in sa | o\n",
      "\n",
      "--- sample 8 (idx=7876) ---\n",
      "new wallpapers on site tommy haas who won halle 2009 and magdalena rybar | ikova who won aegon classic\n",
      "new wallpapers on site tommy haas who won halle 2009 and magdalena rybar | \n",
      "\n",
      "--- sample 9 (idx=22883) ---\n",
      "all of my siblings are watching home alone at home while i'm in school. hoping our cwts |  teacher will dismiss us right away.\n",
      "all of my siblings are watching home alone at home while i'm in school. hoping our cwts |  are coming back soon\n",
      "\n",
      "--- sample 10 (idx=23334) ---\n",
      "waah imcleaningupmylaptopwithmyminivaccum. thespacebarisn | 'tworking. see . well, gudnyt. i should be up by 4am\n",
      "waah imcleaningupmylaptopwithmyminivaccum. thespacebarisn | \n",
      "\n",
      "\n",
      "[Примеры размер контекста = 28]\n",
      "--- sample 1 (idx=11840) ---\n",
      "oh so your palanning to go to boracay and. which part in mindanao. auntie patsee is already |  here kuya.\n",
      "oh so your palanning to go to boracay and. which part in mindanao. auntie patsee is already |  gone\n",
      "\n",
      "--- sample 2 (idx=8744) ---\n",
      "nah, mo and i were just exchanging numbers. i want to hear you stinking drunk and shouting obscenities in some hawaiian |  bar.\n",
      "nah, mo and i were just exchanging numbers. i want to hear you stinking drunk and shouting obscenities in some hawaiian | .\n",
      "\n",
      "--- sample 3 (idx=6917) ---\n",
      "because he made this one infront of me in a span of like 5 minutes, i made my daddy buy it for me i laav |  it.\n",
      "because he made this one infront of me in a span of like 5 minutes, i made my daddy buy it for me i laav | \n",
      "\n",
      "--- sample 4 (idx=12276) ---\n",
      "now u c y i b beasting for dem shyts lol i got mich up on it too but uhh what we eatt | in for lunch\n",
      "now u c y i b beasting for dem shyts lol i got mich up on it too but uhh what we eatt | \n",
      "\n",
      "--- sample 5 (idx=4398) ---\n",
      "ok well that's my last official day as a sabb is it full day event or can i come and partake in bits when i have |  time\n",
      "ok well that's my last official day as a sabb is it full day event or can i come and partake in bits when i have |  a good day\n",
      "\n",
      "--- sample 6 (idx=8138) ---\n",
      "man i'm layn n bed right now writtn new lyrics getting tired as hell man lol but gotta finish this track n my soon |  to b girl jeep calln\n",
      "man i'm layn n bed right now writtn new lyrics getting tired as hell man lol but gotta finish this track n my soon | \n",
      "\n",
      "--- sample 7 (idx=5748) ---\n",
      "sad the cavs couldn't win tonight but can't take it from orlando.they play with heart. oh well, there goes |  my lakers cavs final.\n",
      "sad the cavs couldn't win tonight but can't take it from orlando.they play with heart. oh well, there goes |  to the world\n",
      "\n",
      "--- sample 8 (idx=14618) ---\n",
      "oohh. di pwede ang calcu ko. sana walang computation sa boards haha. heniwei, got 73 |  100 in pharmacology final coaching. highest mehn\n",
      "oohh. di pwede ang calcu ko. sana walang computation sa boards haha. heniwei, got 73 | .\n",
      "\n",
      "--- sample 9 (idx=14619) ---\n",
      "hey babygirl, so good to see u on here i'm feeling a bit down lately but u always make me smile hope to see u |  in paris\n",
      "hey babygirl, so good to see u on here i'm feeling a bit down lately but u always make me smile hope to see u | mm\n",
      "\n",
      "--- sample 10 (idx=12854) ---\n",
      "i'm alone now. i miss you come back, my love . i am nothing without you here you are everything to me, and i |  love you so much .\n",
      "i'm alone now. i miss you come back, my love . i am nothing without you here you are everything to me, and i |  love you\n",
      "\n",
      "[ROUGE-L@epoch 119] K=1: 0.0720 (n=152639) | K=7: 0.0675 (n=127042) | K=21: 0.0674 (n=42923) | K=28: 0.0739 (n=15555)\n"
     ]
    },
    {
     "name": "stderr",
     "output_type": "stream",
     "text": [
      "Epoch 120: 100%|██████████| 2576/2576 [01:32<00:00, 27.83batch/s]\n"
     ]
    },
    {
     "name": "stdout",
     "output_type": "stream",
     "text": [
      "train loss: 4.3723 | valid loss: 4.4920 | ppl: 89.30 | acc@1: 0.2432 | acc@5: 0.4560\n"
     ]
    },
    {
     "name": "stderr",
     "output_type": "stream",
     "text": [
      "Epoch 121: 100%|██████████| 2576/2576 [01:31<00:00, 28.16batch/s]\n"
     ]
    },
    {
     "name": "stdout",
     "output_type": "stream",
     "text": [
      "train loss: 4.3723 | valid loss: 4.4919 | ppl: 89.29 | acc@1: 0.2430 | acc@5: 0.4561\n"
     ]
    },
    {
     "name": "stderr",
     "output_type": "stream",
     "text": [
      "Epoch 122: 100%|██████████| 2576/2576 [01:32<00:00, 27.98batch/s]\n"
     ]
    },
    {
     "name": "stdout",
     "output_type": "stream",
     "text": [
      "train loss: 4.3723 | valid loss: 4.4912 | ppl: 89.23 | acc@1: 0.2433 | acc@5: 0.4556\n"
     ]
    },
    {
     "name": "stderr",
     "output_type": "stream",
     "text": [
      "Epoch 123: 100%|██████████| 2576/2576 [01:32<00:00, 27.84batch/s]\n"
     ]
    },
    {
     "name": "stdout",
     "output_type": "stream",
     "text": [
      "train loss: 4.3730 | valid loss: 4.4917 | ppl: 89.27 | acc@1: 0.2431 | acc@5: 0.4556\n"
     ]
    },
    {
     "name": "stderr",
     "output_type": "stream",
     "text": [
      "Epoch 124: 100%|██████████| 2576/2576 [01:32<00:00, 27.98batch/s]\n"
     ]
    },
    {
     "name": "stdout",
     "output_type": "stream",
     "text": [
      "train loss: 4.3726 | valid loss: 4.4916 | ppl: 89.26 | acc@1: 0.2433 | acc@5: 0.4559\n"
     ]
    },
    {
     "name": "stderr",
     "output_type": "stream",
     "text": [
      "Epoch 125: 100%|██████████| 2576/2576 [01:31<00:00, 28.01batch/s]\n"
     ]
    },
    {
     "name": "stdout",
     "output_type": "stream",
     "text": [
      "train loss: 4.3721 | valid loss: 4.4914 | ppl: 89.24 | acc@1: 0.2432 | acc@5: 0.4559\n"
     ]
    },
    {
     "name": "stderr",
     "output_type": "stream",
     "text": [
      "Epoch 126: 100%|██████████| 2576/2576 [01:32<00:00, 27.94batch/s]\n"
     ]
    },
    {
     "name": "stdout",
     "output_type": "stream",
     "text": [
      "train loss: 4.3728 | valid loss: 4.4915 | ppl: 89.25 | acc@1: 0.2428 | acc@5: 0.4558\n"
     ]
    },
    {
     "name": "stderr",
     "output_type": "stream",
     "text": [
      "Epoch 127: 100%|██████████| 2576/2576 [01:32<00:00, 27.94batch/s]\n"
     ]
    },
    {
     "name": "stdout",
     "output_type": "stream",
     "text": [
      "train loss: 4.3719 | valid loss: 4.4919 | ppl: 89.29 | acc@1: 0.2427 | acc@5: 0.4555\n"
     ]
    },
    {
     "name": "stderr",
     "output_type": "stream",
     "text": [
      "Epoch 128: 100%|██████████| 2576/2576 [01:31<00:00, 28.02batch/s]\n"
     ]
    },
    {
     "name": "stdout",
     "output_type": "stream",
     "text": [
      "train loss: 4.3718 | valid loss: 4.4910 | ppl: 89.21 | acc@1: 0.2425 | acc@5: 0.4554\n"
     ]
    },
    {
     "name": "stderr",
     "output_type": "stream",
     "text": [
      "Epoch 129: 100%|██████████| 2576/2576 [01:31<00:00, 28.02batch/s]\n"
     ]
    },
    {
     "name": "stdout",
     "output_type": "stream",
     "text": [
      "train loss: 4.3733 | valid loss: 4.4913 | ppl: 89.24 | acc@1: 0.2431 | acc@5: 0.4560\n",
      "\n",
      "[Примеры размер контекста = 1]\n",
      "--- sample 1 (idx=147570) ---\n",
      "sm | okin with babe.high as fuck.running to mcdees.yumm chicken nuggets\n",
      "sm | .\n",
      "\n",
      "--- sample 2 (idx=149520) ---\n",
      "tun | ing in now\n",
      "tun | ations, i'm going to bed. i'm going to bed. night night\n",
      "\n",
      "--- sample 3 (idx=87121) ---\n",
      "oh |  i know which one you're talking about. i didn't get that one, they didn't have it.\n",
      "oh | h i'm so sorry to hear that.\n",
      "\n",
      "--- sample 4 (idx=149566) ---\n",
      "consider | ing going to bed. maby. in a little while\n",
      "consider | ing i can't get my phone back.\n",
      "\n",
      "--- sample 5 (idx=6115) ---\n",
      "w | elcome to twitter and happy birthday. looking forward to reading your tweets. any relation to\n",
      "w | . i'm soo tired. i'm so tired.\n",
      "\n",
      "--- sample 6 (idx=82328) ---\n",
      "yeah |  cause every 1 5min i have to sneeze, so i have to walk with tissues, grr i get really tired of sneezing lol\n",
      "yeah |  i'm soo excited\n",
      "\n",
      "--- sample 7 (idx=79876) ---\n",
      "i |  am trying to download a 12mb file. it is going to take an hr. a 1.2mb file took well over 10 minutes, earlier.\n",
      "i | 'm soo tired. i'm so tired.\n",
      "\n",
      "--- sample 8 (idx=138982) ---\n",
      "i |  had b day on was awesome.thank you dd and kk\n",
      "i | 'm soo tired. i'm so tired.\n",
      "\n",
      "--- sample 9 (idx=108855) ---\n",
      "is |  in the car on my way to robbertsbridge with bekahh\n",
      "is |  going to bed. i'm so tired.\n",
      "\n",
      "--- sample 10 (idx=60218) ---\n",
      "kind |  of hard to explain in 140 chars it's like normal memory, but using your hard drive, so slower\n",
      "kind | a sad\n",
      "\n",
      "\n",
      "[Примеры размер контекста = 7]\n",
      "--- sample 1 (idx=103312) ---\n",
      "cant go yet just had call |  from dad so im on for a little while longer\n",
      "cant go yet just had call | .\n",
      "\n",
      "--- sample 2 (idx=73985) ---\n",
      "right on saturday.gonna |  take the kids to see quot up quot\n",
      "right on saturday.gonna |  be a long day\n",
      "\n",
      "--- sample 3 (idx=115984) ---\n",
      "photo eft did jerico got |  drunk too who s party was it looks like u guys had lots of fun\n",
      "photo eft did jerico got |  a new one\n",
      "\n",
      "--- sample 4 (idx=122309) ---\n",
      "back from timisoara. can |  i cry now\n",
      "back from timisoara. can | 't wait to see you in the morning\n",
      "\n",
      "--- sample 5 (idx=124004) ---\n",
      "i love gaga more then life |  itself\n",
      "i love gaga more then life |  is soo good\n",
      "\n",
      "--- sample 6 (idx=121297) ---\n",
      "texting. u wanna txt | . hit me up on dierect message get the digitz going to sleep soon. thinking wat else to write. missing gabbi n kathy\n",
      "texting. u wanna txt | \n",
      "\n",
      "--- sample 7 (idx=40469) ---\n",
      "no worries. i've never been |  one for heaps of sleep\n",
      "no worries. i've never been |  able to get a new phone.\n",
      "\n",
      "--- sample 8 (idx=39192) ---\n",
      "then erika and after that you | , no why edward, why '\n",
      "then erika and after that you |  are soo cute\n",
      "\n",
      "--- sample 9 (idx=109771) ---\n",
      "yup, great session indeed with |  and the rest of the sparkcomms team on friday. i shall try to get a late pass for next time\n",
      "yup, great session indeed with |  the new iphone.\n",
      "\n",
      "--- sample 10 (idx=106486) ---\n",
      "wah i wake up and i |  feel like a baby is on fire and is trying to punch its way outta my belly\n",
      "wah i wake up and i | 'm so tired\n",
      "\n",
      "\n",
      "[Примеры размер контекста = 21]\n",
      "--- sample 1 (idx=17411) ---\n",
      "i had to get a new phone and lost all my contacts. text me with your name, 850516 | 8524\n",
      "i had to get a new phone and lost all my contacts. text me with your name, 850516 |  is better\n",
      "\n",
      "--- sample 2 (idx=31984) ---\n",
      "is in netopia. just heard a little too not over and now crush playing here. uhm, |  there might be an archie fan here.\n",
      "is in netopia. just heard a little too not over and now crush playing here. uhm, |  i'm not sure.\n",
      "\n",
      "--- sample 3 (idx=20738) ---\n",
      "i didn't wake you up because you needed to sleep. is going to work. it's muggy |  outside. really bad.\n",
      "i didn't wake you up because you needed to sleep. is going to work. it's muggy | .\n",
      "\n",
      "--- sample 4 (idx=39359) ---\n",
      "luvd woodward east.sent both kids last summer. total fun and wrth the . wish i |  could send them this summer\n",
      "luvd woodward east.sent both kids last summer. total fun and wrth the . wish i |  had a chance to see it\n",
      "\n",
      "--- sample 5 (idx=22515) ---\n",
      "watching why did i get married an drinking rum. what is up with cali's weather i want my |  blanket\n",
      "watching why did i get married an drinking rum. what is up with cali's weather i want my | space back\n",
      "\n",
      "--- sample 6 (idx=25931) ---\n",
      "hey guys i am a big fan too just like my twin . lol. have a good day and wish | in' ya the best of luck xd\n",
      "hey guys i am a big fan too just like my twin . lol. have a good day and wish |  i could be there\n",
      "\n",
      "--- sample 7 (idx=9110) ---\n",
      "yes. i've watched the first episode so far and loved it love love love it. 2nd episode |  tonight.\n",
      "yes. i've watched the first episode so far and loved it love love love it. 2nd episode |  of the hills\n",
      "\n",
      "--- sample 8 (idx=12284) ---\n",
      "i lost it in the car. i think it went out of my pocket when i was going to school |  but i found it\n",
      "i lost it in the car. i think it went out of my pocket when i was going to school | .\n",
      "\n",
      "--- sample 9 (idx=29864) ---\n",
      "well i would love to hang out w you only problem is right now i don't have a car since |  i am just visitin\n",
      "well i would love to hang out w you only problem is right now i don't have a car since |  i'm in the office\n",
      "\n",
      "--- sample 10 (idx=14982) ---\n",
      "the new 'the audition' album is really awesome. had such a bludge w e shouldve done |  something more productive. have a new guitar riff\n",
      "the new 'the audition' album is really awesome. had such a bludge w e shouldve done | .\n",
      "\n",
      "\n",
      "[Примеры размер контекста = 28]\n",
      "--- sample 1 (idx=4810) ---\n",
      "rove uses power 4 good to make a sol trujillo pinyata 4 guests to bash . so wrong . he made tel tra |  even worse and took 30m offshore\n",
      "rove uses power 4 good to make a sol trujillo pinyata 4 guests to bash . so wrong . he made tel tra | x\n",
      "\n",
      "--- sample 2 (idx=10500) ---\n",
      "i do wish i was born in the 80s they seem much cooler. though my mom isn't that cool, she thinks david tenn | ant is ugly\n",
      "i do wish i was born in the 80s they seem much cooler. though my mom isn't that cool, she thinks david tenn |  is so cute\n",
      "\n",
      "--- sample 3 (idx=533) ---\n",
      "and i just missed it how can you say that about the tt's i have all their 12 quot remixes still kudos on the |  honesty sniff\n",
      "and i just missed it how can you say that about the tt's i have all their 12 quot remixes still kudos on the |  new album\n",
      "\n",
      "--- sample 4 (idx=11487) ---\n",
      "ahh, dude i didn't see this until i got home i gotsto come to big wangs now that i know you work |  there\n",
      "ahh, dude i didn't see this until i got home i gotsto come to big wangs now that i know you work | \n",
      "\n",
      "--- sample 5 (idx=12637) ---\n",
      "blahh you reminded me about my retainers. freaking a. my teeth shifted, but its not bad. its just not how it |  used to be\n",
      "blahh you reminded me about my retainers. freaking a. my teeth shifted, but its not bad. its just not how it |  is.\n",
      "\n",
      "--- sample 6 (idx=7322) ---\n",
      "i hope so, too. i don't hope that i'm not pregnant. what's done is done. i just hope i can get |  through this.\n",
      "i hope so, too. i don't hope that i'm not pregnant. what's done is done. i just hope i can get |  it done.\n",
      "\n",
      "--- sample 7 (idx=8311) ---\n",
      "yeah, yeah, that's what they all say takes out long needles out of bag now just relax, i am a trained acupunct | urist\n",
      "yeah, yeah, that's what they all say takes out long needles out of bag now just relax, i am a trained acupunct | ur.\n",
      "\n",
      "--- sample 8 (idx=14642) ---\n",
      "cool i just reconnected with one of the players from the hartford whalers on fb i used to babysit his daughter |  back in the day.\n",
      "cool i just reconnected with one of the players from the hartford whalers on fb i used to babysit his daughter | .\n",
      "\n",
      "--- sample 9 (idx=15285) ---\n",
      "bnp gains mep seat. 120k votes in yorkshire and humber. this is what happens when the rest of us don't |  vote\n",
      "bnp gains mep seat. 120k votes in yorkshire and humber. this is what happens when the rest of us don't |  have any\n",
      "\n",
      "--- sample 10 (idx=8786) ---\n",
      "back at ya, yeah you know i gotta check out the latest and greatest, but i keep it on the down low, ya know u |  r a punk\n",
      "back at ya, yeah you know i gotta check out the latest and greatest, but i keep it on the down low, ya know u | \n",
      "\n",
      "[ROUGE-L@epoch 129] K=1: 0.0707 (n=152639) | K=7: 0.0667 (n=127042) | K=21: 0.0664 (n=42923) | K=28: 0.0740 (n=15555)\n"
     ]
    },
    {
     "name": "stderr",
     "output_type": "stream",
     "text": [
      "Epoch 130: 100%|██████████| 2576/2576 [01:31<00:00, 28.02batch/s]\n"
     ]
    },
    {
     "name": "stdout",
     "output_type": "stream",
     "text": [
      "train loss: 4.3713 | valid loss: 4.4921 | ppl: 89.31 | acc@1: 0.2426 | acc@5: 0.4555\n"
     ]
    },
    {
     "name": "stderr",
     "output_type": "stream",
     "text": [
      "Epoch 131: 100%|██████████| 2576/2576 [01:32<00:00, 27.93batch/s]\n"
     ]
    },
    {
     "name": "stdout",
     "output_type": "stream",
     "text": [
      "train loss: 4.3718 | valid loss: 4.4925 | ppl: 89.34 | acc@1: 0.2434 | acc@5: 0.4559\n"
     ]
    },
    {
     "name": "stderr",
     "output_type": "stream",
     "text": [
      "Epoch 132: 100%|██████████| 2576/2576 [01:32<00:00, 27.93batch/s]\n"
     ]
    },
    {
     "name": "stdout",
     "output_type": "stream",
     "text": [
      "train loss: 4.3714 | valid loss: 4.4914 | ppl: 89.25 | acc@1: 0.2429 | acc@5: 0.4550\n"
     ]
    },
    {
     "name": "stderr",
     "output_type": "stream",
     "text": [
      "Epoch 133: 100%|██████████| 2576/2576 [01:32<00:00, 27.85batch/s]\n"
     ]
    },
    {
     "name": "stdout",
     "output_type": "stream",
     "text": [
      "train loss: 4.3729 | valid loss: 4.4913 | ppl: 89.24 | acc@1: 0.2427 | acc@5: 0.4554\n"
     ]
    },
    {
     "name": "stderr",
     "output_type": "stream",
     "text": [
      "Epoch 134: 100%|██████████| 2576/2576 [01:31<00:00, 28.02batch/s]\n"
     ]
    },
    {
     "name": "stdout",
     "output_type": "stream",
     "text": [
      "train loss: 4.3709 | valid loss: 4.4923 | ppl: 89.32 | acc@1: 0.2430 | acc@5: 0.4555\n"
     ]
    },
    {
     "name": "stderr",
     "output_type": "stream",
     "text": [
      "Epoch 135: 100%|██████████| 2576/2576 [01:31<00:00, 28.02batch/s]\n"
     ]
    },
    {
     "name": "stdout",
     "output_type": "stream",
     "text": [
      "train loss: 4.3709 | valid loss: 4.4914 | ppl: 89.25 | acc@1: 0.2428 | acc@5: 0.4558\n"
     ]
    },
    {
     "name": "stderr",
     "output_type": "stream",
     "text": [
      "Epoch 136: 100%|██████████| 2576/2576 [01:32<00:00, 27.76batch/s]\n"
     ]
    },
    {
     "name": "stdout",
     "output_type": "stream",
     "text": [
      "train loss: 4.3722 | valid loss: 4.4922 | ppl: 89.32 | acc@1: 0.2430 | acc@5: 0.4560\n"
     ]
    },
    {
     "name": "stderr",
     "output_type": "stream",
     "text": [
      "Epoch 137: 100%|██████████| 2576/2576 [01:32<00:00, 28.00batch/s]\n"
     ]
    },
    {
     "name": "stdout",
     "output_type": "stream",
     "text": [
      "train loss: 4.3713 | valid loss: 4.4920 | ppl: 89.30 | acc@1: 0.2427 | acc@5: 0.4561\n"
     ]
    },
    {
     "name": "stderr",
     "output_type": "stream",
     "text": [
      "Epoch 138: 100%|██████████| 2576/2576 [01:32<00:00, 27.91batch/s]\n"
     ]
    },
    {
     "name": "stdout",
     "output_type": "stream",
     "text": [
      "train loss: 4.3718 | valid loss: 4.4917 | ppl: 89.27 | acc@1: 0.2432 | acc@5: 0.4561\n"
     ]
    },
    {
     "name": "stderr",
     "output_type": "stream",
     "text": [
      "Epoch 139: 100%|██████████| 2576/2576 [01:32<00:00, 27.89batch/s]\n"
     ]
    },
    {
     "name": "stdout",
     "output_type": "stream",
     "text": [
      "train loss: 4.3715 | valid loss: 4.4921 | ppl: 89.31 | acc@1: 0.2429 | acc@5: 0.4555\n",
      "\n",
      "[Примеры размер контекста = 1]\n",
      "--- sample 1 (idx=140513) ---\n",
      "ch | illin home wit fam bam amp . nisha watchin quot taken quot soon as it over ill make up 4 tha 2 days of no replies\n",
      "ch | \n",
      "\n",
      "--- sample 2 (idx=59829) ---\n",
      "sorry |  i couldn't there for you today hope everything is better now\n",
      "sorry |  i couldn't make it to the show tonight.\n",
      "\n",
      "--- sample 3 (idx=79002) ---\n",
      "so |  many social networks to keep up with. i've been neglecting my twitter\n",
      "so | o tired. i'm so tired.\n",
      "\n",
      "--- sample 4 (idx=60353) ---\n",
      "ne | ither are pidgeons is that even how you spell it\n",
      "ne | quin\n",
      "\n",
      "--- sample 5 (idx=34699) ---\n",
      "google |  and gmail still down here in chengdu can access as before.\n",
      "google |  wave is awesome.\n",
      "\n",
      "--- sample 6 (idx=130712) ---\n",
      "i |  guess we'll just have to wait\n",
      "i | 'm soo tired. i'm so tired.\n",
      "\n",
      "--- sample 7 (idx=127206) ---\n",
      "hi |  ryan just saw your video a great and true one\n",
      "hi | , i'm sorry to hear that. i hope you feel better soon.\n",
      "\n",
      "--- sample 8 (idx=64267) ---\n",
      "g | aday everyone\n",
      "g | . i'm soo tired.\n",
      "\n",
      "--- sample 9 (idx=344) ---\n",
      "re |  life expectancy. yeah, whereas those we'd still very much love to see were already called long before the statistics age\n",
      "re | .\n",
      "\n",
      "--- sample 10 (idx=125304) ---\n",
      "ar | gh.that hurts\n",
      "ar | ghh\n",
      "\n",
      "\n",
      "[Примеры размер контекста = 7]\n",
      "--- sample 1 (idx=104380) ---\n",
      "im so jealous but i guess u |  guys are marriedd so its only normal u get a baby before me lol. u back home\n",
      "im so jealous but i guess u |  have to go to the beach\n",
      "\n",
      "--- sample 2 (idx=106187) ---\n",
      "off out braving it in the |  rain i want summer to come back soon.\n",
      "off out braving it in the |  house\n",
      "\n",
      "--- sample 3 (idx=53560) ---\n",
      "had an amazing night with josh |  . definitely made my day night way better, memories you can't replace\n",
      "had an amazing night with josh | .\n",
      "\n",
      "--- sample 4 (idx=53156) ---\n",
      "juss got done swimming. that |  was greatt. got my laps in n got a tan\n",
      "juss got done swimming. that | 's what i'm doing.\n",
      "\n",
      "--- sample 5 (idx=54079) ---\n",
      "tommorow chemistry test too |  bad.\n",
      "tommorow chemistry test too | \n",
      "\n",
      "--- sample 6 (idx=69131) ---\n",
      "im trying i did like 6 of |  them\n",
      "im trying i did like 6 of |  my friends. i'm soo tired.\n",
      "\n",
      "--- sample 7 (idx=85948) ---\n",
      "this book and also obj c and |  iphone dev of the same serie happy reading\n",
      "this book and also obj c and |  i'm not a fan of the new iphone.\n",
      "\n",
      "--- sample 8 (idx=6352) ---\n",
      "go fedex my camcorder |  left toledo around midnight. should arrive in grand rapids, then, my house.\n",
      "go fedex my camcorder |  is a new one\n",
      "\n",
      "--- sample 9 (idx=26361) ---\n",
      "i've been spoiled so far this |  week by having the car. now back to bus travel but thanks to exam and activity week there are no kids\n",
      "i've been spoiled so far this |  is the last day of school\n",
      "\n",
      "--- sample 10 (idx=80709) ---\n",
      "true, better off waiting for rain |  in your area then.\n",
      "true, better off waiting for rain | \n",
      "\n",
      "\n",
      "[Примеры размер контекста = 21]\n",
      "--- sample 1 (idx=21029) ---\n",
      "lol i know i feel like a bum but yea i couldn't sleep all the guys, their crew, |  n the band were tweeting hahhaa\n",
      "lol i know i feel like a bum but yea i couldn't sleep all the guys, their crew, |  i was soo tired.\n",
      "\n",
      "--- sample 2 (idx=38072) ---\n",
      "took the pup for a nice morning hike,down the old rr bed haven't been there in |  ages saw some really cool birds and wildflowers\n",
      "took the pup for a nice morning hike,down the old rr bed haven't been there in |  a while\n",
      "\n",
      "--- sample 3 (idx=37810) ---\n",
      "yep. quot pro lifers quot celebrating murder and killing just goes to show what a bunch of messed |  up people they really are. sick\n",
      "yep. quot pro lifers quot celebrating murder and killing just goes to show what a bunch of messed |  up\n",
      "\n",
      "--- sample 4 (idx=29126) ---\n",
      "is going to bed in a couple of minutes and is glad school is almost over lt 3 lt |  3 lt 3\n",
      "is going to bed in a couple of minutes and is glad school is almost over lt 3 lt |  lt lt lt lt lt lt lt lt lt lt lt lt lt lt lt lt\n",
      "\n",
      "--- sample 5 (idx=4979) ---\n",
      "hahaha add that's good tho. i'm back now.what we doin 2 nite |  i miss my courtney\n",
      "hahaha add that's good tho. i'm back now.what we doin 2 nite | \n",
      "\n",
      "--- sample 6 (idx=6798) ---\n",
      "oh no you poor thing you must have booked the tickets before you realised it was pat kenny's last |  night, gutted for you.\n",
      "oh no you poor thing you must have booked the tickets before you realised it was pat kenny's last |  night\n",
      "\n",
      "--- sample 7 (idx=1053) ---\n",
      "i did meet hubs here. we were joking yesterday, we've only known each other 2 years quality knowledge | , i told him\n",
      "i did meet hubs here. we were joking yesterday, we've only known each other 2 years quality knowledge | .\n",
      "\n",
      "--- sample 8 (idx=17312) ---\n",
      "hiya i totally think u and jennette mccrudy are great hope u tb |  soon xx\n",
      "hiya i totally think u and jennette mccrudy are great hope u tb | q\n",
      "\n",
      "--- sample 9 (idx=41983) ---\n",
      "okay, i'm down and out for the night. . this was great. a definite must do |  again\n",
      "okay, i'm down and out for the night. . this was great. a definite must do |  i have to go to work tomorrow\n",
      "\n",
      "--- sample 10 (idx=29043) ---\n",
      "well, it was more them laughing with me. even i knew there was something desperate and goofy about eating |  beans from a can\n",
      "well, it was more them laughing with me. even i knew there was something desperate and goofy about eating | .\n",
      "\n",
      "\n",
      "[Примеры размер контекста = 28]\n",
      "--- sample 1 (idx=14529) ---\n",
      "my mom is on the macbook so now i have to use a ubuntu live cd in my laptop with a keybord and 2 |  hard drives that are kaput\n",
      "my mom is on the macbook so now i have to use a ubuntu live cd in my laptop with a keybord and 2 | \n",
      "\n",
      "--- sample 2 (idx=1488) ---\n",
      "thnx im excited working for the county of bernardino soo we're drinking soon lol. and ya some ppl are |  just lames\n",
      "thnx im excited working for the county of bernardino soo we're drinking soon lol. and ya some ppl are |  you\n",
      "\n",
      "--- sample 3 (idx=11023) ---\n",
      "i took the photo down because it was a moment in time i needed to share. need to make sure it is okay with them to post |  it again.\n",
      "i took the photo down because it was a moment in time i needed to share. need to make sure it is okay with them to post | \n",
      "\n",
      "--- sample 4 (idx=13207) ---\n",
      "moved into the new apartment this weekend amazing. now back to work.and swamped. greeaat. sorry tweeters, |  not many tweets today i fear\n",
      "moved into the new apartment this weekend amazing. now back to work.and swamped. greeaat. sorry tweeters, |  i'm not sure.\n",
      "\n",
      "--- sample 5 (idx=980) ---\n",
      "omg i mixed ur bday up w my homegirls. i thght ur bday was sat. i'm sorry happy b | day come2my store so i can get u smthng\n",
      "omg i mixed ur bday up w my homegirls. i thght ur bday was sat. i'm sorry happy b | \n",
      "\n",
      "--- sample 6 (idx=14257) ---\n",
      "yep, that was bolebroke. certainly fascinating, if a little uneventful and no, i'm not keen on trance |  mediumship either\n",
      "yep, that was bolebroke. certainly fascinating, if a little uneventful and no, i'm not keen on trance | .\n",
      "\n",
      "--- sample 7 (idx=2620) ---\n",
      "i was in bg. end of month m going to greece. i almost exploded a couple of times.soo muuch |  kozunaak how r you\n",
      "i was in bg. end of month m going to greece. i almost exploded a couple of times.soo muuch | \n",
      "\n",
      "--- sample 8 (idx=13932) ---\n",
      ".this is why conversations have been taken into chat rooms, aim, skype, chatroll, tinychat, whatever mechanism works for you | .\n",
      ".this is why conversations have been taken into chat rooms, aim, skype, chatroll, tinychat, whatever mechanism works for you |  can't\n",
      "\n",
      "--- sample 9 (idx=6452) ---\n",
      "today is the day can t wait to see you jacqui can t stop singing lady gaga s poker face. it s addictive x | d. last day of school today\n",
      "today is the day can t wait to see you jacqui can t stop singing lady gaga s poker face. it s addictive x | \n",
      "\n",
      "--- sample 10 (idx=2051) ---\n",
      "hahaha yea you spotted me before i saw you amp amp said hi. were you drunk i see how it is forgettin bout me |  amp amp shit haha\n",
      "hahaha yea you spotted me before i saw you amp amp said hi. were you drunk i see how it is forgettin bout me | \n",
      "\n",
      "[ROUGE-L@epoch 139] K=1: 0.0738 (n=152639) | K=7: 0.0667 (n=127042) | K=21: 0.0667 (n=42923) | K=28: 0.0739 (n=15555)\n"
     ]
    },
    {
     "name": "stderr",
     "output_type": "stream",
     "text": [
      "Epoch 140: 100%|██████████| 2576/2576 [01:32<00:00, 27.93batch/s]\n"
     ]
    },
    {
     "name": "stdout",
     "output_type": "stream",
     "text": [
      "train loss: 4.3711 | valid loss: 4.4916 | ppl: 89.26 | acc@1: 0.2428 | acc@5: 0.4558\n"
     ]
    },
    {
     "name": "stderr",
     "output_type": "stream",
     "text": [
      "Epoch 141: 100%|██████████| 2576/2576 [01:31<00:00, 28.03batch/s]\n"
     ]
    },
    {
     "name": "stdout",
     "output_type": "stream",
     "text": [
      "train loss: 4.3712 | valid loss: 4.4915 | ppl: 89.26 | acc@1: 0.2434 | acc@5: 0.4558\n"
     ]
    },
    {
     "name": "stderr",
     "output_type": "stream",
     "text": [
      "Epoch 142: 100%|██████████| 2576/2576 [01:32<00:00, 27.97batch/s]\n"
     ]
    },
    {
     "name": "stdout",
     "output_type": "stream",
     "text": [
      "train loss: 4.3703 | valid loss: 4.4921 | ppl: 89.31 | acc@1: 0.2432 | acc@5: 0.4556\n"
     ]
    },
    {
     "name": "stderr",
     "output_type": "stream",
     "text": [
      "Epoch 143: 100%|██████████| 2576/2576 [01:32<00:00, 28.00batch/s]\n"
     ]
    },
    {
     "name": "stdout",
     "output_type": "stream",
     "text": [
      "train loss: 4.3701 | valid loss: 4.4917 | ppl: 89.27 | acc@1: 0.2432 | acc@5: 0.4556\n"
     ]
    },
    {
     "name": "stderr",
     "output_type": "stream",
     "text": [
      "Epoch 144: 100%|██████████| 2576/2576 [01:32<00:00, 27.86batch/s]\n"
     ]
    },
    {
     "name": "stdout",
     "output_type": "stream",
     "text": [
      "train loss: 4.3703 | valid loss: 4.4917 | ppl: 89.28 | acc@1: 0.2433 | acc@5: 0.4563\n"
     ]
    },
    {
     "name": "stderr",
     "output_type": "stream",
     "text": [
      "Epoch 145: 100%|██████████| 2576/2576 [01:31<00:00, 28.06batch/s]\n"
     ]
    },
    {
     "name": "stdout",
     "output_type": "stream",
     "text": [
      "train loss: 4.3704 | valid loss: 4.4920 | ppl: 89.30 | acc@1: 0.2433 | acc@5: 0.4560\n"
     ]
    },
    {
     "name": "stderr",
     "output_type": "stream",
     "text": [
      "Epoch 146: 100%|██████████| 2576/2576 [01:32<00:00, 27.92batch/s]\n"
     ]
    },
    {
     "name": "stdout",
     "output_type": "stream",
     "text": [
      "train loss: 4.3697 | valid loss: 4.4926 | ppl: 89.35 | acc@1: 0.2426 | acc@5: 0.4562\n"
     ]
    },
    {
     "name": "stderr",
     "output_type": "stream",
     "text": [
      "Epoch 147: 100%|██████████| 2576/2576 [01:31<00:00, 28.06batch/s]\n"
     ]
    },
    {
     "name": "stdout",
     "output_type": "stream",
     "text": [
      "train loss: 4.3700 | valid loss: 4.4919 | ppl: 89.29 | acc@1: 0.2432 | acc@5: 0.4559\n"
     ]
    },
    {
     "name": "stderr",
     "output_type": "stream",
     "text": [
      "Epoch 148: 100%|██████████| 2576/2576 [01:32<00:00, 27.98batch/s]\n"
     ]
    },
    {
     "name": "stdout",
     "output_type": "stream",
     "text": [
      "train loss: 4.3702 | valid loss: 4.4916 | ppl: 89.26 | acc@1: 0.2426 | acc@5: 0.4559\n"
     ]
    },
    {
     "name": "stderr",
     "output_type": "stream",
     "text": [
      "Epoch 149: 100%|██████████| 2576/2576 [01:32<00:00, 27.72batch/s]\n"
     ]
    },
    {
     "name": "stdout",
     "output_type": "stream",
     "text": [
      "train loss: 4.3696 | valid loss: 4.4924 | ppl: 89.34 | acc@1: 0.2429 | acc@5: 0.4555\n",
      "\n",
      "[Примеры размер контекста = 1]\n",
      "--- sample 1 (idx=59690) ---\n",
      "it |  is a total tease. the new pixar film, 'up', doesn't come out until september here.\n",
      "it | 's a beautiful day\n",
      "\n",
      "--- sample 2 (idx=69164) ---\n",
      "y | ay i can tweet again.twitter had me on punishment yall\n",
      "y | \n",
      "\n",
      "--- sample 3 (idx=2963) ---\n",
      "i |  hate being sick i don't even know how to analyse the damn caretaker because i feel like death\n",
      "i | 'm soo tired. i'm so tired.\n",
      "\n",
      "--- sample 4 (idx=64208) ---\n",
      "lol |  i forgot you were on japan time and was wondering why you were having soundcheck at 3am\n",
      "lol |  i'm soo tired. i'm so tired.\n",
      "\n",
      "--- sample 5 (idx=62083) ---\n",
      "aw | w i want the puppy back\n",
      "aw | w i'm sorry to hear that.\n",
      "\n",
      "--- sample 6 (idx=96368) ---\n",
      "in |  mii twiggas.still excited bout the lakers win. mii favorite is comin today ii love the bestie. lt gt\n",
      "in | ' the day.\n",
      "\n",
      "--- sample 7 (idx=61430) ---\n",
      "cre | ci con cartoon network\n",
      "cre | epy\n",
      "\n",
      "--- sample 8 (idx=127087) ---\n",
      "te | a is the only proper option, coffee is for the unfashionable masses\n",
      "te | e\n",
      "\n",
      "--- sample 9 (idx=122755) ---\n",
      "pro | lly not till i get moved\n",
      "pro | s.\n",
      "\n",
      "--- sample 10 (idx=44137) ---\n",
      "so |  i really need to put the laptop down amp start getting ready for shindig.but i've missed my twitterloves all day\n",
      "so | o tired. i'm so tired.\n",
      "\n",
      "\n",
      "[Примеры размер контекста = 7]\n",
      "--- sample 1 (idx=118182) ---\n",
      "aain nao me fale |  em comida\n",
      "aain nao me fale | \n",
      "\n",
      "--- sample 2 (idx=51419) ---\n",
      "what a piece of work is man | . enjoying pride but i'm saddened by the news from iran.\n",
      "what a piece of work is man | \n",
      "\n",
      "--- sample 3 (idx=117629) ---\n",
      "but of course, that was the |  whole idea\n",
      "but of course, that was the |  worst part of the day.\n",
      "\n",
      "--- sample 4 (idx=55426) ---\n",
      "really .cool. seems like the | res alot of ziplines in davao. hope to have that here in camsur too\n",
      "really .cool. seems like the |  best of luck.\n",
      "\n",
      "--- sample 5 (idx=75841) ---\n",
      "waking up. the fig is |  really bad this morning, can't see out of the window. back at the new shop today. only only 3 days until london\n",
      "waking up. the fig is |  not working.\n",
      "\n",
      "--- sample 6 (idx=27297) ---\n",
      "well i got to see you a |  little bit today you even wanted to be on my team and we we won lol thats awesome\n",
      "well i got to see you a | ussie tour\n",
      "\n",
      "--- sample 7 (idx=5288) ---\n",
      "i feel that esp when you know |  u aint done the wrong lt 3 u\n",
      "i feel that esp when you know |  what i'm doing.\n",
      "\n",
      "--- sample 8 (idx=52292) ---\n",
      "no apologies needed, silly. its |  a wacky problem and i appreciate your input. plus, its just nice to see ya\n",
      "no apologies needed, silly. its |  not a good thing to do.\n",
      "\n",
      "--- sample 9 (idx=35962) ---\n",
      "hmm the amazon links won | 't work for me and i have to pay for the itunes ones thanks anyways\n",
      "hmm the amazon links won | 't work\n",
      "\n",
      "--- sample 10 (idx=81144) ---\n",
      "paulo nutini candy gl | asgow boy made good\n",
      "paulo nutini candy gl | as.\n",
      "\n",
      "\n",
      "[Примеры размер контекста = 21]\n",
      "--- sample 1 (idx=34476) ---\n",
      "my nephew came into this world at 6lbs 10oun . . . his name is ari and i |  love love love him\n",
      "my nephew came into this world at 6lbs 10oun . . . his name is ari and i |  love him\n",
      "\n",
      "--- sample 2 (idx=34294) ---\n",
      "called in t0 w0rk. feelin t00 sick just t00k sum meds | . b0red and tired 0f sleeping guess i'll get 0n tha cpu amp l00k f0r a 2nd j0b.\n",
      "called in t0 w0rk. feelin t00 sick just t00k sum meds | \n",
      "\n",
      "--- sample 3 (idx=6774) ---\n",
      "even though i was just saw you like 10 hours ago, i miss you soo much already. uh |  oh. the aftermath of the concert begins.\n",
      "even though i was just saw you like 10 hours ago, i miss you soo much already. uh | .\n",
      "\n",
      "--- sample 4 (idx=38305) ---\n",
      "think im an insomniac, i just cant sleep. birthday in 5 days. oh yay | .\n",
      "think im an insomniac, i just cant sleep. birthday in 5 days. oh yay | \n",
      "\n",
      "--- sample 5 (idx=4716) ---\n",
      "i am bored. i guess i'mma go somewhere and do stuff and not be bored. like some |  sort of video game\n",
      "i am bored. i guess i'mma go somewhere and do stuff and not be bored. like some |  of my friends.\n",
      "\n",
      "--- sample 6 (idx=24414) ---\n",
      "not allowed to go to any party today mummy won't let me due to the stupid exams, argh | h\n",
      "not allowed to go to any party today mummy won't let me due to the stupid exams, argh | ghghghghghghghghghghghghghghghghghghghghghghghghghghghghghghghgh\n",
      "\n",
      "--- sample 7 (idx=14795) ---\n",
      "already ordered some this morning the kids and i are going on a pilly right now if you get |  this\n",
      "already ordered some this morning the kids and i are going on a pilly right now if you get | tin it\n",
      "\n",
      "--- sample 8 (idx=4554) ---\n",
      "also, i cooked the food i ate. hooray for the ability to stand up for 5min |  stretches w out needing to vomit\n",
      "also, i cooked the food i ate. hooray for the ability to stand up for 5min | .\n",
      "\n",
      "--- sample 9 (idx=16594) ---\n",
      "what did you get my day is alright. haven't done anything yet. leaving soon to my stepsister |  though\n",
      "what did you get my day is alright. haven't done anything yet. leaving soon to my stepsister | \n",
      "\n",
      "--- sample 10 (idx=17735) ---\n",
      "who's the out of place city boy in nice jeans and a fitted button down hiking up a mountain in |  alaska .me bbrriitch\n",
      "who's the out of place city boy in nice jeans and a fitted button down hiking up a mountain in |  the sun\n",
      "\n",
      "\n",
      "[Примеры размер контекста = 28]\n",
      "--- sample 1 (idx=13627) ---\n",
      "i'm off to work it's difficult to leave your child at home with a 103 temp, sore throat, cough and an ear infection in |  sweltering temps\n",
      "i'm off to work it's difficult to leave your child at home with a 103 temp, sore throat, cough and an ear infection in |  the morning\n",
      "\n",
      "--- sample 2 (idx=3763) ---\n",
      "so there aren't anymore exams, but there is only 3 days left. i've just now relized this is a bad thing. and |  a good thing. i dont know.\n",
      "so there aren't anymore exams, but there is only 3 days left. i've just now relized this is a bad thing. and |  i'm not a fan of the new moon trailer\n",
      "\n",
      "--- sample 3 (idx=4923) ---\n",
      "cherche chambre individuel dans colocation sympa 75 paris me contacter jf 22 ans, sympa, |  .\n",
      "cherche chambre individuel dans colocation sympa 75 paris me contacter jf 22 ans, sympa, |  katie, and katie\n",
      "\n",
      "--- sample 4 (idx=5152) ---\n",
      "haha, thanks but it's not so awesome at all i tjink living in uk is awesome where city do you live b | tw\n",
      "haha, thanks but it's not so awesome at all i tjink living in uk is awesome where city do you live b | \n",
      "\n",
      "--- sample 5 (idx=11392) ---\n",
      "web designer turned computer repair man today. surrounded by other peoples pcs, ram, hds and the like. all for a good cause |  though\n",
      "web designer turned computer repair man today. surrounded by other peoples pcs, ram, hds and the like. all for a good cause |  i'm not a fan\n",
      "\n",
      "--- sample 6 (idx=1651) ---\n",
      "it means you don't take a path someone else has taken before. but yes, your path will become the new quot least traveled quot one | .\n",
      "it means you don't take a path someone else has taken before. but yes, your path will become the new quot least traveled quot one | .\n",
      "\n",
      "--- sample 7 (idx=356) ---\n",
      "ahh i'm so jealous, i have 200 pages to go i have to stop reading to re do macbeth questions i failed. |  have a science quiz too\n",
      "ahh i'm so jealous, i have 200 pages to go i have to stop reading to re do macbeth questions i failed. | \n",
      "\n",
      "--- sample 8 (idx=3448) ---\n",
      "just hit 100 followers but i don't think some of my female followers are what i'd call 'wholesome' they seem to want |  more than my mind\n",
      "just hit 100 followers but i don't think some of my female followers are what i'd call 'wholesome' they seem to want |  to be a fan\n",
      "\n",
      "--- sample 9 (idx=6256) ---\n",
      "on the same note i was sure 3.0 was to be released on the 16th so i waited for it yesterday till i did a |  search on release day.\n",
      "on the same note i was sure 3.0 was to be released on the 16th so i waited for it yesterday till i did a | hh\n",
      "\n",
      "--- sample 10 (idx=4901) ---\n",
      "dont understand how i got relatively high marks in 2 essays, but the feedback says it was shit that doesnt bode well for full time |  work\n",
      "dont understand how i got relatively high marks in 2 essays, but the feedback says it was shit that doesnt bode well for full time | \n",
      "\n",
      "[ROUGE-L@epoch 149] K=1: 0.0724 (n=152639) | K=7: 0.0674 (n=127042) | K=21: 0.0671 (n=42923) | K=28: 0.0741 (n=15555)\n"
     ]
    },
    {
     "name": "stderr",
     "output_type": "stream",
     "text": [
      "Epoch 150: 100%|██████████| 2576/2576 [01:32<00:00, 27.97batch/s]\n"
     ]
    },
    {
     "name": "stdout",
     "output_type": "stream",
     "text": [
      "train loss: 4.3692 | valid loss: 4.4926 | ppl: 89.35 | acc@1: 0.2427 | acc@5: 0.4557\n"
     ]
    },
    {
     "name": "stderr",
     "output_type": "stream",
     "text": [
      "Epoch 151: 100%|██████████| 2576/2576 [01:32<00:00, 27.81batch/s]\n"
     ]
    },
    {
     "name": "stdout",
     "output_type": "stream",
     "text": [
      "train loss: 4.3692 | valid loss: 4.4923 | ppl: 89.33 | acc@1: 0.2430 | acc@5: 0.4557\n"
     ]
    },
    {
     "name": "stderr",
     "output_type": "stream",
     "text": [
      "Epoch 152: 100%|██████████| 2576/2576 [01:32<00:00, 27.95batch/s]\n"
     ]
    },
    {
     "name": "stdout",
     "output_type": "stream",
     "text": [
      "train loss: 4.3688 | valid loss: 4.4920 | ppl: 89.30 | acc@1: 0.2432 | acc@5: 0.4559\n"
     ]
    },
    {
     "name": "stderr",
     "output_type": "stream",
     "text": [
      "Epoch 153: 100%|██████████| 2576/2576 [01:32<00:00, 27.96batch/s]\n"
     ]
    },
    {
     "name": "stdout",
     "output_type": "stream",
     "text": [
      "train loss: 4.3691 | valid loss: 4.4924 | ppl: 89.33 | acc@1: 0.2430 | acc@5: 0.4556\n"
     ]
    },
    {
     "name": "stderr",
     "output_type": "stream",
     "text": [
      "Epoch 154: 100%|██████████| 2576/2576 [01:32<00:00, 27.93batch/s]\n"
     ]
    },
    {
     "name": "stdout",
     "output_type": "stream",
     "text": [
      "train loss: 4.3685 | valid loss: 4.4919 | ppl: 89.29 | acc@1: 0.2431 | acc@5: 0.4560\n"
     ]
    },
    {
     "name": "stderr",
     "output_type": "stream",
     "text": [
      "Epoch 155: 100%|██████████| 2576/2576 [01:32<00:00, 27.89batch/s]\n"
     ]
    },
    {
     "name": "stdout",
     "output_type": "stream",
     "text": [
      "train loss: 4.3685 | valid loss: 4.4924 | ppl: 89.34 | acc@1: 0.2430 | acc@5: 0.4559\n"
     ]
    },
    {
     "name": "stderr",
     "output_type": "stream",
     "text": [
      "Epoch 156: 100%|██████████| 2576/2576 [01:32<00:00, 27.90batch/s]\n"
     ]
    },
    {
     "name": "stdout",
     "output_type": "stream",
     "text": [
      "train loss: 4.3688 | valid loss: 4.4924 | ppl: 89.33 | acc@1: 0.2432 | acc@5: 0.4556\n"
     ]
    },
    {
     "name": "stderr",
     "output_type": "stream",
     "text": [
      "Epoch 157: 100%|██████████| 2576/2576 [01:32<00:00, 27.96batch/s]\n"
     ]
    },
    {
     "name": "stdout",
     "output_type": "stream",
     "text": [
      "train loss: 4.3689 | valid loss: 4.4921 | ppl: 89.31 | acc@1: 0.2429 | acc@5: 0.4558\n"
     ]
    },
    {
     "name": "stderr",
     "output_type": "stream",
     "text": [
      "Epoch 158: 100%|██████████| 2576/2576 [01:32<00:00, 27.87batch/s]\n"
     ]
    },
    {
     "name": "stdout",
     "output_type": "stream",
     "text": [
      "train loss: 4.3692 | valid loss: 4.4921 | ppl: 89.31 | acc@1: 0.2435 | acc@5: 0.4556\n"
     ]
    },
    {
     "name": "stderr",
     "output_type": "stream",
     "text": [
      "Epoch 159: 100%|██████████| 2576/2576 [01:32<00:00, 27.92batch/s]\n"
     ]
    },
    {
     "name": "stdout",
     "output_type": "stream",
     "text": [
      "train loss: 4.3681 | valid loss: 4.4924 | ppl: 89.33 | acc@1: 0.2428 | acc@5: 0.4558\n",
      "\n",
      "[Примеры размер контекста = 1]\n",
      "--- sample 1 (idx=139321) ---\n",
      "i |  was up at 9, lol still too early\n",
      "i | 'm soo tired. i'm so tired.\n",
      "\n",
      "--- sample 2 (idx=149265) ---\n",
      "hey |  jessica, i think you an amazing actress hope you pick me to follow soon lol\n",
      "hey | , i'm sorry to hear that. i hope you feel better soon.\n",
      "\n",
      "--- sample 3 (idx=132870) ---\n",
      "gl |  tomasi article talks about a black lantern. it was given away in solits but i stay away from them because of spoilers.\n",
      "gl | ad to hear that.\n",
      "\n",
      "--- sample 4 (idx=21376) ---\n",
      "at |  work calculating and applying\n",
      "at |  the airport.\n",
      "\n",
      "--- sample 5 (idx=67411) ---\n",
      "ugh | . i feel horribly sick\n",
      "ugh | h i hate it when i have to work\n",
      "\n",
      "--- sample 6 (idx=46040) ---\n",
      "k | ings of leon with kswizzle first beer in 3 weeks hallelujah\n",
      "k | \n",
      "\n",
      "--- sample 7 (idx=146343) ---\n",
      "ch | illing out 5 days off work\n",
      "ch | \n",
      "\n",
      "--- sample 8 (idx=57382) ---\n",
      "going |  to work. on a saturday\n",
      "going |  to the gym. i'm going to miss my friends\n",
      "\n",
      "--- sample 9 (idx=132131) ---\n",
      "sy | mpa de faire un twitter sur vassal\n",
      "sy | .\n",
      "\n",
      "--- sample 10 (idx=132610) ---\n",
      "y |  u in a mood sexiest got up a while ago. seems no one likes me anymore all cause im slightly diffrent.\n",
      "y | ayy\n",
      "\n",
      "\n",
      "[Примеры размер контекста = 7]\n",
      "--- sample 1 (idx=88703) ---\n",
      "i would like to propose a carry |  on twitter film. there are some highly qualified people here\n",
      "i would like to propose a carry |  on the site.\n",
      "\n",
      "--- sample 2 (idx=67827) ---\n",
      "eating hello kitty snacks on the |  way to london expo\n",
      "eating hello kitty snacks on the |  floor\n",
      "\n",
      "--- sample 3 (idx=32115) ---\n",
      "aw hun, you really aren't |  a happy bunny cuddle not much longer tho then you get to see brandy xx\n",
      "aw hun, you really aren't | .\n",
      "\n",
      "--- sample 4 (idx=75370) ---\n",
      "i'm not as faithful to twitter |  as i used to be.\n",
      "i'm not as faithful to twitter | , i'm not sure if i can get it to work.\n",
      "\n",
      "--- sample 5 (idx=29915) ---\n",
      "is really happy new dreads and |  love is a wonderful feeling lt 3\n",
      "is really happy new dreads and |  i'm soo excited\n",
      "\n",
      "--- sample 6 (idx=48497) ---\n",
      "i think i broke my finger this |  morning. i think i am going to lose my nail at least.\n",
      "i think i broke my finger this |  morning\n",
      "\n",
      "--- sample 7 (idx=43441) ---\n",
      "i want to make an expresso | , but, i already made reg. coffee\n",
      "i want to make an expresso | .\n",
      "\n",
      "--- sample 8 (idx=78319) ---\n",
      "pride amp prejudice is my all |  time favorite and i had to pick up the zombies out of morbid curiosity\n",
      "pride amp prejudice is my all |  time low\n",
      "\n",
      "--- sample 9 (idx=58755) ---\n",
      "i am counting my new gray there |  is a new one.i am only 26 for gods sake when did i get old\n",
      "i am counting my new gray there | 's a lot of people who are following me.\n",
      "\n",
      "--- sample 10 (idx=102069) ---\n",
      "i swatted a mosquito and i |  feel bad.\n",
      "i swatted a mosquito and i | 'm soo tired\n",
      "\n",
      "\n",
      "[Примеры размер контекста = 21]\n",
      "--- sample 1 (idx=3955) ---\n",
      "cripes, this pc runs hot. i wonder what's going on in there i'm sure it | 's a fire risk leaving it on 24 7\n",
      "cripes, this pc runs hot. i wonder what's going on in there i'm sure it | 's a good one\n",
      "\n",
      "--- sample 2 (idx=2837) ---\n",
      "oh yeahh, i cant beloeve your moving to clarence though, i'm gunna |  miss you but we can hang this summer\n",
      "oh yeahh, i cant beloeve your moving to clarence though, i'm gunna |  go to the beach\n",
      "\n",
      "--- sample 3 (idx=29782) ---\n",
      "waiting to hear how they'll actually want to use it. maybe i'll ask for a free copy |  of the mag.\n",
      "waiting to hear how they'll actually want to use it. maybe i'll ask for a free copy | \n",
      "\n",
      "--- sample 4 (idx=8683) ---\n",
      "your cakes looks really great i m working hard but. i m lost with the fondant do you have |  some good recipe please\n",
      "your cakes looks really great i m working hard but. i m lost with the fondant do you have |  a good day\n",
      "\n",
      "--- sample 5 (idx=30579) ---\n",
      "yeah, i have seen them once before but it wasn t just them so i didn't see them for |  long\n",
      "yeah, i have seen them once before but it wasn t just them so i didn't see them for |  a while.\n",
      "\n",
      "--- sample 6 (idx=940) ---\n",
      "well, you're obviously supposed to buy one iphone per os revision for testing purposes, what's |  so hard to understand\n",
      "well, you're obviously supposed to buy one iphone per os revision for testing purposes, what's |  wrong with the site\n",
      "\n",
      "--- sample 7 (idx=28718) ---\n",
      "seeing that it is a cartoon, i hope that it is much less sexy i feel the need to waste |  3 hours of life on that movie again\n",
      "seeing that it is a cartoon, i hope that it is much less sexy i feel the need to waste |  of time\n",
      "\n",
      "--- sample 8 (idx=31364) ---\n",
      "i am typing to the beat of musiic on my ipod. every strum i push a |  button. d\n",
      "i am typing to the beat of musiic on my ipod. every strum i push a | ww\n",
      "\n",
      "--- sample 9 (idx=12228) ---\n",
      "is everybody sleep lol. took a nap, now i'm wide awake this is not the business bout to |  go work out in a min.\n",
      "is everybody sleep lol. took a nap, now i'm wide awake this is not the business bout to |  sleep\n",
      "\n",
      "--- sample 10 (idx=21503) ---\n",
      "oh, and i went with my friend to myoh last night but they ran out of tarsier |  pins. so sad. he was really cute.\n",
      "oh, and i went with my friend to myoh last night but they ran out of tarsier | .\n",
      "\n",
      "\n",
      "[Примеры размер контекста = 28]\n",
      "--- sample 1 (idx=12723) ---\n",
      "still listening to american gods, it's a lot longer than i remember. i think it'll take three nights to finish, so tomorrow |  night\n",
      "still listening to american gods, it's a lot longer than i remember. i think it'll take three nights to finish, so tomorrow | .\n",
      "\n",
      "--- sample 2 (idx=7944) ---\n",
      "heyy mum said u sent message. i dont have my phone i fell asleep for and hour . i know i missed my fave part |  in movie\n",
      "heyy mum said u sent message. i dont have my phone i fell asleep for and hour . i know i missed my fave part |  of the day\n",
      "\n",
      "--- sample 3 (idx=13983) ---\n",
      "never knew how lucky i wass or how much i needed you until i lost you such stupid mistakes why do i always listen to the wrong |  person\n",
      "never knew how lucky i wass or how much i needed you until i lost you such stupid mistakes why do i always listen to the wrong | \n",
      "\n",
      "--- sample 4 (idx=5882) ---\n",
      "i cant read u. quot the boy quot by james strauss oh boy, i dislike jeans by levy strauss i prefer breathink |  meditation fashion\n",
      "i cant read u. quot the boy quot by james strauss oh boy, i dislike jeans by levy strauss i prefer breathink | \n",
      "\n",
      "--- sample 5 (idx=5583) ---\n",
      "fallout 3 operation anchorage is 30 off for xbox live gold members, but only for the xbox version gold members w pc version |  get screwed\n",
      "fallout 3 operation anchorage is 30 off for xbox live gold members, but only for the xbox version gold members w pc version | \n",
      "\n",
      "--- sample 6 (idx=4755) ---\n",
      "funny, really, the selection of posh frocks is atrocious, think i will just have to make do i'm trying tho |  x\n",
      "funny, really, the selection of posh frocks is atrocious, think i will just have to make do i'm trying tho | \n",
      "\n",
      "--- sample 7 (idx=13963) ---\n",
      "lost in trivial pursuit today. not quite last place, but that is b c someone quit before it was over.i stuck it out though |  it didn't help\n",
      "lost in trivial pursuit today. not quite last place, but that is b c someone quit before it was over.i stuck it out though | \n",
      "\n",
      "--- sample 8 (idx=14112) ---\n",
      "haha, i would love for him to be my bro, and we should all be bros' amp siss', one big ar | chie family\n",
      "haha, i would love for him to be my bro, and we should all be bros' amp siss', one big ar | gh\n",
      "\n",
      "--- sample 9 (idx=11813) ---\n",
      "i have a cold, it's cold and i can't snuggle up on the couch with my laptop. this makes me very sad also | , pathetic .\n",
      "i have a cold, it's cold and i can't snuggle up on the couch with my laptop. this makes me very sad also | , i'm not a fan of the new moon trailer.\n",
      "\n",
      "--- sample 10 (idx=9022) ---\n",
      "o sakis i think you're fantastic hello from a uk based fan you did a great job in moscow, deserved to win though |  x\n",
      "o sakis i think you're fantastic hello from a uk based fan you did a great job in moscow, deserved to win though | \n",
      "\n",
      "[ROUGE-L@epoch 159] K=1: 0.0721 (n=152639) | K=7: 0.0668 (n=127042) | K=21: 0.0666 (n=42923) | K=28: 0.0736 (n=15555)\n"
     ]
    },
    {
     "name": "stderr",
     "output_type": "stream",
     "text": [
      "Epoch 160: 100%|██████████| 2576/2576 [01:32<00:00, 28.00batch/s]\n"
     ]
    },
    {
     "name": "stdout",
     "output_type": "stream",
     "text": [
      "train loss: 4.3685 | valid loss: 4.4919 | ppl: 89.29 | acc@1: 0.2428 | acc@5: 0.4559\n"
     ]
    },
    {
     "name": "stderr",
     "output_type": "stream",
     "text": [
      "Epoch 161: 100%|██████████| 2576/2576 [01:32<00:00, 27.89batch/s]\n"
     ]
    },
    {
     "name": "stdout",
     "output_type": "stream",
     "text": [
      "train loss: 4.3676 | valid loss: 4.4922 | ppl: 89.31 | acc@1: 0.2431 | acc@5: 0.4554\n"
     ]
    },
    {
     "name": "stderr",
     "output_type": "stream",
     "text": [
      "Epoch 162: 100%|██████████| 2576/2576 [01:31<00:00, 28.06batch/s]\n"
     ]
    },
    {
     "name": "stdout",
     "output_type": "stream",
     "text": [
      "train loss: 4.3680 | valid loss: 4.4925 | ppl: 89.34 | acc@1: 0.2430 | acc@5: 0.4557\n"
     ]
    },
    {
     "name": "stderr",
     "output_type": "stream",
     "text": [
      "Epoch 163: 100%|██████████| 2576/2576 [01:31<00:00, 28.04batch/s]\n"
     ]
    },
    {
     "name": "stdout",
     "output_type": "stream",
     "text": [
      "train loss: 4.3687 | valid loss: 4.4918 | ppl: 89.28 | acc@1: 0.2432 | acc@5: 0.4555\n"
     ]
    },
    {
     "name": "stderr",
     "output_type": "stream",
     "text": [
      "Epoch 164: 100%|██████████| 2576/2576 [01:32<00:00, 27.77batch/s]\n"
     ]
    },
    {
     "name": "stdout",
     "output_type": "stream",
     "text": [
      "train loss: 4.3678 | valid loss: 4.4926 | ppl: 89.35 | acc@1: 0.2432 | acc@5: 0.4561\n"
     ]
    },
    {
     "name": "stderr",
     "output_type": "stream",
     "text": [
      "Epoch 165: 100%|██████████| 2576/2576 [01:32<00:00, 27.95batch/s]\n"
     ]
    },
    {
     "name": "stdout",
     "output_type": "stream",
     "text": [
      "train loss: 4.3679 | valid loss: 4.4922 | ppl: 89.31 | acc@1: 0.2432 | acc@5: 0.4557\n"
     ]
    },
    {
     "name": "stderr",
     "output_type": "stream",
     "text": [
      "Epoch 166: 100%|██████████| 2576/2576 [01:32<00:00, 27.98batch/s]\n"
     ]
    },
    {
     "name": "stdout",
     "output_type": "stream",
     "text": [
      "train loss: 4.3685 | valid loss: 4.4925 | ppl: 89.35 | acc@1: 0.2432 | acc@5: 0.4559\n"
     ]
    },
    {
     "name": "stderr",
     "output_type": "stream",
     "text": [
      "Epoch 167: 100%|██████████| 2576/2576 [01:32<00:00, 28.00batch/s]\n"
     ]
    },
    {
     "name": "stdout",
     "output_type": "stream",
     "text": [
      "train loss: 4.3668 | valid loss: 4.4922 | ppl: 89.32 | acc@1: 0.2431 | acc@5: 0.4562\n"
     ]
    },
    {
     "name": "stderr",
     "output_type": "stream",
     "text": [
      "Epoch 168: 100%|██████████| 2576/2576 [01:32<00:00, 27.96batch/s]\n"
     ]
    },
    {
     "name": "stdout",
     "output_type": "stream",
     "text": [
      "train loss: 4.3670 | valid loss: 4.4923 | ppl: 89.32 | acc@1: 0.2431 | acc@5: 0.4559\n"
     ]
    },
    {
     "name": "stderr",
     "output_type": "stream",
     "text": [
      "Epoch 169: 100%|██████████| 2576/2576 [01:32<00:00, 27.98batch/s]\n"
     ]
    },
    {
     "name": "stdout",
     "output_type": "stream",
     "text": [
      "train loss: 4.3672 | valid loss: 4.4931 | ppl: 89.40 | acc@1: 0.2428 | acc@5: 0.4558\n",
      "\n",
      "[Примеры размер контекста = 1]\n",
      "--- sample 1 (idx=152367) ---\n",
      "not |  sure if i'm excited for north carolina or not. oh well, i'll try and make the best of it be back in a week\n",
      "not |  sure if i can get a new one.\n",
      "\n",
      "--- sample 2 (idx=124433) ---\n",
      "g | 1 twittin i need more followers asap\n",
      "g | . i'm soo tired.\n",
      "\n",
      "--- sample 3 (idx=140333) ---\n",
      " amp |  found an entry that when i was in 2nd grade, i told someone that you can eat mac amp cheese crayon and they took a bite.\n",
      " amp |  i'm not sure what to do\n",
      "\n",
      "--- sample 4 (idx=77370) ---\n",
      "a |  rgh.just got locked out my own house luckily vicky was inside to open a window now have to wait for a locksmith to come tomorrow\n",
      "a | \n",
      "\n",
      "--- sample 5 (idx=141935) ---\n",
      "tm | obile didn't give me a new phone even after i bitched them out and threatened to leave. the best they offered was an upgrade for 50.\n",
      "tm | r\n",
      "\n",
      "--- sample 6 (idx=133795) ---\n",
      "i |  don't think i'll be watching that show.\n",
      "i | 'm soo tired. i'm so tired.\n",
      "\n",
      "--- sample 7 (idx=72405) ---\n",
      "to |  jessica jessicaclaire you re only a couple of provinces away why not vancouver i knoow.\n",
      "to |  the beach.\n",
      "\n",
      "--- sample 8 (idx=112513) ---\n",
      "app | arently i'm going out tonight, but i really don't want to. i have a lot of work to do\n",
      "app | arently i'm not going to be able to get my phone back.\n",
      "\n",
      "--- sample 9 (idx=38772) ---\n",
      "has | nt been feeling well all day. wish there was something to do now . any suggestions\n",
      "has |  a headache\n",
      "\n",
      "--- sample 10 (idx=26048) ---\n",
      "ye | a i just found out i can do that, but i mistakenly bought the domain through dreamhost friday.\n",
      "ye | a i'm soo excited\n",
      "\n",
      "\n",
      "[Примеры размер контекста = 7]\n",
      "--- sample 1 (idx=30834) ---\n",
      "dont cry for me argent | ina madonna aint so bad is she i like the costumes and period look\n",
      "dont cry for me argent | \n",
      "\n",
      "--- sample 2 (idx=59246) ---\n",
      "boo hoo. you'll |  be missed.\n",
      "boo hoo. you'll |  be fine.\n",
      "\n",
      "--- sample 3 (idx=56378) ---\n",
      "pfft. you could've |  atleast did one england date\n",
      "pfft. you could've |  been there.\n",
      "\n",
      "--- sample 4 (idx=89481) ---\n",
      "ran 18km 20 mins slower than |  i should have. 2hrs 10 mins\n",
      "ran 18km 20 mins slower than |  expected.\n",
      "\n",
      "--- sample 5 (idx=101128) ---\n",
      "me too.blah have a |  good one\n",
      "me too.blah have a |  day of work tomorrow\n",
      "\n",
      "--- sample 6 (idx=55450) ---\n",
      "people took over the aerobics |  room. this guy he's like makin sex noises while doing push ups. lolol\n",
      "people took over the aerobics | .\n",
      "\n",
      "--- sample 7 (idx=89399) ---\n",
      "omg chinese was luss | hh but im so fat now\n",
      "omg chinese was luss | \n",
      "\n",
      "--- sample 8 (idx=55752) ---\n",
      "he he no chance. tried it | , hated it. will stick with xp.probably\n",
      "he he no chance. tried it |  was a good idea.\n",
      "\n",
      "--- sample 9 (idx=49836) ---\n",
      "getting 2 tickets on graduation day going |  home from the club\n",
      "getting 2 tickets on graduation day going |  to the beach\n",
      "\n",
      "--- sample 10 (idx=45293) ---\n",
      "going to my bff's. |  haha. but thats in like 2 hourss soo.call me. actually darn, i have hw\n",
      "going to my bff's. | \n",
      "\n",
      "\n",
      "[Примеры размер контекста = 21]\n",
      "--- sample 1 (idx=152) ---\n",
      "i agree don't use acronyms but if you do, adding an 's' is perfectly acceptable | .\n",
      "i agree don't use acronyms but if you do, adding an 's' is perfectly acceptable | .\n",
      "\n",
      "--- sample 2 (idx=11003) ---\n",
      "i can have a productive day involving monkey island right also day trip with parents on sunday hopefully, y | ay.\n",
      "i can have a productive day involving monkey island right also day trip with parents on sunday hopefully, y | ay\n",
      "\n",
      "--- sample 3 (idx=23056) ---\n",
      "getting on the bus pray that i don't fall out bcuz its boiling out here and there's no |  breeze whatsoever.\n",
      "getting on the bus pray that i don't fall out bcuz its boiling out here and there's no |  no no no no no no no no no no no no no no no no no no no no no no no no no no no no no no no no\n",
      "\n",
      "--- sample 4 (idx=26939) ---\n",
      "was trying to stay awake and watch the debate relay last fell asleep it doesnt go as i excpected, |  u can't call it a debate\n",
      "was trying to stay awake and watch the debate relay last fell asleep it doesnt go as i excpected, |  but i'm not sure.\n",
      "\n",
      "--- sample 5 (idx=27189) ---\n",
      "last day english final happy birthday jaack barakat ooh and yes the millioniares did get |  signed to decay dance. fml\n",
      "last day english final happy birthday jaack barakat ooh and yes the millioniares did get | tin ready for work\n",
      "\n",
      "--- sample 6 (idx=41664) ---\n",
      "oh dear most people i associate with at home would be horrified to hear about that. and the quot o | irish quot accents. fail\n",
      "oh dear most people i associate with at home would be horrified to hear about that. and the quot o | . quot\n",
      "\n",
      "--- sample 7 (idx=2222) ---\n",
      "posting to web while waiting for it to be time for felony check numero dos. hopin' |  for somethin good\n",
      "posting to web while waiting for it to be time for felony check numero dos. hopin' | \n",
      "\n",
      "--- sample 8 (idx=28091) ---\n",
      "uploading now. i'll post on fans amp twitpic to him.tonite or tomorrow. |  good stuff\n",
      "uploading now. i'll post on fans amp twitpic to him.tonite or tomorrow. | \n",
      "\n",
      "--- sample 9 (idx=20179) ---\n",
      "no problem. do you need the whole publishing suite or just reader we had the suite, but are out |  of installs.\n",
      "no problem. do you need the whole publishing suite or just reader we had the suite, but are out |  of the house\n",
      "\n",
      "--- sample 10 (idx=4311) ---\n",
      "you are too kind. yes, i want this darned flu out have lived on a couple of digest | ives and cream crackers for days now\n",
      "you are too kind. yes, i want this darned flu out have lived on a couple of digest | .\n",
      "\n",
      "\n",
      "[Примеры размер контекста = 28]\n",
      "--- sample 1 (idx=14558) ---\n",
      "got in the wrong bus. had 2 take a bus departing half an hour later. i think i'll arrive at work at about 9 30 | am\n",
      "got in the wrong bus. had 2 take a bus departing half an hour later. i think i'll arrive at work at about 9 30 | am.\n",
      "\n",
      "--- sample 2 (idx=2884) ---\n",
      "taking my boy to the vet tomorrow he cant put any pressure at all on his paw. hopefully in the morning its ok and we wont have |  to go\n",
      "taking my boy to the vet tomorrow he cant put any pressure at all on his paw. hopefully in the morning its ok and we wont have |  a good day\n",
      "\n",
      "--- sample 3 (idx=3560) ---\n",
      "hey all my followers i don't feel good and not one soul said a thang . 2 support sum one that support y'all i | 'm out of here\n",
      "hey all my followers i don't feel good and not one soul said a thang . 2 support sum one that support y'all i | 'm not sure if i can get it\n",
      "\n",
      "--- sample 4 (idx=15056) ---\n",
      "the sec on the left, opposite side of i was totally bummed, but i talked to him at the m amp g and he looked |  for me\n",
      "the sec on the left, opposite side of i was totally bummed, but i talked to him at the m amp g and he looked |  like a good guy\n",
      "\n",
      "--- sample 5 (idx=1578) ---\n",
      "i have no idea what i was writing. i was pretty drunk. i think i was hungry though. who knows didn't make much sense | .\n",
      "i have no idea what i was writing. i was pretty drunk. i think i was hungry though. who knows didn't make much sense | \n",
      "\n",
      "--- sample 6 (idx=7839) ---\n",
      "pretty good. very hot. but its fun. except the paparazzi found us. no good i hate how they are everywhere. |  m and m\n",
      "pretty good. very hot. but its fun. except the paparazzi found us. no good i hate how they are everywhere. | \n",
      "\n",
      "--- sample 7 (idx=3846) ---\n",
      "quot saving quot jobs, one czar at a time. if the one can create 345k czar positions, he can make up |  for all the jobs lost in may.\n",
      "quot saving quot jobs, one czar at a time. if the one can create 345k czar positions, he can make up | \n",
      "\n",
      "--- sample 8 (idx=2082) ---\n",
      "ha have some of our rain. been raining so much can't drive my new jeep i just wanna play. how'd the hair turn |  out\n",
      "ha have some of our rain. been raining so much can't drive my new jeep i just wanna play. how'd the hair turn |  off\n",
      "\n",
      "--- sample 9 (idx=6793) ---\n",
      "back from the movie. so tired. yawn but the good part is i have the best friends ever among other things i love in my life | . night.\n",
      "back from the movie. so tired. yawn but the good part is i have the best friends ever among other things i love in my life |  is soo good\n",
      "\n",
      "--- sample 10 (idx=2714) ---\n",
      "i'm going to pay you to ship them to me. you don't understand how i'm wiggin. that's all i wear at |  my parents' house\n",
      "i'm going to pay you to ship them to me. you don't understand how i'm wiggin. that's all i wear at |  least 2.\n",
      "\n",
      "[ROUGE-L@epoch 169] K=1: 0.0712 (n=152639) | K=7: 0.0665 (n=127042) | K=21: 0.0667 (n=42923) | K=28: 0.0741 (n=15555)\n"
     ]
    },
    {
     "name": "stderr",
     "output_type": "stream",
     "text": [
      "Epoch 170: 100%|██████████| 2576/2576 [01:32<00:00, 27.84batch/s]\n"
     ]
    },
    {
     "name": "stdout",
     "output_type": "stream",
     "text": [
      "train loss: 4.3676 | valid loss: 4.4925 | ppl: 89.35 | acc@1: 0.2428 | acc@5: 0.4554\n"
     ]
    },
    {
     "name": "stderr",
     "output_type": "stream",
     "text": [
      "Epoch 171: 100%|██████████| 2576/2576 [01:32<00:00, 27.99batch/s]\n"
     ]
    },
    {
     "name": "stdout",
     "output_type": "stream",
     "text": [
      "train loss: 4.3662 | valid loss: 4.4924 | ppl: 89.34 | acc@1: 0.2427 | acc@5: 0.4558\n"
     ]
    },
    {
     "name": "stderr",
     "output_type": "stream",
     "text": [
      "Epoch 172: 100%|██████████| 2576/2576 [01:31<00:00, 28.05batch/s]\n"
     ]
    },
    {
     "name": "stdout",
     "output_type": "stream",
     "text": [
      "train loss: 4.3663 | valid loss: 4.4926 | ppl: 89.35 | acc@1: 0.2428 | acc@5: 0.4557\n"
     ]
    },
    {
     "name": "stderr",
     "output_type": "stream",
     "text": [
      "Epoch 173: 100%|██████████| 2576/2576 [01:32<00:00, 27.74batch/s]\n"
     ]
    },
    {
     "name": "stdout",
     "output_type": "stream",
     "text": [
      "train loss: 4.3676 | valid loss: 4.4928 | ppl: 89.37 | acc@1: 0.2433 | acc@5: 0.4559\n"
     ]
    },
    {
     "name": "stderr",
     "output_type": "stream",
     "text": [
      "Epoch 174: 100%|██████████| 2576/2576 [01:32<00:00, 27.85batch/s]\n"
     ]
    },
    {
     "name": "stdout",
     "output_type": "stream",
     "text": [
      "train loss: 4.3668 | valid loss: 4.4922 | ppl: 89.32 | acc@1: 0.2427 | acc@5: 0.4560\n"
     ]
    },
    {
     "name": "stderr",
     "output_type": "stream",
     "text": [
      "Epoch 175: 100%|██████████| 2576/2576 [01:31<00:00, 28.02batch/s]\n"
     ]
    },
    {
     "name": "stdout",
     "output_type": "stream",
     "text": [
      "train loss: 4.3661 | valid loss: 4.4932 | ppl: 89.41 | acc@1: 0.2425 | acc@5: 0.4561\n"
     ]
    },
    {
     "name": "stderr",
     "output_type": "stream",
     "text": [
      "Epoch 176: 100%|██████████| 2576/2576 [01:31<00:00, 28.11batch/s]\n"
     ]
    },
    {
     "name": "stdout",
     "output_type": "stream",
     "text": [
      "train loss: 4.3668 | valid loss: 4.4926 | ppl: 89.35 | acc@1: 0.2432 | acc@5: 0.4560\n"
     ]
    },
    {
     "name": "stderr",
     "output_type": "stream",
     "text": [
      "Epoch 177: 100%|██████████| 2576/2576 [01:32<00:00, 27.74batch/s]\n"
     ]
    },
    {
     "name": "stdout",
     "output_type": "stream",
     "text": [
      "train loss: 4.3661 | valid loss: 4.4927 | ppl: 89.37 | acc@1: 0.2430 | acc@5: 0.4558\n"
     ]
    },
    {
     "name": "stderr",
     "output_type": "stream",
     "text": [
      "Epoch 178: 100%|██████████| 2576/2576 [01:32<00:00, 27.97batch/s]\n"
     ]
    },
    {
     "name": "stdout",
     "output_type": "stream",
     "text": [
      "train loss: 4.3662 | valid loss: 4.4930 | ppl: 89.39 | acc@1: 0.2426 | acc@5: 0.4553\n"
     ]
    },
    {
     "name": "stderr",
     "output_type": "stream",
     "text": [
      "Epoch 179: 100%|██████████| 2576/2576 [01:31<00:00, 28.11batch/s]\n"
     ]
    },
    {
     "name": "stdout",
     "output_type": "stream",
     "text": [
      "train loss: 4.3654 | valid loss: 4.4924 | ppl: 89.34 | acc@1: 0.2433 | acc@5: 0.4558\n"
     ]
    }
   ],
   "source": [
    "import pandas as pd\n",
    "import ast\n",
    "import os\n",
    "from tqdm import tqdm\n",
    "import numpy as np\n",
    "import torch\n",
    "import json\n",
    "from torch import nn\n",
    "from torch.utils.data import DataLoader\n",
    "from torch.utils.tensorboard import SummaryWriter\n",
    "from transformers import AutoTokenizer\n",
    "\n",
    "from src.dataset import NextTokenDataset\n",
    "from src.model import RNNAutocompletion\n",
    "from src.utils import free_gen_rougeL\n",
    "\n",
    "\n",
    "TRAIN_DATA_PATH = r\"data\\train.json\"\n",
    "VALID_DATA_PATH = r\"data\\val.json\"\n",
    "EXP_NAME = \"exp1\"\n",
    "CHUNK_LEN = 32\n",
    "STRIDE = CHUNK_LEN\n",
    "EPOCHS = 301\n",
    "BATCH_SIZE = 256\n",
    "LR = 2e-3\n",
    "DIM = 256\n",
    "NUM_LAYERS = 2\n",
    "DROPOUT = 0.3\n",
    "\n",
    "EVAL_EVERY = 10\n",
    "EVAL_K_LIST = (1, 7, 21, 28)\n",
    "REF_MAX_TOKENS = 32\n",
    "GEN_MAX_NEW_TOKENS = REF_MAX_TOKENS\n",
    "SAMPLES_PER_K = 10\n",
    "\n",
    "\n",
    "with open(TRAIN_DATA_PATH, \"r\", encoding=\"utf-8\") as f:\n",
    "    train_sequences = json.load(f)  \n",
    "\n",
    "with open(VALID_DATA_PATH, \"r\", encoding=\"utf-8\") as f:\n",
    "    valid_sequences = json.load(f)\n",
    "\n",
    "device = torch.device(\"cuda\" if torch.cuda.is_available() else \"cpu\")\n",
    "device_type = \"cuda\" if device.type == \"cuda\" else \"cpu\"\n",
    "print(f\"device: {device}\")\n",
    "\n",
    "tokenizer = AutoTokenizer.from_pretrained(\"distilgpt2\", use_fast=True)\n",
    "tokenizer.add_special_tokens({\"pad_token\": \"<PAD>\"})\n",
    "pad_token_id = tokenizer.pad_token_id\n",
    "eos_token_id = tokenizer.eos_token_id\n",
    "vocab_size = len(tokenizer)\n",
    "\n",
    "dataset_train = NextTokenDataset(train_sequences, chunk_length=CHUNK_LEN, stride=STRIDE, offset=0)\n",
    "dataset_val = NextTokenDataset(valid_sequences, chunk_length=CHUNK_LEN, stride=STRIDE, offset=0)\n",
    "\n",
    "dl_train = DataLoader(dataset_train, batch_size=BATCH_SIZE, shuffle=True, num_workers=4, pin_memory=True)\n",
    "dl_val = DataLoader(dataset_val, batch_size=BATCH_SIZE, shuffle=False, num_workers=4, pin_memory=True)\n",
    "\n",
    "model = RNNAutocompletion(\n",
    "    vocab_size=vocab_size,\n",
    "    pad_token_id=pad_token_id,\n",
    "    eos_token_id=eos_token_id,\n",
    "    dim=DIM,\n",
    "    num_layers=NUM_LAYERS,\n",
    "    dropout=DROPOUT\n",
    "    ).to(device)\n",
    "\n",
    "optimizer = torch.optim.AdamW(model.parameters(), lr=LR, weight_decay=1e-5)\n",
    "criterion = nn.CrossEntropyLoss()\n",
    "scaler = torch.amp.GradScaler(device=device_type, enabled=(device_type == \"cuda\"))\n",
    "scheduler = torch.optim.lr_scheduler.ReduceLROnPlateau(\n",
    "    optimizer,\n",
    "    mode=\"min\",\n",
    "    factor=0.5,\n",
    "    patience=2,\n",
    "    min_lr=1e-4,\n",
    ")\n",
    "\n",
    "save_path = os.path.join(\"exp\", EXP_NAME)\n",
    "os.makedirs(f\"{save_path}/weights\", exist_ok=True)\n",
    "writer = SummaryWriter(log_dir=f\"{save_path}/logs\")\n",
    "\n",
    "best_val_loss = float(\"inf\")\n",
    "train_step = 0\n",
    "dataset_val.set_offset(0)\n",
    "\n",
    "for epoch in range(EPOCHS):\n",
    "\n",
    "    dataset_train.set_offset()\n",
    "    model.train()\n",
    "    train_losses = []\n",
    "\n",
    "    for batch in tqdm(dl_train, desc=f\"Epoch {epoch}\", unit=\"batch\"):\n",
    "        input_ids = batch[\"input_ids\"].to(device)\n",
    "        labels = batch[\"labels\"].to(device)\n",
    "\n",
    "        optimizer.zero_grad()\n",
    "        with torch.amp.autocast(device_type=device_type, enabled=(device_type == \"cuda\")):\n",
    "            logits, _ = model(input_ids)\n",
    "            loss = criterion(logits.view(-1, logits.size(-1)), labels.view(-1))\n",
    "\n",
    "        scaler.scale(loss).backward()\n",
    "        scaler.unscale_(optimizer)                                \n",
    "        torch.nn.utils.clip_grad_norm_(model.parameters(), 1.0) \n",
    "        scaler.step(optimizer)                                    \n",
    "        scaler.update()\n",
    "\n",
    "        train_losses.append(loss.item())\n",
    "        writer.add_scalar(\"Loss/train_step\", loss.item(), train_step)\n",
    "        train_step += 1\n",
    "\n",
    "    train_loss = np.mean(train_losses)\n",
    "    writer.add_scalar(\"Loss/train\", train_loss, epoch)\n",
    "    writer.add_scalar(\"LR\", optimizer.param_groups[0][\"lr\"], epoch)\n",
    "\n",
    "    model.eval()\n",
    "    val_losses = []\n",
    "    val_last_correct1  = 0\n",
    "    val_last_correct5 = 0\n",
    "    val_last_total = 0\n",
    "\n",
    "    with torch.no_grad(), torch.amp.autocast(device_type=device_type, enabled=(device_type == \"cuda\")):\n",
    "        for batch in dl_val:\n",
    "            input_ids = batch[\"input_ids\"].to(device)\n",
    "            labels = batch[\"labels\"].to(device)\n",
    "\n",
    "            logits, _ = model(input_ids)\n",
    "            loss = criterion(logits.view(-1, logits.size(-1)), labels.view(-1))\n",
    "            val_losses.append(loss.item())\n",
    "\n",
    "            last_logits = logits[:, -1, :]\n",
    "            last_labels = labels[:, -1]\n",
    "\n",
    "            pred1 = last_logits.argmax(dim=-1) \n",
    "            val_last_correct1 += (pred1 == last_labels).sum().item()\n",
    "\n",
    "            top5 = last_logits.topk(5, dim=-1).indices\n",
    "            val_last_correct5 += (top5 == last_labels.unsqueeze(-1)).any(dim=-1).sum().item()\n",
    "\n",
    "            val_last_total += last_labels.numel()\n",
    "\n",
    "    val_loss = np.mean(val_losses)\n",
    "    val_ppl = np.exp(val_loss)\n",
    "    val_last_acc1 = val_last_correct1 / val_last_total\n",
    "    val_last_acc5 = val_last_correct5 / val_last_total\n",
    "\n",
    "    writer.add_scalar(\"Loss/valid\", val_loss, epoch)\n",
    "    writer.add_scalar(\"Perplexity/valid\", val_ppl, epoch)\n",
    "    writer.add_scalar(\"Acc/valid_last@1\", val_last_acc1, epoch)\n",
    "    writer.add_scalar(\"Acc/valid_last@5\", val_last_acc5, epoch)\n",
    "\n",
    "    if val_loss < best_val_loss:\n",
    "        best_val_loss = val_loss\n",
    "        torch.save(model.state_dict(), f\"{save_path}/weights/best.pt\")\n",
    "\n",
    "    scheduler.step(val_loss)\n",
    "\n",
    "    print(f\"train loss: {train_loss:.4f} | valid loss: {val_loss:.4f} | ppl: {val_ppl:.2f} \"f\"| acc@1: {val_last_acc1:.4f} | acc@5: {val_last_acc5:.4f}\")\n",
    "\n",
    "    if (epoch + 1) % EVAL_EVERY == 0:\n",
    "        model.eval()\n",
    "        out = free_gen_rougeL(\n",
    "            msgs=dataset_val.msgs,\n",
    "            model=model,\n",
    "            tokenizer=tokenizer,\n",
    "            eos_id=eos_token_id,\n",
    "            k_list=EVAL_K_LIST,\n",
    "            ref_max_tokens=REF_MAX_TOKENS,\n",
    "            gen_max_new_tokens=GEN_MAX_NEW_TOKENS,\n",
    "            batch_size=BATCH_SIZE,\n",
    "            device=device_type,\n",
    "            samples_per_k=SAMPLES_PER_K,\n",
    "        )\n",
    "\n",
    "        for k, d in out[\"metrics\"].items():\n",
    "            writer.add_scalar(f\"ROUGE/rougeL_K{k}\", d[\"rougeL\"], epoch)\n",
    "\n",
    "        for k, samples in out[\"samples\"].items():\n",
    "            if not samples:\n",
    "                continue\n",
    "\n",
    "            print(f\"\\n[Примеры размер контекста = {k}]\")\n",
    "\n",
    "            for j, s in enumerate(samples, 1):\n",
    "                ctx  = s[\"context_text\"]\n",
    "                ref  = s[\"reference_text\"]\n",
    "                pred = s[\"prediction_text\"]\n",
    "                print(f\"--- sample {j} (idx={s['index']}) ---\")\n",
    "                print(f\"{ctx} | {ref}\")\n",
    "                print(f\"{ctx} | {pred}\\n\")\n",
    "\n",
    "            tb_blocks = []\n",
    "            for j, s in enumerate(samples, 1):\n",
    "                ctx  = s[\"context_text\"]\n",
    "                ref  = s[\"reference_text\"]\n",
    "                pred = s[\"prediction_text\"]\n",
    "                tb_blocks.append(\n",
    "                    \"```\\n\"\n",
    "                    f\"{ctx} | {ref}\\n\"\n",
    "                    f\"{ctx} | {pred}\\n\"\n",
    "                    \"```\"\n",
    "                )\n",
    "            writer.add_text(f\"ROUGE/samples_K{k}\", \"\\n\\n\".join(tb_blocks), epoch)\n",
    "\n",
    "        text = \" | \".join([f\"K={k}: {d['rougeL']:.4f} (n={d['count']})\" for k, d in out[\"metrics\"].items()])\n",
    "        print(f\"[ROUGE-L@epoch {epoch}] {text}\")\n",
    "\n",
    "torch.save(model.state_dict(), f\"{save_path}/weights/last.pt\")\n",
    "writer.close()"
   ]
  },
  {
   "cell_type": "markdown",
   "id": "2c57d599",
   "metadata": {},
   "source": [
    "## 3 Сравнение обученной модели и distilgpt2 на тестовой выборке"
   ]
  },
  {
   "cell_type": "code",
   "execution_count": 2,
   "id": "8bf3db42",
   "metadata": {},
   "outputs": [
    {
     "name": "stdout",
     "output_type": "stream",
     "text": [
      "device: cuda\n",
      "\n",
      "ROUGE-L (test):\n",
      "    RNN_rougeL  RNN_count  distilgpt2_rougeL  distilgpt2_count  delta_distilgpt2_minus_RNN\n",
      "K                                                                                         \n",
      "1       0.0732     152653             0.0529            152653                     -0.0203\n",
      "7       0.0677     127187             0.0580            127187                     -0.0097\n",
      "21      0.0681      42883             0.0594             42883                     -0.0087\n",
      "28      0.0745      15569             0.0496             15569                     -0.0249\n",
      "\n",
      "rnn samples\n",
      "\n",
      "K=1\n",
      "need |  a partner in crime\n",
      "need |  to get my hair done\n",
      "\n",
      "did |  you do much on the designs i think we would have heard by now if we'd won\n",
      "did |  you get a new phone\n",
      "\n",
      "up |  with the larks this morning already been out and about. you cant beat the west coast of scotland on a beautiful sunny morning.\n",
      "up | .\n",
      "\n",
      " hungry | . going to eat. catch up with you guys later amp 4 people who are hurt by my sardonic quotes why are you waiting, hit me back\n",
      " hungry | \n",
      "\n",
      "that | 's my loverr lt 3\n",
      "that | 's what i'm doing.\n",
      "\n",
      "\n",
      "K=7\n",
      "i really have no sense of direction | . it makes me feel so stupid whenever i get lost.\n",
      "i really have no sense of direction | .\n",
      "\n",
      "at the mall with my seester | , getting our other seester a birthday present\n",
      "at the mall with my seester | \n",
      "\n",
      "i'm happy it happened for you | .now take it as far as you can\n",
      "i'm happy it happened for you | 're not going to be able to make it to the show tonight\n",
      "\n",
      "oh and he's coming over tonight |  to meet the rents omgz.\n",
      "oh and he's coming over tonight | \n",
      "\n",
      "at gabby's grad i can | 't believe it's been a year since i graduated\n",
      "at gabby's grad i can | 't wait to see you\n",
      "\n",
      "\n",
      "K=21\n",
      "breakfast homemeade banana nut bread w harvest margarine trans fat free , black chai tea, |  hot, straight lots of confusion all over else\n",
      "breakfast homemeade banana nut bread w harvest margarine trans fat free , black chai tea, |  and a good friend\n",
      "\n",
      "i saw you and nearly had a heart attack but i think i coverd it pretty well lol, i |  was gonna say hi, but i was dead scared x\n",
      "i saw you and nearly had a heart attack but i think i coverd it pretty well lol, i | 'm soo tired\n",
      "\n",
      "after waking at 3am to get into the city for the early show, i'm dead tired. still |  need to get sink cleared before turning in, though\n",
      "after waking at 3am to get into the city for the early show, i'm dead tired. still |  awake.\n",
      "\n",
      "think its his twin omg im going to see aiden aarrgghh. oh and i |  get to see you again too\n",
      "think its his twin omg im going to see aiden aarrgghh. oh and i |  miss him so much\n",
      "\n",
      "was a tough decision but i'm going with the purple dress for my reunion. which is in 4 hours | .\n",
      "was a tough decision but i'm going with the purple dress for my reunion. which is in 4 hours | .\n",
      "\n",
      "\n",
      "K=28\n",
      "hey sweetie, i hope yur feeling better. i've never had the flu. i would clonazepam it up and |  sleep it off xoxox\n",
      "hey sweetie, i hope yur feeling better. i've never had the flu. i would clonazepam it up and |  i'm not sure what to do.\n",
      "\n",
      "i don't think nestle makes butterfinger crisp anymore that's bummin me out. this poser reese's crispy crunchy bar |  is unsatisfying.\n",
      "i don't think nestle makes butterfinger crisp anymore that's bummin me out. this poser reese's crispy crunchy bar | .\n",
      "\n",
      "yupyup, finna get spiffed up for this black and white party me and are going to . lets get get get |  itt follow\n",
      "yupyup, finna get spiffed up for this black and white party me and are going to . lets get get get | tin ready for work\n",
      "\n",
      "i was on 50mg of paxil amp 150mg of wellbutrin when things were really bad in grad school. things r starting |  2get bad again\n",
      "i was on 50mg of paxil amp 150mg of wellbutrin when things were really bad in grad school. things r starting |  now.\n",
      "\n",
      "maybe you should invite the rest of the band to sleep too haha. i think they're so tired of your show well. goodninght |  tom\n",
      "maybe you should invite the rest of the band to sleep too haha. i think they're so tired of your show well. goodninght | \n",
      "\n",
      "\n",
      "distilgpt2 samples\n",
      "\n",
      "K=1\n",
      "hey |  u can do it u r much more capable than anyone else around on doing it call me anytime you need to talk\n",
      "hey |  The New York Times has been reporting that the FBI has been investigating the death of a man who was shot in the head by a police officer in the Bronx.\n",
      "\n",
      "what |  were they doing\n",
      "what |  The New York Times has been reporting on the Trump administration’s decision to fire former FBI Director James Comey.\n",
      "\n",
      "\n",
      "\n",
      "\n",
      "\n",
      "\n",
      "\n",
      "\n",
      "\n",
      "\n",
      "mus | covy ducks are good eating. taste like roast beef. i used to control the population at night at my old apartment complex.\n",
      "mus |  The first time I saw a video of a man wearing a black shirt with a black shirt with a black shirt with a black shirt with a black shirt with a\n",
      "\n",
      "got |  my ticket for the teen choice awards woohoo i'm so stoked\n",
      "got |  The first time I saw a video of a man in a wheelchair, I was shocked. He was wearing a wheelchair, and he was wearing a wheelchair. He\n",
      "\n",
      "i |  don't know what to do with my 4 domains yet. hehehe.\n",
      "i |  The New York Times\n",
      "\n",
      "\n",
      "\n",
      "\n",
      "\n",
      "\n",
      "\n",
      "\n",
      "\n",
      "\n",
      "\n",
      "\n",
      "\n",
      "\n",
      "\n",
      "\n",
      "\n",
      "\n",
      "\n",
      "\n",
      "\n",
      "\n",
      "\n",
      "\n",
      "\n",
      "\n",
      "\n",
      "\n",
      "\n",
      "\n",
      "K=7\n",
      "missed our flight been waiting since |  4pm. i'm never guessing my flight time again\n",
      "missed our flight been waiting since |  the end of the year.\n",
      "\n",
      "\n",
      "\n",
      "\n",
      "\n",
      "\n",
      "\n",
      "\n",
      "\n",
      "\n",
      "\n",
      "\n",
      "\n",
      "\n",
      "\n",
      "\n",
      "\n",
      "\n",
      "\n",
      "\n",
      "\n",
      "\n",
      "\n",
      "\n",
      "\n",
      "\n",
      "\n",
      "i'm siick and i have |  to write my religion essays\n",
      "i'm siick and i have |  to say that i am a little bit more than a little bit more than a little bit more than a little bit more than a little bit more than a little\n",
      "\n",
      "we are moving, but it is |  taking longer than we thought. we have had lots of problems with blogger\n",
      "we are moving, but it is |  not going to be easy.”\n",
      "\n",
      "ew i cannot find my osap |  info or my birth certificate curse you moving business\n",
      "ew i cannot find my osap | od.\n",
      "\n",
      "\n",
      "\n",
      "\n",
      "\n",
      "\n",
      "\n",
      "\n",
      "\n",
      "\n",
      "\n",
      "\n",
      "\n",
      "\n",
      "\n",
      "\n",
      "\n",
      "\n",
      "\n",
      "\n",
      "\n",
      "\n",
      "\n",
      "\n",
      "\n",
      "\n",
      "\n",
      "\n",
      "\n",
      "\n",
      "\n",
      "omg corn nuts, now i |  have the craving, thanks\n",
      "omg corn nuts, now i |  think i can get a better taste of the corn.\n",
      "\n",
      "\n",
      "\n",
      "\n",
      "\n",
      "\n",
      "\n",
      "\n",
      "\n",
      "\n",
      "\n",
      "\n",
      "\n",
      "\n",
      "\n",
      "\n",
      "\n",
      "\n",
      "\n",
      "\n",
      "\n",
      "\n",
      "\n",
      "K=21\n",
      "just cut into last years rare breed free range air dried ham. seriously bloody good, thankfully there's plenty |  more curing\n",
      "just cut into last years rare breed free range air dried ham. seriously bloody good, thankfully there's plenty |  of good stuff out there.\n",
      "\n",
      "\n",
      "The only thing that's missing is the ham.\n",
      "The ham is a very good, very good, very good\n",
      "\n",
      "aww, not good, think we're all feeling like that atm i'm not too bad though |  thankyou\n",
      "aww, not good, think we're all feeling like that atm i'm not too bad though | .\n",
      "\n",
      "\n",
      "\n",
      "\n",
      "\n",
      "\n",
      "\n",
      "\n",
      "\n",
      "\n",
      "\n",
      "\n",
      "\n",
      "\n",
      "\n",
      "\n",
      "\n",
      "\n",
      "\n",
      "\n",
      "\n",
      "\n",
      "\n",
      "\n",
      "\n",
      "\n",
      "\n",
      "\n",
      "\n",
      "\n",
      "\n",
      "\n",
      "i'm prolly gonna rock dresses all summer b c they're the only thing that fits right now. |  and they show off my boobs\n",
      "i'm prolly gonna rock dresses all summer b c they're the only thing that fits right now. | \n",
      "\n",
      "\n",
      "\n",
      "\n",
      "\n",
      "\n",
      "\n",
      "\n",
      "\n",
      "\n",
      "\n",
      "\n",
      "\n",
      "\n",
      "\n",
      "\n",
      "\n",
      "\n",
      "\n",
      "\n",
      "\n",
      "\n",
      "\n",
      "\n",
      "\n",
      "\n",
      "\n",
      "\n",
      "\n",
      "\n",
      "\n",
      "\n",
      "\n",
      "i think after watching replay of last night's bgt that aidan davis is going to just clinch |  it but it'll be close between 4 5 acts i think\n",
      "i think after watching replay of last night's bgt that aidan davis is going to just clinch |  the win.\n",
      "\n",
      "\n",
      "\n",
      "\n",
      "\n",
      "\n",
      "\n",
      "\n",
      "\n",
      "\n",
      "\n",
      "\n",
      "\n",
      "\n",
      "\n",
      "\n",
      "\n",
      "\n",
      "\n",
      "\n",
      "\n",
      "\n",
      "\n",
      "\n",
      "\n",
      "\n",
      "\n",
      "\n",
      "\n",
      "\n",
      "you have baker's square i'm envious. we ate there in california and it was wonderful | . perkins is the quot pie of record quot here, but\n",
      "you have baker's square i'm envious. we ate there in california and it was wonderful | . i was so happy to have a good meal. i was so happy to have a good meal. i was so happy to have a good meal. i\n",
      "\n",
      "\n",
      "K=28\n",
      "missing and her sewing kit, mangoes not euphemistic , cooking skillz and general awesomeness. bring on a rum filled j | uly\n",
      "missing and her sewing kit, mangoes not euphemistic , cooking skillz and general awesomeness. bring on a rum filled j | alapeno, a jalapeno, a jalapeno, a jalapeno, a jalapeno, a jalap\n",
      "\n",
      "in johor bahru, malaysia family house. wtf the taxi in lakin still refused to use taximeter and |  asked me to take premiere taxi\n",
      "in johor bahru, malaysia family house. wtf the taxi in lakin still refused to use taximeter and |  the taxi driver refused to pay the taxi driver's fee.\n",
      "\n",
      "\n",
      "\n",
      "\n",
      "\n",
      "\n",
      "\n",
      "\n",
      "\n",
      "\n",
      "\n",
      "\n",
      "\n",
      "\n",
      "\n",
      "\n",
      "\n",
      "\n",
      "\n",
      "\n",
      "\n",
      "thanks for the video ah the memories btw, 2 guys talking to richard at 3 33 are from the cosmic tea party. did you |  meet them\n",
      "thanks for the video ah the memories btw, 2 guys talking to richard at 3 33 are from the cosmic tea party. did you |  know that the tea party is a group of people who are not religious?\n",
      "\n",
      "\n",
      "\n",
      "\n",
      "\n",
      "\n",
      "\n",
      "\n",
      "\n",
      "\n",
      "\n",
      "\n",
      "\n",
      "\n",
      "\n",
      "\n",
      "\n",
      "\n",
      "i was up early vomming are you in berlin yet i spent a good few hours yesterday googling mike patton's |  marital status\n",
      "i was up early vomming are you in berlin yet i spent a good few hours yesterday googling mike patton's |  and i got a good look at the pics. i'm not sure if i'm going to be able to get a look at the pics but i'm sure\n",
      "\n",
      "im enjoying all the sites the internet gives me , ive got like. 3 tabs each on all of 3 windows . so cool and so |  buzy .\n",
      "im enjoying all the sites the internet gives me , ive got like. 3 tabs each on all of 3 windows . so cool and so |  cool.\n",
      "\n",
      "\n",
      "\n",
      "\n",
      "\n",
      "\n",
      "\n",
      "\n",
      "\n",
      "\n",
      "\n",
      "\n",
      "\n",
      "\n",
      "\n",
      "\n",
      "\n",
      "\n",
      "\n",
      "\n",
      "\n",
      "\n",
      "\n",
      "\n",
      "\n",
      "\n",
      "\n",
      "\n",
      "\n",
      "\n",
      "\n",
      "\n",
      "samples saved to: samples_test.txt\n"
     ]
    }
   ],
   "source": [
    "import json\n",
    "import torch\n",
    "import pandas as pd\n",
    "from transformers import AutoTokenizer, AutoModelForCausalLM\n",
    "from src.dataset import NextTokenDataset\n",
    "from src.model import RNNAutocompletion\n",
    "from src.utils import free_gen_rougeL, free_gen_rougeL_distilgpt2\n",
    "\n",
    "TEST_DATA_PATH = r\"data\\test.json\"\n",
    "BEST_WEIGHTS = r\"exp\\exp1\\weights\\best.pt\"\n",
    "\n",
    "CHUNK_LEN = 32\n",
    "STRIDE = CHUNK_LEN\n",
    "BATCH_SIZE = 256\n",
    "\n",
    "K_LIST = (1, 7, 21, 28)\n",
    "REF_MAX_TOKENS = 32\n",
    "GEN_MAX_NEW_TOKENS = REF_MAX_TOKENS\n",
    "SAMPLES_PER_K = 5\n",
    "\n",
    "device = torch.device(\"cuda\" if torch.cuda.is_available() else \"cpu\")\n",
    "device_type = device.type\n",
    "print(f\"device: {device}\")\n",
    "\n",
    "tokenizer = AutoTokenizer.from_pretrained(\"distilgpt2\", use_fast=True)\n",
    "tokenizer.add_special_tokens({\"pad_token\": \"<PAD>\"})\n",
    "pad_token_id = tokenizer.pad_token_id\n",
    "eos_token_id = tokenizer.eos_token_id\n",
    "vocab_size = len(tokenizer)\n",
    "\n",
    "with open(TEST_DATA_PATH, \"r\", encoding=\"utf-8\") as f:\n",
    "    test_sequences = json.load(f)\n",
    "\n",
    "ds_test = NextTokenDataset(test_sequences, chunk_length=CHUNK_LEN, stride=STRIDE, offset=0)\n",
    "test_msgs = [m.tolist() if isinstance(m, torch.Tensor) else list(m) for m in ds_test.msgs]\n",
    "\n",
    "DIM, NUM_LAYERS, DROPOUT = 256, 2, 0.3\n",
    "rnn_model = RNNAutocompletion(\n",
    "    vocab_size=vocab_size,\n",
    "    pad_token_id=pad_token_id,\n",
    "    eos_token_id=eos_token_id,\n",
    "    dim=DIM,\n",
    "    num_layers=NUM_LAYERS,\n",
    "    dropout=DROPOUT,\n",
    ").to(device).eval()\n",
    "\n",
    "rnn_model.load_state_dict(torch.load(BEST_WEIGHTS, map_location=device))\n",
    "\n",
    "out_rnn = free_gen_rougeL(\n",
    "    msgs=test_msgs,\n",
    "    model=rnn_model,\n",
    "    tokenizer=tokenizer,\n",
    "    eos_id=eos_token_id,\n",
    "    k_list=K_LIST,\n",
    "    ref_max_tokens=REF_MAX_TOKENS,\n",
    "    gen_max_new_tokens=GEN_MAX_NEW_TOKENS,\n",
    "    batch_size=BATCH_SIZE,\n",
    "    device=device_type,\n",
    "    samples_per_k=SAMPLES_PER_K,\n",
    ")\n",
    "\n",
    "distilgpt2_model = AutoModelForCausalLM.from_pretrained(\"distilgpt2\")\n",
    "distilgpt2_model.resize_token_embeddings(len(tokenizer))\n",
    "distilgpt2_model.config.pad_token_id = tokenizer.pad_token_id\n",
    "distilgpt2_model.config.eos_token_id = eos_token_id\n",
    "distilgpt2_model = distilgpt2_model.to(device).eval()\n",
    "\n",
    "vocab_n = distilgpt2_model.get_input_embeddings().num_embeddings\n",
    "max_id = max((max(seq) for seq in test_msgs if len(seq) > 0), default=0)\n",
    "assert max_id < vocab_n, f\"token id {max_id} >= vocab size {vocab_n}\"\n",
    "\n",
    "out_distilgpt2 = free_gen_rougeL_distilgpt2(\n",
    "    msgs=test_msgs,\n",
    "    model=distilgpt2_model,\n",
    "    tokenizer=tokenizer,\n",
    "    eos_id=eos_token_id,\n",
    "    k_list=K_LIST,\n",
    "    ref_max_tokens=REF_MAX_TOKENS,\n",
    "    gen_max_new_tokens=GEN_MAX_NEW_TOKENS,\n",
    "    batch_size=BATCH_SIZE,\n",
    "    device=device_type,\n",
    "    samples_per_k=SAMPLES_PER_K,\n",
    ")\n",
    "\n",
    "rows = []\n",
    "for k in K_LIST:\n",
    "    mr = out_rnn[\"metrics\"].get(k, {\"rougeL\": 0.0, \"count\": 0})\n",
    "    mh = out_distilgpt2[\"metrics\"].get(k, {\"rougeL\": 0.0, \"count\": 0})\n",
    "    rows.append(\n",
    "        {\n",
    "            \"K\": k,\n",
    "            \"RNN_rougeL\": mr[\"rougeL\"],\n",
    "            \"RNN_count\": mr[\"count\"],\n",
    "            \"distilgpt2_rougeL\": mh[\"rougeL\"],\n",
    "            \"distilgpt2_count\": mh[\"count\"],\n",
    "            \"delta_distilgpt2_minus_RNN\": mh[\"rougeL\"] - mr[\"rougeL\"],\n",
    "        }\n",
    "    )\n",
    "\n",
    "df = pd.DataFrame(rows).set_index(\"K\")\n",
    "print()\n",
    "print(\"ROUGE-L (test):\")\n",
    "print(df.to_string(float_format=lambda x: f\"{x:.4f}\"))\n",
    "\n",
    "samples_path = \"samples_test.txt\"\n",
    "with open(samples_path, \"w\", encoding=\"utf-8\") as f:\n",
    "    for name, out in [(\"rnn\", out_rnn), (\"distilgpt2\", out_distilgpt2)]:\n",
    "        print(f\"\\n{name} samples\")\n",
    "        f.write(f\"{name} samples\\n\")\n",
    "        for k in K_LIST:\n",
    "            samples = out[\"samples\"].get(k, [])\n",
    "            if not samples:\n",
    "                continue\n",
    "            print(f\"\\nK={k}\")\n",
    "            f.write(f\"\\nK={k}\\n\")\n",
    "            for s in samples:\n",
    "                ctx = s[\"context_text\"]\n",
    "                ref = s[\"reference_text\"]\n",
    "                pred = s[\"prediction_text\"]\n",
    "                print(f\"{ctx} | {ref}\")\n",
    "                print(f\"{ctx} | {pred}\\n\")\n",
    "                f.write(f\"{ctx} | {ref}\\n\")\n",
    "                f.write(f\"{ctx} | {pred}\\n\\n\")\n",
    "print()\n",
    "print(f\"samples saved to: {samples_path}\")\n"
   ]
  },
  {
   "cell_type": "markdown",
   "id": "659ea389",
   "metadata": {},
   "source": [
    "**Вывод по метрикам**: RNN стабильно лучше на всех K. Особенно заметно преимущество на очень коротком (K=1) и длинном (K=28) контексте.\n",
    "\n",
    "### Визуальная проверка по примерам\n",
    "\n",
    "**RNN (отрывки):**\n",
    "- `i'm happy it happened for you | 're not going to be able to make it to the show tonight` — продолжение по смыслу и стилистике разговорное, уместное.  \n",
    "- `at gabby's grad i can | 't wait to see you` — хорошо угадывает намерение фразы.  \n",
    "- `think its his twin ... oh and i | miss him so much` — логичное и связное.  \n",
    "\n",
    "**distilgpt2 (pretrained, без дообучения):**\n",
    "- Часто уходит в новостной стиль («The New York Times…»), длинные тягучие предложения, повторения, дрейф темы.  \n",
    "- Для бытовых/соцсетевых контекстов стиль и лексика часто не совпадают с доменом данных.\n",
    "\n",
    "Вывод по примерам: RNN лучше сохраняет стиль и локальную мысль исходного сообщения. У distilgpt2 наблюдаются оффтоп и жанровое несоответствие.\n",
    "\n",
    "### Рекомендации по использованию в проекте\n",
    "\n",
    "В контексте задачи автодополнения сообщений (коротких бытовых текстов, заметок, постов):\n",
    "\n",
    "1. **Выбор модели.**  \n",
    "   Для продакшена целесообразно использовать именно нашу **обученную RNN-модель**:\n",
    "   - она заметно лучше справляется с бытовым стилем текстов, чем «сырой» distilgpt2;\n",
    "   - по метрикам ROUGE-L показывает устойчивое превосходство на всех длинах контекста;\n",
    "   - архитектура проще и компактнее, быстрее обучается и дешевле в инференсе, что важно для внедрения в реальные продукты с ограниченными ресурсами.\n",
    "\n",
    "2. **Качество генерации.**  \n",
    "   Сейчас используется жадный (greedy) поиск. Это приводит к:\n",
    "   - корректным, но порой слишком коротким завершениям;\n",
    "   - ограниченному разнообразию ответов.  \n",
    "\n",
    "   Возможное улучшение: применить **семплинг** с небольшой температурой. \n",
    "\n",
    "**Итого:**  \n",
    "В текущем виде **RNN-модель — лучший выбор** для проекта как простая, небольшая и хорошо адаптированная под домен «бытовых текстов». Она подходит для использования в качестве движка автодополнения, а переход от greedy к sampling-генерации способен сделать предсказания ещё более живыми и приближенными к реальной переписке."
   ]
  },
  {
   "cell_type": "markdown",
   "id": "b162100c",
   "metadata": {},
   "source": []
  }
 ],
 "metadata": {
  "kernelspec": {
   "display_name": ".venv",
   "language": "python",
   "name": "python3"
  },
  "language_info": {
   "codemirror_mode": {
    "name": "ipython",
    "version": 3
   },
   "file_extension": ".py",
   "mimetype": "text/x-python",
   "name": "python",
   "nbconvert_exporter": "python",
   "pygments_lexer": "ipython3",
   "version": "3.11.8"
  }
 },
 "nbformat": 4,
 "nbformat_minor": 5
}
